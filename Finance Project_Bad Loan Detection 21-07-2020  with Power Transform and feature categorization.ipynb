{
 "cells": [
  {
   "cell_type": "code",
   "execution_count": 1,
   "metadata": {},
   "outputs": [],
   "source": [
    "import pandas as pd\n",
    "import numpy as np\n",
    "import matplotlib.pyplot as plt\n",
    "import seaborn as sns\n",
    "from sklearn.preprocessing import StandardScaler, MinMaxScaler, RobustScaler,PowerTransformer\n",
    "%matplotlib inline\n",
    "import warnings\n",
    "warnings.filterwarnings(\"ignore\")\n",
    "from sklearn.metrics import confusion_matrix\n",
    "from sklearn.metrics import classification_report"
   ]
  },
  {
   "cell_type": "markdown",
   "metadata": {},
   "source": [
    "# Reading of Data"
   ]
  },
  {
   "cell_type": "code",
   "execution_count": 2,
   "metadata": {},
   "outputs": [
    {
     "data": {
      "text/html": [
       "<div>\n",
       "<style scoped>\n",
       "    .dataframe tbody tr th:only-of-type {\n",
       "        vertical-align: middle;\n",
       "    }\n",
       "\n",
       "    .dataframe tbody tr th {\n",
       "        vertical-align: top;\n",
       "    }\n",
       "\n",
       "    .dataframe thead th {\n",
       "        text-align: right;\n",
       "    }\n",
       "</style>\n",
       "<table border=\"1\" class=\"dataframe\">\n",
       "  <thead>\n",
       "    <tr style=\"text-align: right;\">\n",
       "      <th></th>\n",
       "      <th>loan_amnt</th>\n",
       "      <th>term</th>\n",
       "      <th>int_rate</th>\n",
       "      <th>emp_length</th>\n",
       "      <th>home_ownership</th>\n",
       "      <th>annual_inc</th>\n",
       "      <th>purpose</th>\n",
       "      <th>addr_state</th>\n",
       "      <th>dti</th>\n",
       "      <th>delinq_2yrs</th>\n",
       "      <th>revol_util</th>\n",
       "      <th>total_acc</th>\n",
       "      <th>bad_loan</th>\n",
       "      <th>longest_credit_length</th>\n",
       "      <th>verification_status</th>\n",
       "    </tr>\n",
       "  </thead>\n",
       "  <tbody>\n",
       "    <tr>\n",
       "      <th>0</th>\n",
       "      <td>5000</td>\n",
       "      <td>36 months</td>\n",
       "      <td>10.65</td>\n",
       "      <td>10.0</td>\n",
       "      <td>RENT</td>\n",
       "      <td>24000.0</td>\n",
       "      <td>credit_card</td>\n",
       "      <td>AZ</td>\n",
       "      <td>27.65</td>\n",
       "      <td>0.0</td>\n",
       "      <td>83.7</td>\n",
       "      <td>9.0</td>\n",
       "      <td>0</td>\n",
       "      <td>26.0</td>\n",
       "      <td>verified</td>\n",
       "    </tr>\n",
       "    <tr>\n",
       "      <th>1</th>\n",
       "      <td>2500</td>\n",
       "      <td>60 months</td>\n",
       "      <td>15.27</td>\n",
       "      <td>0.0</td>\n",
       "      <td>RENT</td>\n",
       "      <td>30000.0</td>\n",
       "      <td>car</td>\n",
       "      <td>GA</td>\n",
       "      <td>1.00</td>\n",
       "      <td>0.0</td>\n",
       "      <td>9.4</td>\n",
       "      <td>4.0</td>\n",
       "      <td>1</td>\n",
       "      <td>12.0</td>\n",
       "      <td>verified</td>\n",
       "    </tr>\n",
       "    <tr>\n",
       "      <th>2</th>\n",
       "      <td>2400</td>\n",
       "      <td>36 months</td>\n",
       "      <td>15.96</td>\n",
       "      <td>10.0</td>\n",
       "      <td>RENT</td>\n",
       "      <td>12252.0</td>\n",
       "      <td>small_business</td>\n",
       "      <td>IL</td>\n",
       "      <td>8.72</td>\n",
       "      <td>0.0</td>\n",
       "      <td>98.5</td>\n",
       "      <td>10.0</td>\n",
       "      <td>0</td>\n",
       "      <td>10.0</td>\n",
       "      <td>not verified</td>\n",
       "    </tr>\n",
       "    <tr>\n",
       "      <th>3</th>\n",
       "      <td>10000</td>\n",
       "      <td>36 months</td>\n",
       "      <td>13.49</td>\n",
       "      <td>10.0</td>\n",
       "      <td>RENT</td>\n",
       "      <td>49200.0</td>\n",
       "      <td>other</td>\n",
       "      <td>CA</td>\n",
       "      <td>20.00</td>\n",
       "      <td>0.0</td>\n",
       "      <td>21.0</td>\n",
       "      <td>37.0</td>\n",
       "      <td>0</td>\n",
       "      <td>15.0</td>\n",
       "      <td>verified</td>\n",
       "    </tr>\n",
       "    <tr>\n",
       "      <th>4</th>\n",
       "      <td>5000</td>\n",
       "      <td>36 months</td>\n",
       "      <td>7.90</td>\n",
       "      <td>3.0</td>\n",
       "      <td>RENT</td>\n",
       "      <td>36000.0</td>\n",
       "      <td>wedding</td>\n",
       "      <td>AZ</td>\n",
       "      <td>11.20</td>\n",
       "      <td>0.0</td>\n",
       "      <td>28.3</td>\n",
       "      <td>12.0</td>\n",
       "      <td>0</td>\n",
       "      <td>7.0</td>\n",
       "      <td>verified</td>\n",
       "    </tr>\n",
       "  </tbody>\n",
       "</table>\n",
       "</div>"
      ],
      "text/plain": [
       "   loan_amnt       term  int_rate  emp_length home_ownership  annual_inc  \\\n",
       "0       5000  36 months     10.65        10.0           RENT     24000.0   \n",
       "1       2500  60 months     15.27         0.0           RENT     30000.0   \n",
       "2       2400  36 months     15.96        10.0           RENT     12252.0   \n",
       "3      10000  36 months     13.49        10.0           RENT     49200.0   \n",
       "4       5000  36 months      7.90         3.0           RENT     36000.0   \n",
       "\n",
       "          purpose addr_state    dti  delinq_2yrs  revol_util  total_acc  \\\n",
       "0     credit_card         AZ  27.65          0.0        83.7        9.0   \n",
       "1             car         GA   1.00          0.0         9.4        4.0   \n",
       "2  small_business         IL   8.72          0.0        98.5       10.0   \n",
       "3           other         CA  20.00          0.0        21.0       37.0   \n",
       "4         wedding         AZ  11.20          0.0        28.3       12.0   \n",
       "\n",
       "   bad_loan  longest_credit_length verification_status  \n",
       "0         0                   26.0            verified  \n",
       "1         1                   12.0            verified  \n",
       "2         0                   10.0        not verified  \n",
       "3         0                   15.0            verified  \n",
       "4         0                    7.0            verified  "
      ]
     },
     "execution_count": 2,
     "metadata": {},
     "output_type": "execute_result"
    }
   ],
   "source": [
    "location=r'D:\\Velocity Corporate Training\\Python\\Databases\\Finance Project\\loan.csv'\n",
    "df=pd.read_csv(location)\n",
    "df.head()"
   ]
  },
  {
   "cell_type": "code",
   "execution_count": 3,
   "metadata": {},
   "outputs": [
    {
     "name": "stdout",
     "output_type": "stream",
     "text": [
      "<class 'pandas.core.frame.DataFrame'>\n",
      "RangeIndex: 163987 entries, 0 to 163986\n",
      "Data columns (total 15 columns):\n",
      "loan_amnt                163987 non-null int64\n",
      "term                     163987 non-null object\n",
      "int_rate                 163987 non-null float64\n",
      "emp_length               158183 non-null float64\n",
      "home_ownership           163987 non-null object\n",
      "annual_inc               163983 non-null float64\n",
      "purpose                  163987 non-null object\n",
      "addr_state               163987 non-null object\n",
      "dti                      163987 non-null float64\n",
      "delinq_2yrs              163958 non-null float64\n",
      "revol_util               163794 non-null float64\n",
      "total_acc                163958 non-null float64\n",
      "bad_loan                 163987 non-null int64\n",
      "longest_credit_length    163958 non-null float64\n",
      "verification_status      163987 non-null object\n",
      "dtypes: float64(8), int64(2), object(5)\n",
      "memory usage: 18.8+ MB\n"
     ]
    }
   ],
   "source": [
    "df.info()"
   ]
  },
  {
   "cell_type": "code",
   "execution_count": 4,
   "metadata": {},
   "outputs": [
    {
     "data": {
      "text/html": [
       "<div>\n",
       "<style scoped>\n",
       "    .dataframe tbody tr th:only-of-type {\n",
       "        vertical-align: middle;\n",
       "    }\n",
       "\n",
       "    .dataframe tbody tr th {\n",
       "        vertical-align: top;\n",
       "    }\n",
       "\n",
       "    .dataframe thead th {\n",
       "        text-align: right;\n",
       "    }\n",
       "</style>\n",
       "<table border=\"1\" class=\"dataframe\">\n",
       "  <thead>\n",
       "    <tr style=\"text-align: right;\">\n",
       "      <th></th>\n",
       "      <th>loan_amnt</th>\n",
       "      <th>int_rate</th>\n",
       "      <th>emp_length</th>\n",
       "      <th>annual_inc</th>\n",
       "      <th>dti</th>\n",
       "      <th>delinq_2yrs</th>\n",
       "      <th>revol_util</th>\n",
       "      <th>total_acc</th>\n",
       "      <th>bad_loan</th>\n",
       "      <th>longest_credit_length</th>\n",
       "    </tr>\n",
       "  </thead>\n",
       "  <tbody>\n",
       "    <tr>\n",
       "      <th>count</th>\n",
       "      <td>163987.000000</td>\n",
       "      <td>163987.000000</td>\n",
       "      <td>158183.000000</td>\n",
       "      <td>1.639830e+05</td>\n",
       "      <td>163987.000000</td>\n",
       "      <td>163958.000000</td>\n",
       "      <td>163794.000000</td>\n",
       "      <td>163958.000000</td>\n",
       "      <td>163987.000000</td>\n",
       "      <td>163958.000000</td>\n",
       "    </tr>\n",
       "    <tr>\n",
       "      <th>mean</th>\n",
       "      <td>13074.169141</td>\n",
       "      <td>13.715904</td>\n",
       "      <td>5.684353</td>\n",
       "      <td>7.191567e+04</td>\n",
       "      <td>15.881530</td>\n",
       "      <td>0.227357</td>\n",
       "      <td>54.079173</td>\n",
       "      <td>24.579734</td>\n",
       "      <td>0.183039</td>\n",
       "      <td>14.854274</td>\n",
       "    </tr>\n",
       "    <tr>\n",
       "      <th>std</th>\n",
       "      <td>7993.556189</td>\n",
       "      <td>4.391940</td>\n",
       "      <td>3.610664</td>\n",
       "      <td>5.907092e+04</td>\n",
       "      <td>7.587668</td>\n",
       "      <td>0.694168</td>\n",
       "      <td>25.285367</td>\n",
       "      <td>11.685190</td>\n",
       "      <td>0.386700</td>\n",
       "      <td>6.947733</td>\n",
       "    </tr>\n",
       "    <tr>\n",
       "      <th>min</th>\n",
       "      <td>500.000000</td>\n",
       "      <td>5.420000</td>\n",
       "      <td>0.000000</td>\n",
       "      <td>1.896000e+03</td>\n",
       "      <td>0.000000</td>\n",
       "      <td>0.000000</td>\n",
       "      <td>0.000000</td>\n",
       "      <td>1.000000</td>\n",
       "      <td>0.000000</td>\n",
       "      <td>0.000000</td>\n",
       "    </tr>\n",
       "    <tr>\n",
       "      <th>25%</th>\n",
       "      <td>7000.000000</td>\n",
       "      <td>10.650000</td>\n",
       "      <td>2.000000</td>\n",
       "      <td>4.500000e+04</td>\n",
       "      <td>10.230000</td>\n",
       "      <td>0.000000</td>\n",
       "      <td>35.600000</td>\n",
       "      <td>16.000000</td>\n",
       "      <td>0.000000</td>\n",
       "      <td>10.000000</td>\n",
       "    </tr>\n",
       "    <tr>\n",
       "      <th>50%</th>\n",
       "      <td>11325.000000</td>\n",
       "      <td>13.490000</td>\n",
       "      <td>6.000000</td>\n",
       "      <td>6.100000e+04</td>\n",
       "      <td>15.620000</td>\n",
       "      <td>0.000000</td>\n",
       "      <td>55.800000</td>\n",
       "      <td>23.000000</td>\n",
       "      <td>0.000000</td>\n",
       "      <td>14.000000</td>\n",
       "    </tr>\n",
       "    <tr>\n",
       "      <th>75%</th>\n",
       "      <td>18000.000000</td>\n",
       "      <td>16.320000</td>\n",
       "      <td>10.000000</td>\n",
       "      <td>8.500000e+04</td>\n",
       "      <td>21.260000</td>\n",
       "      <td>0.000000</td>\n",
       "      <td>74.200000</td>\n",
       "      <td>31.000000</td>\n",
       "      <td>0.000000</td>\n",
       "      <td>18.000000</td>\n",
       "    </tr>\n",
       "    <tr>\n",
       "      <th>max</th>\n",
       "      <td>35000.000000</td>\n",
       "      <td>26.060000</td>\n",
       "      <td>10.000000</td>\n",
       "      <td>7.141778e+06</td>\n",
       "      <td>39.990000</td>\n",
       "      <td>29.000000</td>\n",
       "      <td>150.700000</td>\n",
       "      <td>118.000000</td>\n",
       "      <td>1.000000</td>\n",
       "      <td>65.000000</td>\n",
       "    </tr>\n",
       "  </tbody>\n",
       "</table>\n",
       "</div>"
      ],
      "text/plain": [
       "           loan_amnt       int_rate     emp_length    annual_inc  \\\n",
       "count  163987.000000  163987.000000  158183.000000  1.639830e+05   \n",
       "mean    13074.169141      13.715904       5.684353  7.191567e+04   \n",
       "std      7993.556189       4.391940       3.610664  5.907092e+04   \n",
       "min       500.000000       5.420000       0.000000  1.896000e+03   \n",
       "25%      7000.000000      10.650000       2.000000  4.500000e+04   \n",
       "50%     11325.000000      13.490000       6.000000  6.100000e+04   \n",
       "75%     18000.000000      16.320000      10.000000  8.500000e+04   \n",
       "max     35000.000000      26.060000      10.000000  7.141778e+06   \n",
       "\n",
       "                 dti    delinq_2yrs     revol_util      total_acc  \\\n",
       "count  163987.000000  163958.000000  163794.000000  163958.000000   \n",
       "mean       15.881530       0.227357      54.079173      24.579734   \n",
       "std         7.587668       0.694168      25.285367      11.685190   \n",
       "min         0.000000       0.000000       0.000000       1.000000   \n",
       "25%        10.230000       0.000000      35.600000      16.000000   \n",
       "50%        15.620000       0.000000      55.800000      23.000000   \n",
       "75%        21.260000       0.000000      74.200000      31.000000   \n",
       "max        39.990000      29.000000     150.700000     118.000000   \n",
       "\n",
       "            bad_loan  longest_credit_length  \n",
       "count  163987.000000          163958.000000  \n",
       "mean        0.183039              14.854274  \n",
       "std         0.386700               6.947733  \n",
       "min         0.000000               0.000000  \n",
       "25%         0.000000              10.000000  \n",
       "50%         0.000000              14.000000  \n",
       "75%         0.000000              18.000000  \n",
       "max         1.000000              65.000000  "
      ]
     },
     "execution_count": 4,
     "metadata": {},
     "output_type": "execute_result"
    }
   ],
   "source": [
    "df.describe()"
   ]
  },
  {
   "cell_type": "code",
   "execution_count": 5,
   "metadata": {},
   "outputs": [],
   "source": [
    "#Remove 'month' from term\n",
    "\n",
    "df['term']=df['term'].replace({'36 months':36,'60 months':60})"
   ]
  },
  {
   "cell_type": "code",
   "execution_count": 6,
   "metadata": {},
   "outputs": [
    {
     "name": "stdout",
     "output_type": "stream",
     "text": [
      "['home_ownership', 'purpose', 'addr_state', 'verification_status']\n"
     ]
    }
   ],
   "source": [
    "# Finding Categorical Columns\n",
    "categorical_feature_mask = df.dtypes==object\n",
    "\n",
    "# filter categorical columns using mask and turn it into a list\n",
    "categorical_cols = df.columns[categorical_feature_mask].tolist()\n",
    "print(categorical_cols)"
   ]
  },
  {
   "cell_type": "code",
   "execution_count": 7,
   "metadata": {},
   "outputs": [
    {
     "name": "stdout",
     "output_type": "stream",
     "text": [
      "['loan_amnt', 'term', 'int_rate', 'emp_length', 'annual_inc', 'dti', 'delinq_2yrs', 'revol_util', 'total_acc', 'bad_loan', 'longest_credit_length']\n"
     ]
    }
   ],
   "source": [
    "# Finding Numerical Columns\n",
    "numerical_feature_mask = df.dtypes!=object\n",
    "\n",
    "# filter categorical columns using mask and turn it into a list\n",
    "numerical_cols = df.columns[numerical_feature_mask].tolist()\n",
    "print(numerical_cols)"
   ]
  },
  {
   "cell_type": "markdown",
   "metadata": {},
   "source": [
    "# Handling Missing Values"
   ]
  },
  {
   "cell_type": "code",
   "execution_count": 8,
   "metadata": {},
   "outputs": [
    {
     "data": {
      "text/plain": [
       "loan_amnt                   0\n",
       "term                        0\n",
       "int_rate                    0\n",
       "emp_length               5804\n",
       "home_ownership              0\n",
       "annual_inc                  4\n",
       "purpose                     0\n",
       "addr_state                  0\n",
       "dti                         0\n",
       "delinq_2yrs                29\n",
       "revol_util                193\n",
       "total_acc                  29\n",
       "bad_loan                    0\n",
       "longest_credit_length      29\n",
       "verification_status         0\n",
       "dtype: int64"
      ]
     },
     "execution_count": 8,
     "metadata": {},
     "output_type": "execute_result"
    }
   ],
   "source": [
    "df.isnull().sum()"
   ]
  },
  {
   "cell_type": "code",
   "execution_count": 9,
   "metadata": {},
   "outputs": [
    {
     "data": {
      "text/plain": [
       "0"
      ]
     },
     "execution_count": 9,
     "metadata": {},
     "output_type": "execute_result"
    }
   ],
   "source": [
    "df['emp_length']=df['emp_length'].fillna(df['emp_length'].mean())\n",
    "df['emp_length'].isnull().sum()"
   ]
  },
  {
   "cell_type": "code",
   "execution_count": 10,
   "metadata": {},
   "outputs": [
    {
     "data": {
      "text/plain": [
       "0"
      ]
     },
     "execution_count": 10,
     "metadata": {},
     "output_type": "execute_result"
    }
   ],
   "source": [
    "df['annual_inc']=df['annual_inc'].fillna(df['annual_inc'].mean())\n",
    "df['annual_inc'].isnull().sum()"
   ]
  },
  {
   "cell_type": "code",
   "execution_count": 11,
   "metadata": {},
   "outputs": [
    {
     "data": {
      "text/plain": [
       "0"
      ]
     },
     "execution_count": 11,
     "metadata": {},
     "output_type": "execute_result"
    }
   ],
   "source": [
    "df['delinq_2yrs']=df['delinq_2yrs'].fillna(df['delinq_2yrs'].mode()[0])\n",
    "df['delinq_2yrs'].isnull().sum()"
   ]
  },
  {
   "cell_type": "code",
   "execution_count": 12,
   "metadata": {},
   "outputs": [
    {
     "data": {
      "text/plain": [
       "0"
      ]
     },
     "execution_count": 12,
     "metadata": {},
     "output_type": "execute_result"
    }
   ],
   "source": [
    "df['revol_util']=df['revol_util'].fillna(df['revol_util'].median())\n",
    "df['revol_util'].isnull().sum()"
   ]
  },
  {
   "cell_type": "code",
   "execution_count": 13,
   "metadata": {},
   "outputs": [
    {
     "data": {
      "text/plain": [
       "0"
      ]
     },
     "execution_count": 13,
     "metadata": {},
     "output_type": "execute_result"
    }
   ],
   "source": [
    "df['total_acc']=df['total_acc'].fillna(df['total_acc'].median())\n",
    "df['total_acc'].isnull().sum()"
   ]
  },
  {
   "cell_type": "code",
   "execution_count": 14,
   "metadata": {},
   "outputs": [
    {
     "data": {
      "text/plain": [
       "0"
      ]
     },
     "execution_count": 14,
     "metadata": {},
     "output_type": "execute_result"
    }
   ],
   "source": [
    "df['longest_credit_length']=df['longest_credit_length'].fillna(df['longest_credit_length'].mode()[0])\n",
    "df['longest_credit_length'].isnull().sum()"
   ]
  },
  {
   "cell_type": "code",
   "execution_count": 15,
   "metadata": {},
   "outputs": [
    {
     "data": {
      "text/plain": [
       "loan_amnt                0\n",
       "term                     0\n",
       "int_rate                 0\n",
       "emp_length               0\n",
       "home_ownership           0\n",
       "annual_inc               0\n",
       "purpose                  0\n",
       "addr_state               0\n",
       "dti                      0\n",
       "delinq_2yrs              0\n",
       "revol_util               0\n",
       "total_acc                0\n",
       "bad_loan                 0\n",
       "longest_credit_length    0\n",
       "verification_status      0\n",
       "dtype: int64"
      ]
     },
     "execution_count": 15,
     "metadata": {},
     "output_type": "execute_result"
    }
   ],
   "source": [
    "df.isnull().sum()"
   ]
  },
  {
   "cell_type": "markdown",
   "metadata": {},
   "source": [
    "# Categorical Columns to Numeric :- Label Encoding"
   ]
  },
  {
   "cell_type": "code",
   "execution_count": 16,
   "metadata": {},
   "outputs": [],
   "source": [
    "#'home_ownership', 'purpose', 'addr_state', 'verification_status'"
   ]
  },
  {
   "cell_type": "code",
   "execution_count": 17,
   "metadata": {},
   "outputs": [],
   "source": [
    "# Import label encoder \n",
    "from sklearn import preprocessing \n",
    "  \n",
    "# label_encoder object knows how to understand word labels. \n",
    "label_encoder = preprocessing.LabelEncoder() "
   ]
  },
  {
   "cell_type": "code",
   "execution_count": 18,
   "metadata": {},
   "outputs": [
    {
     "data": {
      "text/plain": [
       "array([5, 4, 1, 3, 2, 0], dtype=int64)"
      ]
     },
     "execution_count": 18,
     "metadata": {},
     "output_type": "execute_result"
    }
   ],
   "source": [
    "# Encode labels in column 'home_ownership'. \n",
    "df['home_ownership']= label_encoder.fit_transform(df['home_ownership']) \n",
    "  \n",
    "df['home_ownership'].unique()"
   ]
  },
  {
   "cell_type": "code",
   "execution_count": 19,
   "metadata": {},
   "outputs": [
    {
     "data": {
      "text/plain": [
       "array([ 1,  0, 11,  9, 13,  2,  4,  6,  7,  8, 12,  5, 10,  3],\n",
       "      dtype=int64)"
      ]
     },
     "execution_count": 19,
     "metadata": {},
     "output_type": "execute_result"
    }
   ],
   "source": [
    "# Encode labels in column 'purpose'. \n",
    "df['purpose']= label_encoder.fit_transform(df['purpose']) \n",
    "  \n",
    "df['purpose'].unique()"
   ]
  },
  {
   "cell_type": "code",
   "execution_count": 20,
   "metadata": {},
   "outputs": [
    {
     "data": {
      "text/plain": [
       "array([ 3, 10, 14,  4, 42, 44, 24,  6, 43,  9, 33, 37, 23, 30, 36, 17, 34,\n",
       "       39, 38, 18, 19, 46, 47,  1, 32,  5, 20, 48, 45, 22,  7, 40, 27,  2,\n",
       "       16, 31, 11,  0, 35, 26, 49, 29,  8, 25, 41, 12, 28, 13, 15, 21],\n",
       "      dtype=int64)"
      ]
     },
     "execution_count": 20,
     "metadata": {},
     "output_type": "execute_result"
    }
   ],
   "source": [
    "# Encode labels in column 'addr_state'. \n",
    "df['addr_state']= label_encoder.fit_transform(df['addr_state']) \n",
    "  \n",
    "df['addr_state'].unique()"
   ]
  },
  {
   "cell_type": "code",
   "execution_count": 21,
   "metadata": {},
   "outputs": [
    {
     "data": {
      "text/plain": [
       "array([ 3, 10, 14,  4, 42, 44, 24,  6, 43,  9, 33, 37, 23, 30, 36, 17, 34,\n",
       "       39, 38, 18, 19, 46, 47,  1, 32,  5, 20, 48, 45, 22,  7, 40, 27,  2,\n",
       "       16, 31, 11,  0, 35, 26, 49, 29,  8, 25, 41, 12, 28, 13, 15, 21],\n",
       "      dtype=int64)"
      ]
     },
     "execution_count": 21,
     "metadata": {},
     "output_type": "execute_result"
    }
   ],
   "source": [
    "# Encode labels in column 'addr_state'. \n",
    "df['addr_state']= label_encoder.fit_transform(df['addr_state']) \n",
    "  \n",
    "df['addr_state'].unique()"
   ]
  },
  {
   "cell_type": "code",
   "execution_count": 22,
   "metadata": {},
   "outputs": [
    {
     "data": {
      "text/plain": [
       "array([1, 0], dtype=int64)"
      ]
     },
     "execution_count": 22,
     "metadata": {},
     "output_type": "execute_result"
    }
   ],
   "source": [
    "# Encode labels in column 'verification_status'. \n",
    "df['verification_status']= label_encoder.fit_transform(df['verification_status']) \n",
    "  \n",
    "df['verification_status'].unique()"
   ]
  },
  {
   "cell_type": "code",
   "execution_count": 23,
   "metadata": {},
   "outputs": [
    {
     "data": {
      "text/html": [
       "<div>\n",
       "<style scoped>\n",
       "    .dataframe tbody tr th:only-of-type {\n",
       "        vertical-align: middle;\n",
       "    }\n",
       "\n",
       "    .dataframe tbody tr th {\n",
       "        vertical-align: top;\n",
       "    }\n",
       "\n",
       "    .dataframe thead th {\n",
       "        text-align: right;\n",
       "    }\n",
       "</style>\n",
       "<table border=\"1\" class=\"dataframe\">\n",
       "  <thead>\n",
       "    <tr style=\"text-align: right;\">\n",
       "      <th></th>\n",
       "      <th>loan_amnt</th>\n",
       "      <th>term</th>\n",
       "      <th>int_rate</th>\n",
       "      <th>emp_length</th>\n",
       "      <th>home_ownership</th>\n",
       "      <th>annual_inc</th>\n",
       "      <th>purpose</th>\n",
       "      <th>addr_state</th>\n",
       "      <th>dti</th>\n",
       "      <th>delinq_2yrs</th>\n",
       "      <th>revol_util</th>\n",
       "      <th>total_acc</th>\n",
       "      <th>bad_loan</th>\n",
       "      <th>longest_credit_length</th>\n",
       "      <th>verification_status</th>\n",
       "    </tr>\n",
       "  </thead>\n",
       "  <tbody>\n",
       "    <tr>\n",
       "      <th>0</th>\n",
       "      <td>5000</td>\n",
       "      <td>36</td>\n",
       "      <td>10.65</td>\n",
       "      <td>10.0</td>\n",
       "      <td>5</td>\n",
       "      <td>24000.0</td>\n",
       "      <td>1</td>\n",
       "      <td>3</td>\n",
       "      <td>27.65</td>\n",
       "      <td>0.0</td>\n",
       "      <td>83.7</td>\n",
       "      <td>9.0</td>\n",
       "      <td>0</td>\n",
       "      <td>26.0</td>\n",
       "      <td>1</td>\n",
       "    </tr>\n",
       "    <tr>\n",
       "      <th>1</th>\n",
       "      <td>2500</td>\n",
       "      <td>60</td>\n",
       "      <td>15.27</td>\n",
       "      <td>0.0</td>\n",
       "      <td>5</td>\n",
       "      <td>30000.0</td>\n",
       "      <td>0</td>\n",
       "      <td>10</td>\n",
       "      <td>1.00</td>\n",
       "      <td>0.0</td>\n",
       "      <td>9.4</td>\n",
       "      <td>4.0</td>\n",
       "      <td>1</td>\n",
       "      <td>12.0</td>\n",
       "      <td>1</td>\n",
       "    </tr>\n",
       "    <tr>\n",
       "      <th>2</th>\n",
       "      <td>2400</td>\n",
       "      <td>36</td>\n",
       "      <td>15.96</td>\n",
       "      <td>10.0</td>\n",
       "      <td>5</td>\n",
       "      <td>12252.0</td>\n",
       "      <td>11</td>\n",
       "      <td>14</td>\n",
       "      <td>8.72</td>\n",
       "      <td>0.0</td>\n",
       "      <td>98.5</td>\n",
       "      <td>10.0</td>\n",
       "      <td>0</td>\n",
       "      <td>10.0</td>\n",
       "      <td>0</td>\n",
       "    </tr>\n",
       "    <tr>\n",
       "      <th>3</th>\n",
       "      <td>10000</td>\n",
       "      <td>36</td>\n",
       "      <td>13.49</td>\n",
       "      <td>10.0</td>\n",
       "      <td>5</td>\n",
       "      <td>49200.0</td>\n",
       "      <td>9</td>\n",
       "      <td>4</td>\n",
       "      <td>20.00</td>\n",
       "      <td>0.0</td>\n",
       "      <td>21.0</td>\n",
       "      <td>37.0</td>\n",
       "      <td>0</td>\n",
       "      <td>15.0</td>\n",
       "      <td>1</td>\n",
       "    </tr>\n",
       "    <tr>\n",
       "      <th>4</th>\n",
       "      <td>5000</td>\n",
       "      <td>36</td>\n",
       "      <td>7.90</td>\n",
       "      <td>3.0</td>\n",
       "      <td>5</td>\n",
       "      <td>36000.0</td>\n",
       "      <td>13</td>\n",
       "      <td>3</td>\n",
       "      <td>11.20</td>\n",
       "      <td>0.0</td>\n",
       "      <td>28.3</td>\n",
       "      <td>12.0</td>\n",
       "      <td>0</td>\n",
       "      <td>7.0</td>\n",
       "      <td>1</td>\n",
       "    </tr>\n",
       "  </tbody>\n",
       "</table>\n",
       "</div>"
      ],
      "text/plain": [
       "   loan_amnt  term  int_rate  emp_length  home_ownership  annual_inc  purpose  \\\n",
       "0       5000    36     10.65        10.0               5     24000.0        1   \n",
       "1       2500    60     15.27         0.0               5     30000.0        0   \n",
       "2       2400    36     15.96        10.0               5     12252.0       11   \n",
       "3      10000    36     13.49        10.0               5     49200.0        9   \n",
       "4       5000    36      7.90         3.0               5     36000.0       13   \n",
       "\n",
       "   addr_state    dti  delinq_2yrs  revol_util  total_acc  bad_loan  \\\n",
       "0           3  27.65          0.0        83.7        9.0         0   \n",
       "1          10   1.00          0.0         9.4        4.0         1   \n",
       "2          14   8.72          0.0        98.5       10.0         0   \n",
       "3           4  20.00          0.0        21.0       37.0         0   \n",
       "4           3  11.20          0.0        28.3       12.0         0   \n",
       "\n",
       "   longest_credit_length  verification_status  \n",
       "0                   26.0                    1  \n",
       "1                   12.0                    1  \n",
       "2                   10.0                    0  \n",
       "3                   15.0                    1  \n",
       "4                    7.0                    1  "
      ]
     },
     "execution_count": 23,
     "metadata": {},
     "output_type": "execute_result"
    }
   ],
   "source": [
    "df.head()"
   ]
  },
  {
   "cell_type": "markdown",
   "metadata": {},
   "source": [
    "# Converting acc_inc into log"
   ]
  },
  {
   "cell_type": "code",
   "execution_count": 24,
   "metadata": {},
   "outputs": [],
   "source": [
    "df['annual_inc']=np.log1p(df['annual_inc'])"
   ]
  },
  {
   "cell_type": "code",
   "execution_count": 25,
   "metadata": {},
   "outputs": [
    {
     "data": {
      "text/plain": [
       "<matplotlib.axes._subplots.AxesSubplot at 0xb3ddda0>"
      ]
     },
     "execution_count": 25,
     "metadata": {},
     "output_type": "execute_result"
    },
    {
     "data": {
      "image/png": "[encoded data removed]",
      "text/plain": [
       "<Figure size 432x288 with 1 Axes>"
      ]
     },
     "metadata": {
      "needs_background": "light"
     },
     "output_type": "display_data"
    }
   ],
   "source": [
    "sns.distplot(df['annual_inc'])"
   ]
  },
  {
   "cell_type": "code",
   "execution_count": 26,
   "metadata": {},
   "outputs": [
    {
     "data": {
      "text/html": [
       "<div>\n",
       "<style scoped>\n",
       "    .dataframe tbody tr th:only-of-type {\n",
       "        vertical-align: middle;\n",
       "    }\n",
       "\n",
       "    .dataframe tbody tr th {\n",
       "        vertical-align: top;\n",
       "    }\n",
       "\n",
       "    .dataframe thead th {\n",
       "        text-align: right;\n",
       "    }\n",
       "</style>\n",
       "<table border=\"1\" class=\"dataframe\">\n",
       "  <thead>\n",
       "    <tr style=\"text-align: right;\">\n",
       "      <th></th>\n",
       "      <th>loan_amnt</th>\n",
       "      <th>term</th>\n",
       "      <th>int_rate</th>\n",
       "      <th>emp_length</th>\n",
       "      <th>home_ownership</th>\n",
       "      <th>annual_inc</th>\n",
       "      <th>purpose</th>\n",
       "      <th>addr_state</th>\n",
       "      <th>dti</th>\n",
       "      <th>delinq_2yrs</th>\n",
       "      <th>revol_util</th>\n",
       "      <th>total_acc</th>\n",
       "      <th>bad_loan</th>\n",
       "      <th>longest_credit_length</th>\n",
       "      <th>verification_status</th>\n",
       "    </tr>\n",
       "  </thead>\n",
       "  <tbody>\n",
       "    <tr>\n",
       "      <th>count</th>\n",
       "      <td>163987.000000</td>\n",
       "      <td>163987.000000</td>\n",
       "      <td>163987.000000</td>\n",
       "      <td>163987.000000</td>\n",
       "      <td>163987.000000</td>\n",
       "      <td>163987.000000</td>\n",
       "      <td>163987.000000</td>\n",
       "      <td>163987.000000</td>\n",
       "      <td>163987.000000</td>\n",
       "      <td>163987.000000</td>\n",
       "      <td>163987.000000</td>\n",
       "      <td>163987.000000</td>\n",
       "      <td>163987.000000</td>\n",
       "      <td>163987.000000</td>\n",
       "      <td>163987.000000</td>\n",
       "    </tr>\n",
       "    <tr>\n",
       "      <th>mean</th>\n",
       "      <td>13074.169141</td>\n",
       "      <td>40.981419</td>\n",
       "      <td>13.715904</td>\n",
       "      <td>5.684353</td>\n",
       "      <td>2.970431</td>\n",
       "      <td>11.035689</td>\n",
       "      <td>3.005641</td>\n",
       "      <td>21.996140</td>\n",
       "      <td>15.881530</td>\n",
       "      <td>0.227317</td>\n",
       "      <td>54.081198</td>\n",
       "      <td>24.579454</td>\n",
       "      <td>0.183039</td>\n",
       "      <td>14.853769</td>\n",
       "      <td>0.639270</td>\n",
       "    </tr>\n",
       "    <tr>\n",
       "      <th>std</th>\n",
       "      <td>7993.556189</td>\n",
       "      <td>9.733453</td>\n",
       "      <td>4.391940</td>\n",
       "      <td>3.546192</td>\n",
       "      <td>1.935654</td>\n",
       "      <td>0.525164</td>\n",
       "      <td>2.777648</td>\n",
       "      <td>14.895238</td>\n",
       "      <td>7.587668</td>\n",
       "      <td>0.694113</td>\n",
       "      <td>25.270552</td>\n",
       "      <td>11.684176</td>\n",
       "      <td>0.386700</td>\n",
       "      <td>6.947222</td>\n",
       "      <td>0.480214</td>\n",
       "    </tr>\n",
       "    <tr>\n",
       "      <th>min</th>\n",
       "      <td>500.000000</td>\n",
       "      <td>36.000000</td>\n",
       "      <td>5.420000</td>\n",
       "      <td>0.000000</td>\n",
       "      <td>0.000000</td>\n",
       "      <td>7.548029</td>\n",
       "      <td>0.000000</td>\n",
       "      <td>0.000000</td>\n",
       "      <td>0.000000</td>\n",
       "      <td>0.000000</td>\n",
       "      <td>0.000000</td>\n",
       "      <td>1.000000</td>\n",
       "      <td>0.000000</td>\n",
       "      <td>0.000000</td>\n",
       "      <td>0.000000</td>\n",
       "    </tr>\n",
       "    <tr>\n",
       "      <th>25%</th>\n",
       "      <td>7000.000000</td>\n",
       "      <td>36.000000</td>\n",
       "      <td>10.650000</td>\n",
       "      <td>2.000000</td>\n",
       "      <td>1.000000</td>\n",
       "      <td>10.714440</td>\n",
       "      <td>2.000000</td>\n",
       "      <td>6.000000</td>\n",
       "      <td>10.230000</td>\n",
       "      <td>0.000000</td>\n",
       "      <td>35.600000</td>\n",
       "      <td>16.000000</td>\n",
       "      <td>0.000000</td>\n",
       "      <td>10.000000</td>\n",
       "      <td>0.000000</td>\n",
       "    </tr>\n",
       "    <tr>\n",
       "      <th>50%</th>\n",
       "      <td>11325.000000</td>\n",
       "      <td>36.000000</td>\n",
       "      <td>13.490000</td>\n",
       "      <td>5.684353</td>\n",
       "      <td>4.000000</td>\n",
       "      <td>11.018646</td>\n",
       "      <td>2.000000</td>\n",
       "      <td>22.000000</td>\n",
       "      <td>15.620000</td>\n",
       "      <td>0.000000</td>\n",
       "      <td>55.800000</td>\n",
       "      <td>23.000000</td>\n",
       "      <td>0.000000</td>\n",
       "      <td>14.000000</td>\n",
       "      <td>1.000000</td>\n",
       "    </tr>\n",
       "    <tr>\n",
       "      <th>75%</th>\n",
       "      <td>18000.000000</td>\n",
       "      <td>36.000000</td>\n",
       "      <td>16.320000</td>\n",
       "      <td>10.000000</td>\n",
       "      <td>5.000000</td>\n",
       "      <td>11.350418</td>\n",
       "      <td>2.000000</td>\n",
       "      <td>34.000000</td>\n",
       "      <td>21.260000</td>\n",
       "      <td>0.000000</td>\n",
       "      <td>74.200000</td>\n",
       "      <td>31.000000</td>\n",
       "      <td>0.000000</td>\n",
       "      <td>18.000000</td>\n",
       "      <td>1.000000</td>\n",
       "    </tr>\n",
       "    <tr>\n",
       "      <th>max</th>\n",
       "      <td>35000.000000</td>\n",
       "      <td>60.000000</td>\n",
       "      <td>26.060000</td>\n",
       "      <td>10.000000</td>\n",
       "      <td>5.000000</td>\n",
       "      <td>15.781472</td>\n",
       "      <td>13.000000</td>\n",
       "      <td>49.000000</td>\n",
       "      <td>39.990000</td>\n",
       "      <td>29.000000</td>\n",
       "      <td>150.700000</td>\n",
       "      <td>118.000000</td>\n",
       "      <td>1.000000</td>\n",
       "      <td>65.000000</td>\n",
       "      <td>1.000000</td>\n",
       "    </tr>\n",
       "  </tbody>\n",
       "</table>\n",
       "</div>"
      ],
      "text/plain": [
       "           loan_amnt           term       int_rate     emp_length  \\\n",
       "count  163987.000000  163987.000000  163987.000000  163987.000000   \n",
       "mean    13074.169141      40.981419      13.715904       5.684353   \n",
       "std      7993.556189       9.733453       4.391940       3.546192   \n",
       "min       500.000000      36.000000       5.420000       0.000000   \n",
       "25%      7000.000000      36.000000      10.650000       2.000000   \n",
       "50%     11325.000000      36.000000      13.490000       5.684353   \n",
       "75%     18000.000000      36.000000      16.320000      10.000000   \n",
       "max     35000.000000      60.000000      26.060000      10.000000   \n",
       "\n",
       "       home_ownership     annual_inc        purpose     addr_state  \\\n",
       "count   163987.000000  163987.000000  163987.000000  163987.000000   \n",
       "mean         2.970431      11.035689       3.005641      21.996140   \n",
       "std          1.935654       0.525164       2.777648      14.895238   \n",
       "min          0.000000       7.548029       0.000000       0.000000   \n",
       "25%          1.000000      10.714440       2.000000       6.000000   \n",
       "50%          4.000000      11.018646       2.000000      22.000000   \n",
       "75%          5.000000      11.350418       2.000000      34.000000   \n",
       "max          5.000000      15.781472      13.000000      49.000000   \n",
       "\n",
       "                 dti    delinq_2yrs     revol_util      total_acc  \\\n",
       "count  163987.000000  163987.000000  163987.000000  163987.000000   \n",
       "mean       15.881530       0.227317      54.081198      24.579454   \n",
       "std         7.587668       0.694113      25.270552      11.684176   \n",
       "min         0.000000       0.000000       0.000000       1.000000   \n",
       "25%        10.230000       0.000000      35.600000      16.000000   \n",
       "50%        15.620000       0.000000      55.800000      23.000000   \n",
       "75%        21.260000       0.000000      74.200000      31.000000   \n",
       "max        39.990000      29.000000     150.700000     118.000000   \n",
       "\n",
       "            bad_loan  longest_credit_length  verification_status  \n",
       "count  163987.000000          163987.000000        163987.000000  \n",
       "mean        0.183039              14.853769             0.639270  \n",
       "std         0.386700               6.947222             0.480214  \n",
       "min         0.000000               0.000000             0.000000  \n",
       "25%         0.000000              10.000000             0.000000  \n",
       "50%         0.000000              14.000000             1.000000  \n",
       "75%         0.000000              18.000000             1.000000  \n",
       "max         1.000000              65.000000             1.000000  "
      ]
     },
     "execution_count": 26,
     "metadata": {},
     "output_type": "execute_result"
    }
   ],
   "source": [
    "df.describe()"
   ]
  },
  {
   "cell_type": "code",
   "execution_count": 27,
   "metadata": {},
   "outputs": [
    {
     "name": "stdout",
     "output_type": "stream",
     "text": [
      "<class 'pandas.core.frame.DataFrame'>\n",
      "RangeIndex: 163987 entries, 0 to 163986\n",
      "Data columns (total 15 columns):\n",
      "loan_amnt                163987 non-null int64\n",
      "term                     163987 non-null int64\n",
      "int_rate                 163987 non-null float64\n",
      "emp_length               163987 non-null float64\n",
      "home_ownership           163987 non-null int32\n",
      "annual_inc               163987 non-null float64\n",
      "purpose                  163987 non-null int32\n",
      "addr_state               163987 non-null int64\n",
      "dti                      163987 non-null float64\n",
      "delinq_2yrs              163987 non-null float64\n",
      "revol_util               163987 non-null float64\n",
      "total_acc                163987 non-null float64\n",
      "bad_loan                 163987 non-null int64\n",
      "longest_credit_length    163987 non-null float64\n",
      "verification_status      163987 non-null int32\n",
      "dtypes: float64(8), int32(3), int64(4)\n",
      "memory usage: 16.9 MB\n"
     ]
    }
   ],
   "source": [
    "df.info()"
   ]
  },
  {
   "cell_type": "code",
   "execution_count": 28,
   "metadata": {},
   "outputs": [],
   "source": [
    "df=df.drop(['addr_state','revol_util','total_acc','delinq_2yrs'],axis=1)"
   ]
  },
  {
   "cell_type": "code",
   "execution_count": 29,
   "metadata": {},
   "outputs": [
    {
     "data": {
      "text/html": [
       "<div>\n",
       "<style scoped>\n",
       "    .dataframe tbody tr th:only-of-type {\n",
       "        vertical-align: middle;\n",
       "    }\n",
       "\n",
       "    .dataframe tbody tr th {\n",
       "        vertical-align: top;\n",
       "    }\n",
       "\n",
       "    .dataframe thead th {\n",
       "        text-align: right;\n",
       "    }\n",
       "</style>\n",
       "<table border=\"1\" class=\"dataframe\">\n",
       "  <thead>\n",
       "    <tr style=\"text-align: right;\">\n",
       "      <th></th>\n",
       "      <th>loan_amnt</th>\n",
       "      <th>term</th>\n",
       "      <th>int_rate</th>\n",
       "      <th>emp_length</th>\n",
       "      <th>home_ownership</th>\n",
       "      <th>annual_inc</th>\n",
       "      <th>purpose</th>\n",
       "      <th>dti</th>\n",
       "      <th>bad_loan</th>\n",
       "      <th>longest_credit_length</th>\n",
       "      <th>verification_status</th>\n",
       "    </tr>\n",
       "  </thead>\n",
       "  <tbody>\n",
       "    <tr>\n",
       "      <th>0</th>\n",
       "      <td>5000</td>\n",
       "      <td>36</td>\n",
       "      <td>10.65</td>\n",
       "      <td>10.0</td>\n",
       "      <td>5</td>\n",
       "      <td>10.085851</td>\n",
       "      <td>1</td>\n",
       "      <td>27.65</td>\n",
       "      <td>0</td>\n",
       "      <td>26.0</td>\n",
       "      <td>1</td>\n",
       "    </tr>\n",
       "    <tr>\n",
       "      <th>1</th>\n",
       "      <td>2500</td>\n",
       "      <td>60</td>\n",
       "      <td>15.27</td>\n",
       "      <td>0.0</td>\n",
       "      <td>5</td>\n",
       "      <td>10.308986</td>\n",
       "      <td>0</td>\n",
       "      <td>1.00</td>\n",
       "      <td>1</td>\n",
       "      <td>12.0</td>\n",
       "      <td>1</td>\n",
       "    </tr>\n",
       "    <tr>\n",
       "      <th>2</th>\n",
       "      <td>2400</td>\n",
       "      <td>36</td>\n",
       "      <td>15.96</td>\n",
       "      <td>10.0</td>\n",
       "      <td>5</td>\n",
       "      <td>9.413526</td>\n",
       "      <td>11</td>\n",
       "      <td>8.72</td>\n",
       "      <td>0</td>\n",
       "      <td>10.0</td>\n",
       "      <td>0</td>\n",
       "    </tr>\n",
       "    <tr>\n",
       "      <th>3</th>\n",
       "      <td>10000</td>\n",
       "      <td>36</td>\n",
       "      <td>13.49</td>\n",
       "      <td>10.0</td>\n",
       "      <td>5</td>\n",
       "      <td>10.803669</td>\n",
       "      <td>9</td>\n",
       "      <td>20.00</td>\n",
       "      <td>0</td>\n",
       "      <td>15.0</td>\n",
       "      <td>1</td>\n",
       "    </tr>\n",
       "    <tr>\n",
       "      <th>4</th>\n",
       "      <td>5000</td>\n",
       "      <td>36</td>\n",
       "      <td>7.90</td>\n",
       "      <td>3.0</td>\n",
       "      <td>5</td>\n",
       "      <td>10.491302</td>\n",
       "      <td>13</td>\n",
       "      <td>11.20</td>\n",
       "      <td>0</td>\n",
       "      <td>7.0</td>\n",
       "      <td>1</td>\n",
       "    </tr>\n",
       "  </tbody>\n",
       "</table>\n",
       "</div>"
      ],
      "text/plain": [
       "   loan_amnt  term  int_rate  emp_length  home_ownership  annual_inc  purpose  \\\n",
       "0       5000    36     10.65        10.0               5   10.085851        1   \n",
       "1       2500    60     15.27         0.0               5   10.308986        0   \n",
       "2       2400    36     15.96        10.0               5    9.413526       11   \n",
       "3      10000    36     13.49        10.0               5   10.803669        9   \n",
       "4       5000    36      7.90         3.0               5   10.491302       13   \n",
       "\n",
       "     dti  bad_loan  longest_credit_length  verification_status  \n",
       "0  27.65         0                   26.0                    1  \n",
       "1   1.00         1                   12.0                    1  \n",
       "2   8.72         0                   10.0                    0  \n",
       "3  20.00         0                   15.0                    1  \n",
       "4  11.20         0                    7.0                    1  "
      ]
     },
     "execution_count": 29,
     "metadata": {},
     "output_type": "execute_result"
    }
   ],
   "source": [
    "df.head()"
   ]
  },
  {
   "cell_type": "code",
   "execution_count": 30,
   "metadata": {},
   "outputs": [
    {
     "data": {
      "text/html": [
       "<div>\n",
       "<style scoped>\n",
       "    .dataframe tbody tr th:only-of-type {\n",
       "        vertical-align: middle;\n",
       "    }\n",
       "\n",
       "    .dataframe tbody tr th {\n",
       "        vertical-align: top;\n",
       "    }\n",
       "\n",
       "    .dataframe thead th {\n",
       "        text-align: right;\n",
       "    }\n",
       "</style>\n",
       "<table border=\"1\" class=\"dataframe\">\n",
       "  <thead>\n",
       "    <tr style=\"text-align: right;\">\n",
       "      <th></th>\n",
       "      <th>loan_amnt</th>\n",
       "      <th>term</th>\n",
       "      <th>int_rate</th>\n",
       "      <th>emp_length</th>\n",
       "      <th>home_ownership</th>\n",
       "      <th>annual_inc</th>\n",
       "      <th>purpose</th>\n",
       "      <th>dti</th>\n",
       "      <th>bad_loan</th>\n",
       "      <th>longest_credit_length</th>\n",
       "      <th>verification_status</th>\n",
       "    </tr>\n",
       "  </thead>\n",
       "  <tbody>\n",
       "    <tr>\n",
       "      <th>count</th>\n",
       "      <td>163987.000000</td>\n",
       "      <td>163987.000000</td>\n",
       "      <td>163987.000000</td>\n",
       "      <td>163987.000000</td>\n",
       "      <td>163987.000000</td>\n",
       "      <td>163987.000000</td>\n",
       "      <td>163987.000000</td>\n",
       "      <td>163987.000000</td>\n",
       "      <td>163987.000000</td>\n",
       "      <td>163987.000000</td>\n",
       "      <td>163987.000000</td>\n",
       "    </tr>\n",
       "    <tr>\n",
       "      <th>mean</th>\n",
       "      <td>13074.169141</td>\n",
       "      <td>40.981419</td>\n",
       "      <td>13.715904</td>\n",
       "      <td>5.684353</td>\n",
       "      <td>2.970431</td>\n",
       "      <td>11.035689</td>\n",
       "      <td>3.005641</td>\n",
       "      <td>15.881530</td>\n",
       "      <td>0.183039</td>\n",
       "      <td>14.853769</td>\n",
       "      <td>0.639270</td>\n",
       "    </tr>\n",
       "    <tr>\n",
       "      <th>std</th>\n",
       "      <td>7993.556189</td>\n",
       "      <td>9.733453</td>\n",
       "      <td>4.391940</td>\n",
       "      <td>3.546192</td>\n",
       "      <td>1.935654</td>\n",
       "      <td>0.525164</td>\n",
       "      <td>2.777648</td>\n",
       "      <td>7.587668</td>\n",
       "      <td>0.386700</td>\n",
       "      <td>6.947222</td>\n",
       "      <td>0.480214</td>\n",
       "    </tr>\n",
       "    <tr>\n",
       "      <th>min</th>\n",
       "      <td>500.000000</td>\n",
       "      <td>36.000000</td>\n",
       "      <td>5.420000</td>\n",
       "      <td>0.000000</td>\n",
       "      <td>0.000000</td>\n",
       "      <td>7.548029</td>\n",
       "      <td>0.000000</td>\n",
       "      <td>0.000000</td>\n",
       "      <td>0.000000</td>\n",
       "      <td>0.000000</td>\n",
       "      <td>0.000000</td>\n",
       "    </tr>\n",
       "    <tr>\n",
       "      <th>25%</th>\n",
       "      <td>7000.000000</td>\n",
       "      <td>36.000000</td>\n",
       "      <td>10.650000</td>\n",
       "      <td>2.000000</td>\n",
       "      <td>1.000000</td>\n",
       "      <td>10.714440</td>\n",
       "      <td>2.000000</td>\n",
       "      <td>10.230000</td>\n",
       "      <td>0.000000</td>\n",
       "      <td>10.000000</td>\n",
       "      <td>0.000000</td>\n",
       "    </tr>\n",
       "    <tr>\n",
       "      <th>50%</th>\n",
       "      <td>11325.000000</td>\n",
       "      <td>36.000000</td>\n",
       "      <td>13.490000</td>\n",
       "      <td>5.684353</td>\n",
       "      <td>4.000000</td>\n",
       "      <td>11.018646</td>\n",
       "      <td>2.000000</td>\n",
       "      <td>15.620000</td>\n",
       "      <td>0.000000</td>\n",
       "      <td>14.000000</td>\n",
       "      <td>1.000000</td>\n",
       "    </tr>\n",
       "    <tr>\n",
       "      <th>75%</th>\n",
       "      <td>18000.000000</td>\n",
       "      <td>36.000000</td>\n",
       "      <td>16.320000</td>\n",
       "      <td>10.000000</td>\n",
       "      <td>5.000000</td>\n",
       "      <td>11.350418</td>\n",
       "      <td>2.000000</td>\n",
       "      <td>21.260000</td>\n",
       "      <td>0.000000</td>\n",
       "      <td>18.000000</td>\n",
       "      <td>1.000000</td>\n",
       "    </tr>\n",
       "    <tr>\n",
       "      <th>max</th>\n",
       "      <td>35000.000000</td>\n",
       "      <td>60.000000</td>\n",
       "      <td>26.060000</td>\n",
       "      <td>10.000000</td>\n",
       "      <td>5.000000</td>\n",
       "      <td>15.781472</td>\n",
       "      <td>13.000000</td>\n",
       "      <td>39.990000</td>\n",
       "      <td>1.000000</td>\n",
       "      <td>65.000000</td>\n",
       "      <td>1.000000</td>\n",
       "    </tr>\n",
       "  </tbody>\n",
       "</table>\n",
       "</div>"
      ],
      "text/plain": [
       "           loan_amnt           term       int_rate     emp_length  \\\n",
       "count  163987.000000  163987.000000  163987.000000  163987.000000   \n",
       "mean    13074.169141      40.981419      13.715904       5.684353   \n",
       "std      7993.556189       9.733453       4.391940       3.546192   \n",
       "min       500.000000      36.000000       5.420000       0.000000   \n",
       "25%      7000.000000      36.000000      10.650000       2.000000   \n",
       "50%     11325.000000      36.000000      13.490000       5.684353   \n",
       "75%     18000.000000      36.000000      16.320000      10.000000   \n",
       "max     35000.000000      60.000000      26.060000      10.000000   \n",
       "\n",
       "       home_ownership     annual_inc        purpose            dti  \\\n",
       "count   163987.000000  163987.000000  163987.000000  163987.000000   \n",
       "mean         2.970431      11.035689       3.005641      15.881530   \n",
       "std          1.935654       0.525164       2.777648       7.587668   \n",
       "min          0.000000       7.548029       0.000000       0.000000   \n",
       "25%          1.000000      10.714440       2.000000      10.230000   \n",
       "50%          4.000000      11.018646       2.000000      15.620000   \n",
       "75%          5.000000      11.350418       2.000000      21.260000   \n",
       "max          5.000000      15.781472      13.000000      39.990000   \n",
       "\n",
       "            bad_loan  longest_credit_length  verification_status  \n",
       "count  163987.000000          163987.000000        163987.000000  \n",
       "mean        0.183039              14.853769             0.639270  \n",
       "std         0.386700               6.947222             0.480214  \n",
       "min         0.000000               0.000000             0.000000  \n",
       "25%         0.000000              10.000000             0.000000  \n",
       "50%         0.000000              14.000000             1.000000  \n",
       "75%         0.000000              18.000000             1.000000  \n",
       "max         1.000000              65.000000             1.000000  "
      ]
     },
     "execution_count": 30,
     "metadata": {},
     "output_type": "execute_result"
    }
   ],
   "source": [
    "df.describe()"
   ]
  },
  {
   "cell_type": "markdown",
   "metadata": {},
   "source": [
    "# Feature Categorization"
   ]
  },
  {
   "cell_type": "code",
   "execution_count": 31,
   "metadata": {},
   "outputs": [
    {
     "data": {
      "text/html": [
       "<div>\n",
       "<style scoped>\n",
       "    .dataframe tbody tr th:only-of-type {\n",
       "        vertical-align: middle;\n",
       "    }\n",
       "\n",
       "    .dataframe tbody tr th {\n",
       "        vertical-align: top;\n",
       "    }\n",
       "\n",
       "    .dataframe thead th {\n",
       "        text-align: right;\n",
       "    }\n",
       "</style>\n",
       "<table border=\"1\" class=\"dataframe\">\n",
       "  <thead>\n",
       "    <tr style=\"text-align: right;\">\n",
       "      <th></th>\n",
       "      <th>loan_amnt</th>\n",
       "      <th>term</th>\n",
       "      <th>int_rate</th>\n",
       "      <th>emp_length</th>\n",
       "      <th>home_ownership</th>\n",
       "      <th>annual_inc</th>\n",
       "      <th>purpose</th>\n",
       "      <th>dti</th>\n",
       "      <th>bad_loan</th>\n",
       "      <th>longest_credit_length</th>\n",
       "      <th>verification_status</th>\n",
       "      <th>loan_amt</th>\n",
       "    </tr>\n",
       "  </thead>\n",
       "  <tbody>\n",
       "    <tr>\n",
       "      <th>0</th>\n",
       "      <td>5000</td>\n",
       "      <td>36</td>\n",
       "      <td>10.65</td>\n",
       "      <td>10.0</td>\n",
       "      <td>5</td>\n",
       "      <td>10.085851</td>\n",
       "      <td>1</td>\n",
       "      <td>27.65</td>\n",
       "      <td>0</td>\n",
       "      <td>26.0</td>\n",
       "      <td>1</td>\n",
       "      <td>Medium</td>\n",
       "    </tr>\n",
       "    <tr>\n",
       "      <th>1</th>\n",
       "      <td>2500</td>\n",
       "      <td>60</td>\n",
       "      <td>15.27</td>\n",
       "      <td>0.0</td>\n",
       "      <td>5</td>\n",
       "      <td>10.308986</td>\n",
       "      <td>0</td>\n",
       "      <td>1.00</td>\n",
       "      <td>1</td>\n",
       "      <td>12.0</td>\n",
       "      <td>1</td>\n",
       "      <td>low</td>\n",
       "    </tr>\n",
       "    <tr>\n",
       "      <th>2</th>\n",
       "      <td>2400</td>\n",
       "      <td>36</td>\n",
       "      <td>15.96</td>\n",
       "      <td>10.0</td>\n",
       "      <td>5</td>\n",
       "      <td>9.413526</td>\n",
       "      <td>11</td>\n",
       "      <td>8.72</td>\n",
       "      <td>0</td>\n",
       "      <td>10.0</td>\n",
       "      <td>0</td>\n",
       "      <td>low</td>\n",
       "    </tr>\n",
       "    <tr>\n",
       "      <th>3</th>\n",
       "      <td>10000</td>\n",
       "      <td>36</td>\n",
       "      <td>13.49</td>\n",
       "      <td>10.0</td>\n",
       "      <td>5</td>\n",
       "      <td>10.803669</td>\n",
       "      <td>9</td>\n",
       "      <td>20.00</td>\n",
       "      <td>0</td>\n",
       "      <td>15.0</td>\n",
       "      <td>1</td>\n",
       "      <td>Medium</td>\n",
       "    </tr>\n",
       "    <tr>\n",
       "      <th>4</th>\n",
       "      <td>5000</td>\n",
       "      <td>36</td>\n",
       "      <td>7.90</td>\n",
       "      <td>3.0</td>\n",
       "      <td>5</td>\n",
       "      <td>10.491302</td>\n",
       "      <td>13</td>\n",
       "      <td>11.20</td>\n",
       "      <td>0</td>\n",
       "      <td>7.0</td>\n",
       "      <td>1</td>\n",
       "      <td>Medium</td>\n",
       "    </tr>\n",
       "  </tbody>\n",
       "</table>\n",
       "</div>"
      ],
      "text/plain": [
       "   loan_amnt  term  int_rate  emp_length  home_ownership  annual_inc  purpose  \\\n",
       "0       5000    36     10.65        10.0               5   10.085851        1   \n",
       "1       2500    60     15.27         0.0               5   10.308986        0   \n",
       "2       2400    36     15.96        10.0               5    9.413526       11   \n",
       "3      10000    36     13.49        10.0               5   10.803669        9   \n",
       "4       5000    36      7.90         3.0               5   10.491302       13   \n",
       "\n",
       "     dti  bad_loan  longest_credit_length  verification_status loan_amt  \n",
       "0  27.65         0                   26.0                    1   Medium  \n",
       "1   1.00         1                   12.0                    1      low  \n",
       "2   8.72         0                   10.0                    0      low  \n",
       "3  20.00         0                   15.0                    1   Medium  \n",
       "4  11.20         0                    7.0                    1   Medium  "
      ]
     },
     "execution_count": 31,
     "metadata": {},
     "output_type": "execute_result"
    }
   ],
   "source": [
    "#lets bin the loan amount variable into small, medium, high, very high\n",
    "loan_amt=[]\n",
    "for id,row in df.iterrows():\n",
    "    if row['loan_amnt'] < 5000:\n",
    "        loan_amt.append('low')\n",
    "    elif row['loan_amnt']>=5000 and row['loan_amnt']<15000:\n",
    "        loan_amt.append('Medium')\n",
    "    elif row['loan_amnt']>=15000 and row['loan_amnt']<25000:\n",
    "        loan_amt.append('High')    \n",
    "    else:\n",
    "        loan_amt.append('Very High')\n",
    "        \n",
    "df['loan_amt']=loan_amt\n",
    "df.head(5)"
   ]
  },
  {
   "cell_type": "code",
   "execution_count": 32,
   "metadata": {},
   "outputs": [
    {
     "data": {
      "text/plain": [
       "Medium       83920\n",
       "High         43060\n",
       "low          20203\n",
       "Very High    16804\n",
       "Name: loan_amt, dtype: int64"
      ]
     },
     "execution_count": 32,
     "metadata": {},
     "output_type": "execute_result"
    }
   ],
   "source": [
    "df['loan_amt'].value_counts()"
   ]
  },
  {
   "cell_type": "code",
   "execution_count": 33,
   "metadata": {},
   "outputs": [
    {
     "data": {
      "text/html": [
       "<div>\n",
       "<style scoped>\n",
       "    .dataframe tbody tr th:only-of-type {\n",
       "        vertical-align: middle;\n",
       "    }\n",
       "\n",
       "    .dataframe tbody tr th {\n",
       "        vertical-align: top;\n",
       "    }\n",
       "\n",
       "    .dataframe thead th {\n",
       "        text-align: right;\n",
       "    }\n",
       "</style>\n",
       "<table border=\"1\" class=\"dataframe\">\n",
       "  <thead>\n",
       "    <tr style=\"text-align: right;\">\n",
       "      <th></th>\n",
       "      <th>loan_amnt</th>\n",
       "      <th>term</th>\n",
       "      <th>int_rate</th>\n",
       "      <th>emp_length</th>\n",
       "      <th>home_ownership</th>\n",
       "      <th>annual_inc</th>\n",
       "      <th>purpose</th>\n",
       "      <th>dti</th>\n",
       "      <th>bad_loan</th>\n",
       "      <th>longest_credit_length</th>\n",
       "      <th>verification_status</th>\n",
       "      <th>loan_amt</th>\n",
       "      <th>ints_rate</th>\n",
       "    </tr>\n",
       "  </thead>\n",
       "  <tbody>\n",
       "    <tr>\n",
       "      <th>0</th>\n",
       "      <td>5000</td>\n",
       "      <td>36</td>\n",
       "      <td>10.65</td>\n",
       "      <td>10.0</td>\n",
       "      <td>5</td>\n",
       "      <td>10.085851</td>\n",
       "      <td>1</td>\n",
       "      <td>27.65</td>\n",
       "      <td>0</td>\n",
       "      <td>26.0</td>\n",
       "      <td>1</td>\n",
       "      <td>Medium</td>\n",
       "      <td>Medium</td>\n",
       "    </tr>\n",
       "    <tr>\n",
       "      <th>1</th>\n",
       "      <td>2500</td>\n",
       "      <td>60</td>\n",
       "      <td>15.27</td>\n",
       "      <td>0.0</td>\n",
       "      <td>5</td>\n",
       "      <td>10.308986</td>\n",
       "      <td>0</td>\n",
       "      <td>1.00</td>\n",
       "      <td>1</td>\n",
       "      <td>12.0</td>\n",
       "      <td>1</td>\n",
       "      <td>low</td>\n",
       "      <td>High</td>\n",
       "    </tr>\n",
       "    <tr>\n",
       "      <th>2</th>\n",
       "      <td>2400</td>\n",
       "      <td>36</td>\n",
       "      <td>15.96</td>\n",
       "      <td>10.0</td>\n",
       "      <td>5</td>\n",
       "      <td>9.413526</td>\n",
       "      <td>11</td>\n",
       "      <td>8.72</td>\n",
       "      <td>0</td>\n",
       "      <td>10.0</td>\n",
       "      <td>0</td>\n",
       "      <td>low</td>\n",
       "      <td>High</td>\n",
       "    </tr>\n",
       "    <tr>\n",
       "      <th>3</th>\n",
       "      <td>10000</td>\n",
       "      <td>36</td>\n",
       "      <td>13.49</td>\n",
       "      <td>10.0</td>\n",
       "      <td>5</td>\n",
       "      <td>10.803669</td>\n",
       "      <td>9</td>\n",
       "      <td>20.00</td>\n",
       "      <td>0</td>\n",
       "      <td>15.0</td>\n",
       "      <td>1</td>\n",
       "      <td>Medium</td>\n",
       "      <td>Medium</td>\n",
       "    </tr>\n",
       "    <tr>\n",
       "      <th>4</th>\n",
       "      <td>5000</td>\n",
       "      <td>36</td>\n",
       "      <td>7.90</td>\n",
       "      <td>3.0</td>\n",
       "      <td>5</td>\n",
       "      <td>10.491302</td>\n",
       "      <td>13</td>\n",
       "      <td>11.20</td>\n",
       "      <td>0</td>\n",
       "      <td>7.0</td>\n",
       "      <td>1</td>\n",
       "      <td>Medium</td>\n",
       "      <td>low</td>\n",
       "    </tr>\n",
       "  </tbody>\n",
       "</table>\n",
       "</div>"
      ],
      "text/plain": [
       "   loan_amnt  term  int_rate  emp_length  home_ownership  annual_inc  purpose  \\\n",
       "0       5000    36     10.65        10.0               5   10.085851        1   \n",
       "1       2500    60     15.27         0.0               5   10.308986        0   \n",
       "2       2400    36     15.96        10.0               5    9.413526       11   \n",
       "3      10000    36     13.49        10.0               5   10.803669        9   \n",
       "4       5000    36      7.90         3.0               5   10.491302       13   \n",
       "\n",
       "     dti  bad_loan  longest_credit_length  verification_status loan_amt  \\\n",
       "0  27.65         0                   26.0                    1   Medium   \n",
       "1   1.00         1                   12.0                    1      low   \n",
       "2   8.72         0                   10.0                    0      low   \n",
       "3  20.00         0                   15.0                    1   Medium   \n",
       "4  11.20         0                    7.0                    1   Medium   \n",
       "\n",
       "  ints_rate  \n",
       "0    Medium  \n",
       "1      High  \n",
       "2      High  \n",
       "3    Medium  \n",
       "4       low  "
      ]
     },
     "execution_count": 33,
     "metadata": {},
     "output_type": "execute_result"
    }
   ],
   "source": [
    "# lets convert interest rate to low, medium, high\n",
    "\n",
    "ints_rate=[]\n",
    "for id,row in df.iterrows():\n",
    "    if row['int_rate'] <=10:\n",
    "        ints_rate.append('low')\n",
    "    elif row['int_rate']>10 and row['int_rate']<=15:\n",
    "        ints_rate.append('Medium')    \n",
    "    else:\n",
    "        ints_rate.append('High')\n",
    "        \n",
    "df['ints_rate']=ints_rate\n",
    "df.head(5)"
   ]
  },
  {
   "cell_type": "code",
   "execution_count": 34,
   "metadata": {},
   "outputs": [
    {
     "data": {
      "text/plain": [
       "Medium    69301\n",
       "High      59472\n",
       "low       35214\n",
       "Name: ints_rate, dtype: int64"
      ]
     },
     "execution_count": 34,
     "metadata": {},
     "output_type": "execute_result"
    }
   ],
   "source": [
    "df['ints_rate'].value_counts()"
   ]
  },
  {
   "cell_type": "code",
   "execution_count": 35,
   "metadata": {},
   "outputs": [
    {
     "data": {
      "text/html": [
       "<div>\n",
       "<style scoped>\n",
       "    .dataframe tbody tr th:only-of-type {\n",
       "        vertical-align: middle;\n",
       "    }\n",
       "\n",
       "    .dataframe tbody tr th {\n",
       "        vertical-align: top;\n",
       "    }\n",
       "\n",
       "    .dataframe thead th {\n",
       "        text-align: right;\n",
       "    }\n",
       "</style>\n",
       "<table border=\"1\" class=\"dataframe\">\n",
       "  <thead>\n",
       "    <tr style=\"text-align: right;\">\n",
       "      <th></th>\n",
       "      <th>loan_amnt</th>\n",
       "      <th>term</th>\n",
       "      <th>int_rate</th>\n",
       "      <th>emp_length</th>\n",
       "      <th>home_ownership</th>\n",
       "      <th>annual_inc</th>\n",
       "      <th>purpose</th>\n",
       "      <th>dti</th>\n",
       "      <th>bad_loan</th>\n",
       "      <th>longest_credit_length</th>\n",
       "      <th>verification_status</th>\n",
       "      <th>loan_amt</th>\n",
       "      <th>ints_rate</th>\n",
       "      <th>dti_ratio</th>\n",
       "    </tr>\n",
       "  </thead>\n",
       "  <tbody>\n",
       "    <tr>\n",
       "      <th>0</th>\n",
       "      <td>5000</td>\n",
       "      <td>36</td>\n",
       "      <td>10.65</td>\n",
       "      <td>10.0</td>\n",
       "      <td>5</td>\n",
       "      <td>10.085851</td>\n",
       "      <td>1</td>\n",
       "      <td>27.65</td>\n",
       "      <td>0</td>\n",
       "      <td>26.0</td>\n",
       "      <td>1</td>\n",
       "      <td>Medium</td>\n",
       "      <td>Medium</td>\n",
       "      <td>High</td>\n",
       "    </tr>\n",
       "    <tr>\n",
       "      <th>1</th>\n",
       "      <td>2500</td>\n",
       "      <td>60</td>\n",
       "      <td>15.27</td>\n",
       "      <td>0.0</td>\n",
       "      <td>5</td>\n",
       "      <td>10.308986</td>\n",
       "      <td>0</td>\n",
       "      <td>1.00</td>\n",
       "      <td>1</td>\n",
       "      <td>12.0</td>\n",
       "      <td>1</td>\n",
       "      <td>low</td>\n",
       "      <td>High</td>\n",
       "      <td>low</td>\n",
       "    </tr>\n",
       "    <tr>\n",
       "      <th>2</th>\n",
       "      <td>2400</td>\n",
       "      <td>36</td>\n",
       "      <td>15.96</td>\n",
       "      <td>10.0</td>\n",
       "      <td>5</td>\n",
       "      <td>9.413526</td>\n",
       "      <td>11</td>\n",
       "      <td>8.72</td>\n",
       "      <td>0</td>\n",
       "      <td>10.0</td>\n",
       "      <td>0</td>\n",
       "      <td>low</td>\n",
       "      <td>High</td>\n",
       "      <td>low</td>\n",
       "    </tr>\n",
       "    <tr>\n",
       "      <th>3</th>\n",
       "      <td>10000</td>\n",
       "      <td>36</td>\n",
       "      <td>13.49</td>\n",
       "      <td>10.0</td>\n",
       "      <td>5</td>\n",
       "      <td>10.803669</td>\n",
       "      <td>9</td>\n",
       "      <td>20.00</td>\n",
       "      <td>0</td>\n",
       "      <td>15.0</td>\n",
       "      <td>1</td>\n",
       "      <td>Medium</td>\n",
       "      <td>Medium</td>\n",
       "      <td>Medium</td>\n",
       "    </tr>\n",
       "    <tr>\n",
       "      <th>4</th>\n",
       "      <td>5000</td>\n",
       "      <td>36</td>\n",
       "      <td>7.90</td>\n",
       "      <td>3.0</td>\n",
       "      <td>5</td>\n",
       "      <td>10.491302</td>\n",
       "      <td>13</td>\n",
       "      <td>11.20</td>\n",
       "      <td>0</td>\n",
       "      <td>7.0</td>\n",
       "      <td>1</td>\n",
       "      <td>Medium</td>\n",
       "      <td>low</td>\n",
       "      <td>Medium</td>\n",
       "    </tr>\n",
       "  </tbody>\n",
       "</table>\n",
       "</div>"
      ],
      "text/plain": [
       "   loan_amnt  term  int_rate  emp_length  home_ownership  annual_inc  purpose  \\\n",
       "0       5000    36     10.65        10.0               5   10.085851        1   \n",
       "1       2500    60     15.27         0.0               5   10.308986        0   \n",
       "2       2400    36     15.96        10.0               5    9.413526       11   \n",
       "3      10000    36     13.49        10.0               5   10.803669        9   \n",
       "4       5000    36      7.90         3.0               5   10.491302       13   \n",
       "\n",
       "     dti  bad_loan  longest_credit_length  verification_status loan_amt  \\\n",
       "0  27.65         0                   26.0                    1   Medium   \n",
       "1   1.00         1                   12.0                    1      low   \n",
       "2   8.72         0                   10.0                    0      low   \n",
       "3  20.00         0                   15.0                    1   Medium   \n",
       "4  11.20         0                    7.0                    1   Medium   \n",
       "\n",
       "  ints_rate dti_ratio  \n",
       "0    Medium      High  \n",
       "1      High       low  \n",
       "2      High       low  \n",
       "3    Medium    Medium  \n",
       "4       low    Medium  "
      ]
     },
     "execution_count": 35,
     "metadata": {},
     "output_type": "execute_result"
    }
   ],
   "source": [
    "# lets convert dti to low, medium, high\n",
    "\n",
    "dti_ratio=[]\n",
    "for id,row in df.iterrows():\n",
    "    if row['dti'] <=10:\n",
    "        dti_ratio.append('low')\n",
    "    elif row['dti']>10 and row['dti']<=20:\n",
    "        dti_ratio.append('Medium')    \n",
    "    else:\n",
    "        dti_ratio.append('High')\n",
    "        \n",
    "df['dti_ratio']=dti_ratio\n",
    "df.head(5)"
   ]
  },
  {
   "cell_type": "code",
   "execution_count": 36,
   "metadata": {},
   "outputs": [
    {
     "data": {
      "text/plain": [
       "Medium    75153\n",
       "High      49275\n",
       "low       39559\n",
       "Name: dti_ratio, dtype: int64"
      ]
     },
     "execution_count": 36,
     "metadata": {},
     "output_type": "execute_result"
    }
   ],
   "source": [
    "df['dti_ratio'].value_counts()"
   ]
  },
  {
   "cell_type": "code",
   "execution_count": 37,
   "metadata": {},
   "outputs": [
    {
     "data": {
      "text/html": [
       "<div>\n",
       "<style scoped>\n",
       "    .dataframe tbody tr th:only-of-type {\n",
       "        vertical-align: middle;\n",
       "    }\n",
       "\n",
       "    .dataframe tbody tr th {\n",
       "        vertical-align: top;\n",
       "    }\n",
       "\n",
       "    .dataframe thead th {\n",
       "        text-align: right;\n",
       "    }\n",
       "</style>\n",
       "<table border=\"1\" class=\"dataframe\">\n",
       "  <thead>\n",
       "    <tr style=\"text-align: right;\">\n",
       "      <th></th>\n",
       "      <th>loan_amnt</th>\n",
       "      <th>term</th>\n",
       "      <th>int_rate</th>\n",
       "      <th>emp_length</th>\n",
       "      <th>home_ownership</th>\n",
       "      <th>annual_inc</th>\n",
       "      <th>purpose</th>\n",
       "      <th>dti</th>\n",
       "      <th>bad_loan</th>\n",
       "      <th>longest_credit_length</th>\n",
       "      <th>verification_status</th>\n",
       "      <th>loan_amt</th>\n",
       "      <th>ints_rate</th>\n",
       "      <th>dti_ratio</th>\n",
       "      <th>emp_len</th>\n",
       "    </tr>\n",
       "  </thead>\n",
       "  <tbody>\n",
       "    <tr>\n",
       "      <th>0</th>\n",
       "      <td>5000</td>\n",
       "      <td>36</td>\n",
       "      <td>10.65</td>\n",
       "      <td>10.0</td>\n",
       "      <td>5</td>\n",
       "      <td>10.085851</td>\n",
       "      <td>1</td>\n",
       "      <td>27.65</td>\n",
       "      <td>0</td>\n",
       "      <td>26.0</td>\n",
       "      <td>1</td>\n",
       "      <td>Medium</td>\n",
       "      <td>Medium</td>\n",
       "      <td>High</td>\n",
       "      <td>Expert</td>\n",
       "    </tr>\n",
       "    <tr>\n",
       "      <th>1</th>\n",
       "      <td>2500</td>\n",
       "      <td>60</td>\n",
       "      <td>15.27</td>\n",
       "      <td>0.0</td>\n",
       "      <td>5</td>\n",
       "      <td>10.308986</td>\n",
       "      <td>0</td>\n",
       "      <td>1.00</td>\n",
       "      <td>1</td>\n",
       "      <td>12.0</td>\n",
       "      <td>1</td>\n",
       "      <td>low</td>\n",
       "      <td>High</td>\n",
       "      <td>low</td>\n",
       "      <td>Fresher</td>\n",
       "    </tr>\n",
       "    <tr>\n",
       "      <th>2</th>\n",
       "      <td>2400</td>\n",
       "      <td>36</td>\n",
       "      <td>15.96</td>\n",
       "      <td>10.0</td>\n",
       "      <td>5</td>\n",
       "      <td>9.413526</td>\n",
       "      <td>11</td>\n",
       "      <td>8.72</td>\n",
       "      <td>0</td>\n",
       "      <td>10.0</td>\n",
       "      <td>0</td>\n",
       "      <td>low</td>\n",
       "      <td>High</td>\n",
       "      <td>low</td>\n",
       "      <td>Expert</td>\n",
       "    </tr>\n",
       "    <tr>\n",
       "      <th>3</th>\n",
       "      <td>10000</td>\n",
       "      <td>36</td>\n",
       "      <td>13.49</td>\n",
       "      <td>10.0</td>\n",
       "      <td>5</td>\n",
       "      <td>10.803669</td>\n",
       "      <td>9</td>\n",
       "      <td>20.00</td>\n",
       "      <td>0</td>\n",
       "      <td>15.0</td>\n",
       "      <td>1</td>\n",
       "      <td>Medium</td>\n",
       "      <td>Medium</td>\n",
       "      <td>Medium</td>\n",
       "      <td>Expert</td>\n",
       "    </tr>\n",
       "    <tr>\n",
       "      <th>4</th>\n",
       "      <td>5000</td>\n",
       "      <td>36</td>\n",
       "      <td>7.90</td>\n",
       "      <td>3.0</td>\n",
       "      <td>5</td>\n",
       "      <td>10.491302</td>\n",
       "      <td>13</td>\n",
       "      <td>11.20</td>\n",
       "      <td>0</td>\n",
       "      <td>7.0</td>\n",
       "      <td>1</td>\n",
       "      <td>Medium</td>\n",
       "      <td>low</td>\n",
       "      <td>Medium</td>\n",
       "      <td>Junior</td>\n",
       "    </tr>\n",
       "  </tbody>\n",
       "</table>\n",
       "</div>"
      ],
      "text/plain": [
       "   loan_amnt  term  int_rate  emp_length  home_ownership  annual_inc  purpose  \\\n",
       "0       5000    36     10.65        10.0               5   10.085851        1   \n",
       "1       2500    60     15.27         0.0               5   10.308986        0   \n",
       "2       2400    36     15.96        10.0               5    9.413526       11   \n",
       "3      10000    36     13.49        10.0               5   10.803669        9   \n",
       "4       5000    36      7.90         3.0               5   10.491302       13   \n",
       "\n",
       "     dti  bad_loan  longest_credit_length  verification_status loan_amt  \\\n",
       "0  27.65         0                   26.0                    1   Medium   \n",
       "1   1.00         1                   12.0                    1      low   \n",
       "2   8.72         0                   10.0                    0      low   \n",
       "3  20.00         0                   15.0                    1   Medium   \n",
       "4  11.20         0                    7.0                    1   Medium   \n",
       "\n",
       "  ints_rate dti_ratio  emp_len  \n",
       "0    Medium      High   Expert  \n",
       "1      High       low  Fresher  \n",
       "2      High       low   Expert  \n",
       "3    Medium    Medium   Expert  \n",
       "4       low    Medium   Junior  "
      ]
     },
     "execution_count": 37,
     "metadata": {},
     "output_type": "execute_result"
    }
   ],
   "source": [
    "#lets bin the emp_length variable into fresher,junior, senior, expert\n",
    "emp_len=[]\n",
    "for id,row in df.iterrows():\n",
    "    if row['emp_length'] <=1:\n",
    "        emp_len.append('Fresher')\n",
    "    elif row['emp_length']> 1 and row['emp_length']<=3:\n",
    "        emp_len.append('Junior')\n",
    "    elif row['emp_length']> 3 and row['emp_length']<=7:\n",
    "        emp_len.append('Senior')    \n",
    "    else:\n",
    "        emp_len.append('Expert')\n",
    "        \n",
    "df['emp_len']=emp_len\n",
    "df.head(5)"
   ]
  },
  {
   "cell_type": "code",
   "execution_count": 38,
   "metadata": {},
   "outputs": [
    {
     "data": {
      "text/plain": [
       "Expert     60694\n",
       "Senior     48254\n",
       "Junior     29377\n",
       "Fresher    25662\n",
       "Name: emp_len, dtype: int64"
      ]
     },
     "execution_count": 38,
     "metadata": {},
     "output_type": "execute_result"
    }
   ],
   "source": [
    "df['emp_len'].value_counts()"
   ]
  },
  {
   "cell_type": "code",
   "execution_count": 39,
   "metadata": {},
   "outputs": [
    {
     "data": {
      "text/html": [
       "<div>\n",
       "<style scoped>\n",
       "    .dataframe tbody tr th:only-of-type {\n",
       "        vertical-align: middle;\n",
       "    }\n",
       "\n",
       "    .dataframe tbody tr th {\n",
       "        vertical-align: top;\n",
       "    }\n",
       "\n",
       "    .dataframe thead th {\n",
       "        text-align: right;\n",
       "    }\n",
       "</style>\n",
       "<table border=\"1\" class=\"dataframe\">\n",
       "  <thead>\n",
       "    <tr style=\"text-align: right;\">\n",
       "      <th></th>\n",
       "      <th>loan_amnt</th>\n",
       "      <th>term</th>\n",
       "      <th>int_rate</th>\n",
       "      <th>emp_length</th>\n",
       "      <th>home_ownership</th>\n",
       "      <th>annual_inc</th>\n",
       "      <th>purpose</th>\n",
       "      <th>dti</th>\n",
       "      <th>bad_loan</th>\n",
       "      <th>longest_credit_length</th>\n",
       "      <th>verification_status</th>\n",
       "      <th>loan_amt</th>\n",
       "      <th>ints_rate</th>\n",
       "      <th>dti_ratio</th>\n",
       "      <th>emp_len</th>\n",
       "      <th>long_cred_len</th>\n",
       "    </tr>\n",
       "  </thead>\n",
       "  <tbody>\n",
       "    <tr>\n",
       "      <th>0</th>\n",
       "      <td>5000</td>\n",
       "      <td>36</td>\n",
       "      <td>10.65</td>\n",
       "      <td>10.0</td>\n",
       "      <td>5</td>\n",
       "      <td>10.085851</td>\n",
       "      <td>1</td>\n",
       "      <td>27.65</td>\n",
       "      <td>0</td>\n",
       "      <td>26.0</td>\n",
       "      <td>1</td>\n",
       "      <td>Medium</td>\n",
       "      <td>Medium</td>\n",
       "      <td>High</td>\n",
       "      <td>Expert</td>\n",
       "      <td>medium</td>\n",
       "    </tr>\n",
       "    <tr>\n",
       "      <th>1</th>\n",
       "      <td>2500</td>\n",
       "      <td>60</td>\n",
       "      <td>15.27</td>\n",
       "      <td>0.0</td>\n",
       "      <td>5</td>\n",
       "      <td>10.308986</td>\n",
       "      <td>0</td>\n",
       "      <td>1.00</td>\n",
       "      <td>1</td>\n",
       "      <td>12.0</td>\n",
       "      <td>1</td>\n",
       "      <td>low</td>\n",
       "      <td>High</td>\n",
       "      <td>low</td>\n",
       "      <td>Fresher</td>\n",
       "      <td>low</td>\n",
       "    </tr>\n",
       "    <tr>\n",
       "      <th>2</th>\n",
       "      <td>2400</td>\n",
       "      <td>36</td>\n",
       "      <td>15.96</td>\n",
       "      <td>10.0</td>\n",
       "      <td>5</td>\n",
       "      <td>9.413526</td>\n",
       "      <td>11</td>\n",
       "      <td>8.72</td>\n",
       "      <td>0</td>\n",
       "      <td>10.0</td>\n",
       "      <td>0</td>\n",
       "      <td>low</td>\n",
       "      <td>High</td>\n",
       "      <td>low</td>\n",
       "      <td>Expert</td>\n",
       "      <td>low</td>\n",
       "    </tr>\n",
       "    <tr>\n",
       "      <th>3</th>\n",
       "      <td>10000</td>\n",
       "      <td>36</td>\n",
       "      <td>13.49</td>\n",
       "      <td>10.0</td>\n",
       "      <td>5</td>\n",
       "      <td>10.803669</td>\n",
       "      <td>9</td>\n",
       "      <td>20.00</td>\n",
       "      <td>0</td>\n",
       "      <td>15.0</td>\n",
       "      <td>1</td>\n",
       "      <td>Medium</td>\n",
       "      <td>Medium</td>\n",
       "      <td>Medium</td>\n",
       "      <td>Expert</td>\n",
       "      <td>low</td>\n",
       "    </tr>\n",
       "    <tr>\n",
       "      <th>4</th>\n",
       "      <td>5000</td>\n",
       "      <td>36</td>\n",
       "      <td>7.90</td>\n",
       "      <td>3.0</td>\n",
       "      <td>5</td>\n",
       "      <td>10.491302</td>\n",
       "      <td>13</td>\n",
       "      <td>11.20</td>\n",
       "      <td>0</td>\n",
       "      <td>7.0</td>\n",
       "      <td>1</td>\n",
       "      <td>Medium</td>\n",
       "      <td>low</td>\n",
       "      <td>Medium</td>\n",
       "      <td>Junior</td>\n",
       "      <td>low</td>\n",
       "    </tr>\n",
       "  </tbody>\n",
       "</table>\n",
       "</div>"
      ],
      "text/plain": [
       "   loan_amnt  term  int_rate  emp_length  home_ownership  annual_inc  purpose  \\\n",
       "0       5000    36     10.65        10.0               5   10.085851        1   \n",
       "1       2500    60     15.27         0.0               5   10.308986        0   \n",
       "2       2400    36     15.96        10.0               5    9.413526       11   \n",
       "3      10000    36     13.49        10.0               5   10.803669        9   \n",
       "4       5000    36      7.90         3.0               5   10.491302       13   \n",
       "\n",
       "     dti  bad_loan  longest_credit_length  verification_status loan_amt  \\\n",
       "0  27.65         0                   26.0                    1   Medium   \n",
       "1   1.00         1                   12.0                    1      low   \n",
       "2   8.72         0                   10.0                    0      low   \n",
       "3  20.00         0                   15.0                    1   Medium   \n",
       "4  11.20         0                    7.0                    1   Medium   \n",
       "\n",
       "  ints_rate dti_ratio  emp_len long_cred_len  \n",
       "0    Medium      High   Expert        medium  \n",
       "1      High       low  Fresher           low  \n",
       "2      High       low   Expert           low  \n",
       "3    Medium    Medium   Expert           low  \n",
       "4       low    Medium   Junior           low  "
      ]
     },
     "execution_count": 39,
     "metadata": {},
     "output_type": "execute_result"
    }
   ],
   "source": [
    "#lets bin the emp_length variable into low, medim, high, very high\n",
    "long_cred_len=[]\n",
    "for id,row in df.iterrows():\n",
    "    if row['longest_credit_length'] >= 0 and row['longest_credit_length'] <=15:\n",
    "        long_cred_len.append('low')\n",
    "    elif row['longest_credit_length']> 15 and row['longest_credit_length']<=30:\n",
    "        long_cred_len.append('medium')\n",
    "    elif row['longest_credit_length']> 30 and row['longest_credit_length']<=45:\n",
    "        long_cred_len.append('high')    \n",
    "    else:\n",
    "        long_cred_len.append('very high')\n",
    "        \n",
    "df['long_cred_len']=long_cred_len\n",
    "df.head(5)"
   ]
  },
  {
   "cell_type": "code",
   "execution_count": 40,
   "metadata": {},
   "outputs": [
    {
     "data": {
      "text/plain": [
       "low          101953\n",
       "medium        56626\n",
       "high           5150\n",
       "very high       258\n",
       "Name: long_cred_len, dtype: int64"
      ]
     },
     "execution_count": 40,
     "metadata": {},
     "output_type": "execute_result"
    }
   ],
   "source": [
    "df['long_cred_len'].value_counts()"
   ]
  },
  {
   "cell_type": "markdown",
   "metadata": {},
   "source": [
    "# Drop repeat columns"
   ]
  },
  {
   "cell_type": "code",
   "execution_count": 41,
   "metadata": {},
   "outputs": [
    {
     "data": {
      "text/html": [
       "<div>\n",
       "<style scoped>\n",
       "    .dataframe tbody tr th:only-of-type {\n",
       "        vertical-align: middle;\n",
       "    }\n",
       "\n",
       "    .dataframe tbody tr th {\n",
       "        vertical-align: top;\n",
       "    }\n",
       "\n",
       "    .dataframe thead th {\n",
       "        text-align: right;\n",
       "    }\n",
       "</style>\n",
       "<table border=\"1\" class=\"dataframe\">\n",
       "  <thead>\n",
       "    <tr style=\"text-align: right;\">\n",
       "      <th></th>\n",
       "      <th>term</th>\n",
       "      <th>home_ownership</th>\n",
       "      <th>annual_inc</th>\n",
       "      <th>purpose</th>\n",
       "      <th>bad_loan</th>\n",
       "      <th>verification_status</th>\n",
       "      <th>loan_amt</th>\n",
       "      <th>ints_rate</th>\n",
       "      <th>dti_ratio</th>\n",
       "      <th>emp_len</th>\n",
       "      <th>long_cred_len</th>\n",
       "    </tr>\n",
       "  </thead>\n",
       "  <tbody>\n",
       "    <tr>\n",
       "      <th>0</th>\n",
       "      <td>36</td>\n",
       "      <td>5</td>\n",
       "      <td>10.085851</td>\n",
       "      <td>1</td>\n",
       "      <td>0</td>\n",
       "      <td>1</td>\n",
       "      <td>Medium</td>\n",
       "      <td>Medium</td>\n",
       "      <td>High</td>\n",
       "      <td>Expert</td>\n",
       "      <td>medium</td>\n",
       "    </tr>\n",
       "    <tr>\n",
       "      <th>1</th>\n",
       "      <td>60</td>\n",
       "      <td>5</td>\n",
       "      <td>10.308986</td>\n",
       "      <td>0</td>\n",
       "      <td>1</td>\n",
       "      <td>1</td>\n",
       "      <td>low</td>\n",
       "      <td>High</td>\n",
       "      <td>low</td>\n",
       "      <td>Fresher</td>\n",
       "      <td>low</td>\n",
       "    </tr>\n",
       "    <tr>\n",
       "      <th>2</th>\n",
       "      <td>36</td>\n",
       "      <td>5</td>\n",
       "      <td>9.413526</td>\n",
       "      <td>11</td>\n",
       "      <td>0</td>\n",
       "      <td>0</td>\n",
       "      <td>low</td>\n",
       "      <td>High</td>\n",
       "      <td>low</td>\n",
       "      <td>Expert</td>\n",
       "      <td>low</td>\n",
       "    </tr>\n",
       "    <tr>\n",
       "      <th>3</th>\n",
       "      <td>36</td>\n",
       "      <td>5</td>\n",
       "      <td>10.803669</td>\n",
       "      <td>9</td>\n",
       "      <td>0</td>\n",
       "      <td>1</td>\n",
       "      <td>Medium</td>\n",
       "      <td>Medium</td>\n",
       "      <td>Medium</td>\n",
       "      <td>Expert</td>\n",
       "      <td>low</td>\n",
       "    </tr>\n",
       "    <tr>\n",
       "      <th>4</th>\n",
       "      <td>36</td>\n",
       "      <td>5</td>\n",
       "      <td>10.491302</td>\n",
       "      <td>13</td>\n",
       "      <td>0</td>\n",
       "      <td>1</td>\n",
       "      <td>Medium</td>\n",
       "      <td>low</td>\n",
       "      <td>Medium</td>\n",
       "      <td>Junior</td>\n",
       "      <td>low</td>\n",
       "    </tr>\n",
       "  </tbody>\n",
       "</table>\n",
       "</div>"
      ],
      "text/plain": [
       "   term  home_ownership  annual_inc  purpose  bad_loan  verification_status  \\\n",
       "0    36               5   10.085851        1         0                    1   \n",
       "1    60               5   10.308986        0         1                    1   \n",
       "2    36               5    9.413526       11         0                    0   \n",
       "3    36               5   10.803669        9         0                    1   \n",
       "4    36               5   10.491302       13         0                    1   \n",
       "\n",
       "  loan_amt ints_rate dti_ratio  emp_len long_cred_len  \n",
       "0   Medium    Medium      High   Expert        medium  \n",
       "1      low      High       low  Fresher           low  \n",
       "2      low      High       low   Expert           low  \n",
       "3   Medium    Medium    Medium   Expert           low  \n",
       "4   Medium       low    Medium   Junior           low  "
      ]
     },
     "execution_count": 41,
     "metadata": {},
     "output_type": "execute_result"
    }
   ],
   "source": [
    "df=df.drop(['loan_amnt','int_rate','dti','emp_length','longest_credit_length'],axis=1)\n",
    "df.head()"
   ]
  },
  {
   "cell_type": "markdown",
   "metadata": {},
   "source": [
    "# Label Encoding"
   ]
  },
  {
   "cell_type": "code",
   "execution_count": 42,
   "metadata": {},
   "outputs": [
    {
     "data": {
      "text/plain": [
       "array([1, 3, 0, 2], dtype=int64)"
      ]
     },
     "execution_count": 42,
     "metadata": {},
     "output_type": "execute_result"
    }
   ],
   "source": [
    "# Encode labels in column 'loan_amt'. \n",
    "df['loan_amt']= label_encoder.fit_transform(df['loan_amt']) \n",
    "  \n",
    "df['loan_amt'].unique()"
   ]
  },
  {
   "cell_type": "code",
   "execution_count": 43,
   "metadata": {},
   "outputs": [
    {
     "data": {
      "text/plain": [
       "array([0, 1, 2, 3], dtype=int64)"
      ]
     },
     "execution_count": 43,
     "metadata": {},
     "output_type": "execute_result"
    }
   ],
   "source": [
    "# Encode labels in column 'emp_len'. \n",
    "df['emp_len']= label_encoder.fit_transform(df['emp_len']) \n",
    "  \n",
    "df['emp_len'].unique()"
   ]
  },
  {
   "cell_type": "code",
   "execution_count": 44,
   "metadata": {},
   "outputs": [
    {
     "data": {
      "text/plain": [
       "array([2, 1, 0, 3], dtype=int64)"
      ]
     },
     "execution_count": 44,
     "metadata": {},
     "output_type": "execute_result"
    }
   ],
   "source": [
    "# Encode labels in column 'long_cred_len'. \n",
    "df['long_cred_len']= label_encoder.fit_transform(df['long_cred_len']) \n",
    "  \n",
    "df['long_cred_len'].unique()"
   ]
  },
  {
   "cell_type": "code",
   "execution_count": 45,
   "metadata": {},
   "outputs": [
    {
     "data": {
      "text/plain": [
       "array([1, 0, 2], dtype=int64)"
      ]
     },
     "execution_count": 45,
     "metadata": {},
     "output_type": "execute_result"
    }
   ],
   "source": [
    "# Encode labels in column 'ints_rate'. \n",
    "df['ints_rate']= label_encoder.fit_transform(df['ints_rate']) \n",
    "  \n",
    "df['ints_rate'].unique()"
   ]
  },
  {
   "cell_type": "code",
   "execution_count": 46,
   "metadata": {},
   "outputs": [
    {
     "data": {
      "text/plain": [
       "array([0, 2, 1], dtype=int64)"
      ]
     },
     "execution_count": 46,
     "metadata": {},
     "output_type": "execute_result"
    }
   ],
   "source": [
    "# Encode labels in column 'dti_ratio'. \n",
    "df['dti_ratio']= label_encoder.fit_transform(df['dti_ratio']) \n",
    "  \n",
    "df['dti_ratio'].unique()"
   ]
  },
  {
   "cell_type": "markdown",
   "metadata": {},
   "source": [
    "# Train, Test Splitting of data"
   ]
  },
  {
   "cell_type": "code",
   "execution_count": 47,
   "metadata": {},
   "outputs": [],
   "source": [
    "from sklearn.model_selection import train_test_split\n",
    "x = df.drop(['bad_loan'], axis = 1)\n",
    "y = df.bad_loan\n",
    "x = PowerTransformer().fit_transform(x)\n",
    "x_train, x_test, y_train, y_test = train_test_split(x, y, test_size= 0.3)"
   ]
  },
  {
   "cell_type": "markdown",
   "metadata": {},
   "source": [
    "# Decision Tree"
   ]
  },
  {
   "cell_type": "code",
   "execution_count": 48,
   "metadata": {},
   "outputs": [
    {
     "name": "stdout",
     "output_type": "stream",
     "text": [
      "0.6842693660182532\n",
      "0.8372384823109026\n",
      "0.762394436164928\n",
      "0.7980655477697898\n",
      "[[30694  9566]\n",
      " [ 5967  2970]]\n",
      "              precision    recall  f1-score   support\n",
      "\n",
      "           0       0.84      0.76      0.80     40260\n",
      "           1       0.24      0.33      0.28      8937\n",
      "\n",
      "    accuracy                           0.68     49197\n",
      "   macro avg       0.54      0.55      0.54     49197\n",
      "weighted avg       0.73      0.68      0.70     49197\n",
      "\n"
     ]
    }
   ],
   "source": [
    "from sklearn import metrics\n",
    "from sklearn import tree\n",
    "\n",
    "dtree = tree.DecisionTreeClassifier(class_weight='balanced')\n",
    "dtree = dtree.fit(x_train, y_train)\n",
    "\n",
    "dtree_pred = dtree.predict(x_test)\n",
    "\n",
    "dtree_accuracy = metrics.accuracy_score(y_test, dtree_pred)\n",
    "print(dtree_accuracy)\n",
    "\n",
    "dtree_precision=metrics.precision_score(y_test, dtree_pred,pos_label=0)\n",
    "print(dtree_precision)\n",
    "\n",
    "dtree_recall=metrics.recall_score(y_test, dtree_pred,pos_label=0)\n",
    "print(dtree_recall)\n",
    "\n",
    "dtree_f1_score= metrics.f1_score(y_test, dtree_pred,pos_label=0)\n",
    "print(dtree_f1_score)\n",
    "\n",
    "print(confusion_matrix(y_test,dtree_pred))\n",
    "print(classification_report(y_test,dtree_pred))"
   ]
  },
  {
   "cell_type": "markdown",
   "metadata": {},
   "source": [
    "# Decision Tree with Cross Validation"
   ]
  },
  {
   "cell_type": "code",
   "execution_count": 49,
   "metadata": {},
   "outputs": [
    {
     "name": "stdout",
     "output_type": "stream",
     "text": [
      "0.6797854391932916\n",
      "0.5362085244670439\n",
      "0.5463586478297766\n",
      "0.5352779561143073\n"
     ]
    }
   ],
   "source": [
    "from sklearn.model_selection import cross_val_score\n",
    "\n",
    "dtree_cross_val_acc = cross_val_score(dtree, x, y, cv=10, scoring='accuracy')\n",
    "\n",
    "dtree_cv_accuracy = dtree_cross_val_acc.mean()\n",
    "print(dtree_cv_accuracy)\n",
    "\n",
    "dtree_cross_val_pre = cross_val_score(dtree, x, y, cv=10, scoring='precision_macro')\n",
    "dtree_cv_precision = dtree_cross_val_pre.mean()\n",
    "print(dtree_cv_precision)\n",
    "\n",
    "dtree_cross_val_re = cross_val_score(dtree, x, y, cv=10, scoring='recall_macro')\n",
    "dtree_cv_recall = dtree_cross_val_re.mean()\n",
    "print(dtree_cv_recall)\n",
    "\n",
    "dtree_cross_val_f1 = cross_val_score(dtree, x, y, cv=10, scoring='f1_macro')\n",
    "dtree_cv_f1_score = dtree_cross_val_f1.mean()\n",
    "print(dtree_cv_f1_score)"
   ]
  },
  {
   "cell_type": "markdown",
   "metadata": {},
   "source": [
    "# Naive Bayes"
   ]
  },
  {
   "cell_type": "code",
   "execution_count": 50,
   "metadata": {},
   "outputs": [
    {
     "name": "stdout",
     "output_type": "stream",
     "text": [
      "0.7867959428420432\n",
      "0.8406994575541874\n",
      "0.9123447590660705\n",
      "0.8750580695882122\n",
      "[[36731  3529]\n",
      " [ 6960  1977]]\n",
      "              precision    recall  f1-score   support\n",
      "\n",
      "           0       0.84      0.91      0.88     40260\n",
      "           1       0.36      0.22      0.27      8937\n",
      "\n",
      "    accuracy                           0.79     49197\n",
      "   macro avg       0.60      0.57      0.57     49197\n",
      "weighted avg       0.75      0.79      0.77     49197\n",
      "\n"
     ]
    }
   ],
   "source": [
    "from sklearn.naive_bayes import GaussianNB\n",
    "from sklearn import metrics\n",
    "\n",
    "Nb = GaussianNB()\n",
    "Nb.fit(x_train,y_train)\n",
    "Nb_pred= Nb.predict(x_test)\n",
    "Nb_accuracy = metrics.accuracy_score(y_test, Nb_pred)\n",
    "print(Nb_accuracy)\n",
    "\n",
    "Nb_precision=metrics.precision_score(y_test, Nb_pred,pos_label=0)\n",
    "print(Nb_precision)\n",
    "\n",
    "Nb_recall=metrics.recall_score(y_test, Nb_pred,pos_label=0)\n",
    "print(Nb_recall)\n",
    "\n",
    "Nb_f1_score= metrics.f1_score(y_test, Nb_pred,pos_label=0)\n",
    "print(Nb_f1_score)\n",
    "\n",
    "print(confusion_matrix(y_test,Nb_pred))\n",
    "print(classification_report(y_test,Nb_pred))"
   ]
  },
  {
   "cell_type": "markdown",
   "metadata": {},
   "source": [
    "# Naive Bayes with cross Validation"
   ]
  },
  {
   "cell_type": "code",
   "execution_count": 51,
   "metadata": {},
   "outputs": [
    {
     "name": "stdout",
     "output_type": "stream",
     "text": [
      "0.7835984389411845\n",
      "0.6013055745985104\n",
      "0.5650459448216105\n",
      "0.5702576114463068\n"
     ]
    }
   ],
   "source": [
    "from sklearn.model_selection import cross_val_score\n",
    "\n",
    "Nb_cross_val = cross_val_score(Nb, x, y, cv=10, scoring='accuracy')\n",
    "\n",
    "Nb_cv_accuracy = Nb_cross_val.mean()\n",
    "print(Nb_cv_accuracy)\n",
    "\n",
    "Nb_cross_val_pre = cross_val_score(Nb, x, y, cv=10, scoring='precision_macro')\n",
    "Nb_cv_precision = Nb_cross_val_pre.mean()\n",
    "print(Nb_cv_precision)\n",
    "\n",
    "Nb_cross_val_re = cross_val_score(Nb, x, y, cv=10, scoring='recall_macro')\n",
    "Nb_cv_recall = Nb_cross_val_re.mean()\n",
    "print(Nb_cv_recall)\n",
    "\n",
    "Nb_cross_val_f1 = cross_val_score(Nb, x, y, cv=10, scoring='f1_macro')\n",
    "Nb_cv_f1_score = Nb_cross_val_f1.mean()\n",
    "print(Nb_cv_f1_score)"
   ]
  },
  {
   "cell_type": "markdown",
   "metadata": {},
   "source": [
    "# Random Forest"
   ]
  },
  {
   "cell_type": "code",
   "execution_count": 52,
   "metadata": {},
   "outputs": [
    {
     "name": "stdout",
     "output_type": "stream",
     "text": [
      "0.7472610118503161\n",
      "0.8329424715229252\n",
      "0.8645553899652261\n",
      "0.8484545631825273\n",
      "[[34807  5453]\n",
      " [ 6981  1956]]\n",
      "              precision    recall  f1-score   support\n",
      "\n",
      "           0       0.83      0.86      0.85     40260\n",
      "           1       0.26      0.22      0.24      8937\n",
      "\n",
      "    accuracy                           0.75     49197\n",
      "   macro avg       0.55      0.54      0.54     49197\n",
      "weighted avg       0.73      0.75      0.74     49197\n",
      "\n"
     ]
    }
   ],
   "source": [
    "from sklearn.ensemble import RandomForestClassifier\n",
    "rnd_for = RandomForestClassifier(class_weight='balanced')\n",
    "rnd_for.fit(x_train, y_train)\n",
    "rnd_for_pred = rnd_for.predict(x_test)\n",
    "rnd_for_accuracy = metrics.accuracy_score(y_test, rnd_for_pred)\n",
    "print(rnd_for_accuracy)\n",
    "\n",
    "rnd_for_precision=metrics.precision_score(y_test, rnd_for_pred,pos_label=0)\n",
    "print(rnd_for_precision)\n",
    "\n",
    "rnd_for_recall=metrics.recall_score(y_test, rnd_for_pred,pos_label=0)\n",
    "print(rnd_for_recall)\n",
    "\n",
    "rnd_for_f1_score= metrics.f1_score(y_test, rnd_for_pred,pos_label=0)\n",
    "print(rnd_for_f1_score)\n",
    "\n",
    "print(confusion_matrix(y_test,rnd_for_pred))\n",
    "print(classification_report(y_test,rnd_for_pred))"
   ]
  },
  {
   "cell_type": "markdown",
   "metadata": {},
   "source": [
    "# Random Forest with Classification"
   ]
  },
  {
   "cell_type": "code",
   "execution_count": 53,
   "metadata": {},
   "outputs": [
    {
     "name": "stdout",
     "output_type": "stream",
     "text": [
      "0.7427050916806579\n",
      "0.5486734368529884\n",
      "0.5418146762800187\n",
      "0.5427467420808539\n"
     ]
    }
   ],
   "source": [
    "rnd_for_cross_val = cross_val_score(rnd_for, x, y, cv=10, scoring='accuracy')\n",
    "rnd_for_cv_accuracy = rnd_for_cross_val.mean()\n",
    "print(rnd_for_cv_accuracy)\n",
    "\n",
    "rnd_for_cross_val_pre = cross_val_score(rnd_for, x, y, cv=10, scoring='precision_macro')\n",
    "rnd_for_cv_precision = rnd_for_cross_val_pre.mean()\n",
    "print(rnd_for_cv_precision)\n",
    "\n",
    "rnd_for_cross_val_re = cross_val_score(rnd_for, x, y, cv=10, scoring='recall_macro')\n",
    "rnd_for_cv_recall = rnd_for_cross_val_re.mean()\n",
    "print(rnd_for_cv_recall)\n",
    "\n",
    "rnd_for_cross_val_f1 = cross_val_score(rnd_for, x, y, cv=10, scoring='f1_macro')\n",
    "rnd_for_cv_f1_score = rnd_for_cross_val_f1.mean()\n",
    "print(rnd_for_cv_f1_score)"
   ]
  },
  {
   "cell_type": "markdown",
   "metadata": {},
   "source": [
    "# Logistic Regression"
   ]
  },
  {
   "cell_type": "code",
   "execution_count": 54,
   "metadata": {},
   "outputs": [
    {
     "name": "stdout",
     "output_type": "stream",
     "text": [
      "0.6360753704494176\n",
      "0.8866482186094777\n",
      "0.6366865375062096\n",
      "0.741159462194593\n",
      "[[25633 14627]\n",
      " [ 3277  5660]]\n",
      "              precision    recall  f1-score   support\n",
      "\n",
      "           0       0.89      0.64      0.74     40260\n",
      "           1       0.28      0.63      0.39      8937\n",
      "\n",
      "    accuracy                           0.64     49197\n",
      "   macro avg       0.58      0.64      0.56     49197\n",
      "weighted avg       0.78      0.64      0.68     49197\n",
      "\n"
     ]
    }
   ],
   "source": [
    "from sklearn.linear_model import LogisticRegression\n",
    "log = LogisticRegression(class_weight='balanced')\n",
    "log.fit(x_train, y_train)\n",
    "log_pred = log.predict(x_test)\n",
    "log_accuracy = metrics.accuracy_score(y_test, log_pred)\n",
    "print(log_accuracy)\n",
    "\n",
    "log_precision=metrics.precision_score(y_test, log_pred,pos_label=0)\n",
    "print(log_precision)\n",
    "\n",
    "log_recall=metrics.recall_score(y_test, log_pred,pos_label=0)\n",
    "print(log_recall)\n",
    "\n",
    "log_f1_score= metrics.f1_score(y_test, log_pred,pos_label=0)\n",
    "print(log_f1_score)\n",
    "\n",
    "print(confusion_matrix(y_test,log_pred))\n",
    "print(classification_report(y_test,log_pred))"
   ]
  },
  {
   "cell_type": "markdown",
   "metadata": {},
   "source": [
    "# Logistic Regression with Cross validation"
   ]
  },
  {
   "cell_type": "code",
   "execution_count": 55,
   "metadata": {},
   "outputs": [
    {
     "name": "stdout",
     "output_type": "stream",
     "text": [
      "0.6397698451003604\n",
      "0.5864040691214016\n",
      "0.6359519651184133\n",
      "0.5658783394257138\n"
     ]
    }
   ],
   "source": [
    "log_cross_val = cross_val_score(log, x, y, cv=10, scoring='accuracy')\n",
    "log_cv_accuracy = log_cross_val.mean()\n",
    "print(log_cv_accuracy)\n",
    "\n",
    "log_cross_val_pre = cross_val_score(log, x, y, cv=10, scoring='precision_macro')\n",
    "log_cv_precision = log_cross_val_pre.mean()\n",
    "print(log_cv_precision)\n",
    "\n",
    "log_cross_val_re = cross_val_score(log, x, y, cv=10, scoring='recall_macro')\n",
    "log_cv_recall = log_cross_val_re.mean()\n",
    "print(log_cv_recall)\n",
    "\n",
    "log_cross_val_f1 = cross_val_score(log, x, y, cv=10, scoring='f1_macro')\n",
    "log_cv_f1_score = log_cross_val_f1.mean()\n",
    "print(log_cv_f1_score)"
   ]
  },
  {
   "cell_type": "markdown",
   "metadata": {},
   "source": [
    "# Adaboost"
   ]
  },
  {
   "cell_type": "code",
   "execution_count": 56,
   "metadata": {},
   "outputs": [
    {
     "name": "stdout",
     "output_type": "stream",
     "text": [
      "0.8181393174380551\n",
      "0.818980094941222\n",
      "0.9984600099354197\n",
      "0.8998578512026684\n",
      "[[40198    62]\n",
      " [ 8885    52]]\n",
      "              precision    recall  f1-score   support\n",
      "\n",
      "           0       0.82      1.00      0.90     40260\n",
      "           1       0.46      0.01      0.01      8937\n",
      "\n",
      "    accuracy                           0.82     49197\n",
      "   macro avg       0.64      0.50      0.46     49197\n",
      "weighted avg       0.75      0.82      0.74     49197\n",
      "\n"
     ]
    }
   ],
   "source": [
    "from sklearn.ensemble import AdaBoostClassifier\n",
    "from sklearn.tree import DecisionTreeClassifier\n",
    "from sklearn import metrics\n",
    "\n",
    "\n",
    "Ada_model=AdaBoostClassifier(DecisionTreeClassifier(max_depth=1),n_estimators=500,learning_rate=0.1)\n",
    "Ada_model.fit(x_train,y_train)\n",
    "ada_pred=Ada_model.predict(x_test)\n",
    "ada_accuracy = metrics.accuracy_score(y_test, ada_pred)\n",
    "print(ada_accuracy)\n",
    "\n",
    "ada_precision=metrics.precision_score(y_test, ada_pred,pos_label=0)\n",
    "print(ada_precision)\n",
    "\n",
    "ada_recall=metrics.recall_score(y_test, ada_pred,pos_label=0)\n",
    "print(ada_recall)\n",
    "\n",
    "ada_f1_score= metrics.f1_score(y_test, ada_pred,pos_label=0)\n",
    "print(ada_f1_score)\n",
    "\n",
    "print(confusion_matrix(y_test,ada_pred))\n",
    "print(classification_report(y_test,ada_pred))"
   ]
  },
  {
   "cell_type": "markdown",
   "metadata": {},
   "source": [
    "# Adaboost with cross Validation"
   ]
  },
  {
   "cell_type": "code",
   "execution_count": 57,
   "metadata": {},
   "outputs": [
    {
     "name": "stdout",
     "output_type": "stream",
     "text": [
      "0.6397698451003604\n",
      "0.6615376338340221\n",
      "0.502253078841027\n",
      "0.45524864490227274\n"
     ]
    }
   ],
   "source": [
    "ada_cross_val = cross_val_score(Ada_model, x, y, cv=10, scoring='accuracy')\n",
    "ada_cv_accuracy = log_cross_val.mean()\n",
    "print(ada_cv_accuracy)\n",
    "\n",
    "ada_cross_val_pre = cross_val_score(Ada_model, x, y, cv=10, scoring='precision_macro')\n",
    "ada_cv_precision = ada_cross_val_pre.mean()\n",
    "print(ada_cv_precision)\n",
    "\n",
    "ada_cross_val_re = cross_val_score(Ada_model, x, y, cv=10, scoring='recall_macro')\n",
    "ada_cv_recall = ada_cross_val_re.mean()\n",
    "print(ada_cv_recall)\n",
    "\n",
    "ada_cross_val_f1 = cross_val_score(Ada_model, x, y, cv=10, scoring='f1_macro')\n",
    "ada_cv_f1_score = ada_cross_val_f1.mean()\n",
    "print(ada_cv_f1_score)\n"
   ]
  },
  {
   "cell_type": "markdown",
   "metadata": {},
   "source": [
    "# KNN"
   ]
  },
  {
   "cell_type": "code",
   "execution_count": 58,
   "metadata": {},
   "outputs": [
    {
     "name": "stdout",
     "output_type": "stream",
     "text": [
      "0.8170213630912454\n",
      "0.8207001272212419\n",
      "0.9934426229508196\n",
      "0.8988471132885363\n",
      "[[39996   264]\n",
      " [ 8738   199]]\n",
      "              precision    recall  f1-score   support\n",
      "\n",
      "           0       0.82      0.99      0.90     40260\n",
      "           1       0.43      0.02      0.04      8937\n",
      "\n",
      "    accuracy                           0.82     49197\n",
      "   macro avg       0.63      0.51      0.47     49197\n",
      "weighted avg       0.75      0.82      0.74     49197\n",
      "\n"
     ]
    }
   ],
   "source": [
    "from sklearn.neighbors import KNeighborsClassifier\n",
    "from sklearn.metrics import accuracy_score\n",
    "knn = KNeighborsClassifier(n_neighbors=35)\n",
    "knn.fit(x_train, y_train)\n",
    "knn_pred = knn.predict(x_test)\n",
    "knn_accuracy = accuracy_score(y_test, knn_pred)\n",
    "print(knn_accuracy)\n",
    "\n",
    "knn_precision=metrics.precision_score(y_test, knn_pred,pos_label=0)\n",
    "print(knn_precision)\n",
    "\n",
    "knn_recall=metrics.recall_score(y_test, knn_pred,pos_label=0)\n",
    "print(knn_recall)\n",
    "\n",
    "knn_f1_score= metrics.f1_score(y_test, knn_pred,pos_label=0)\n",
    "print(knn_f1_score)\n",
    "\n",
    "print(confusion_matrix(y_test,knn_pred))\n",
    "print(classification_report(y_test,knn_pred))"
   ]
  },
  {
   "cell_type": "markdown",
   "metadata": {},
   "source": [
    "# KNN with Cross Validation"
   ]
  },
  {
   "cell_type": "code",
   "execution_count": 59,
   "metadata": {},
   "outputs": [
    {
     "name": "stdout",
     "output_type": "stream",
     "text": [
      "0.8151316820789647\n",
      "0.6258657689807766\n",
      "0.5097508657498482\n",
      "0.47488979386534586\n"
     ]
    }
   ],
   "source": [
    "from sklearn.neighbors import KNeighborsClassifier\n",
    "from sklearn.model_selection import cross_val_score\n",
    "\n",
    "knn_cross_val = cross_val_score(knn, x, y, cv=10, scoring='accuracy')\n",
    "knn_cv_accuracy = knn_cross_val.mean()\n",
    "print(knn_cv_accuracy)\n",
    "\n",
    "knn_cross_val_pre = cross_val_score(knn, x, y, cv=10, scoring='precision_macro')\n",
    "knn_cv_precision = knn_cross_val_pre.mean()\n",
    "print(knn_cv_precision)\n",
    "\n",
    "knn_cross_val_re = cross_val_score(knn, x, y, cv=10, scoring='recall_macro')\n",
    "knn_cv_recall = knn_cross_val_re.mean()\n",
    "print(knn_cv_recall)\n",
    "\n",
    "knn_cross_val_f1 = cross_val_score(knn, x, y, cv=10, scoring='f1_macro')\n",
    "knn_cv_f1_score = knn_cross_val_f1.mean()\n",
    "print(knn_cv_f1_score)"
   ]
  },
  {
   "cell_type": "markdown",
   "metadata": {},
   "source": [
    "# SVM"
   ]
  },
  {
   "cell_type": "code",
   "execution_count": 60,
   "metadata": {},
   "outputs": [],
   "source": [
    "# from sklearn.svm import SVC\n",
    "# svm = SVC(gamma='auto',kernel='rbf')\n",
    "# svm.fit(x_train, y_train)\n",
    "# svm_pred = svm.predict(x_test)\n",
    "# svm_accuracy = metrics.accuracy_score(y_test, svm_pred)\n",
    "# print(svm_accuracy)"
   ]
  },
  {
   "cell_type": "markdown",
   "metadata": {},
   "source": [
    "# SVM with Cross Validation"
   ]
  },
  {
   "cell_type": "code",
   "execution_count": 61,
   "metadata": {},
   "outputs": [],
   "source": [
    "# svm_cross_val = cross_val_score(svm, x, y, cv=10, scoring='accuracy')\n",
    "# svm_cv_accuracy = svm_cross_val.mean()\n",
    "# print(svm_cv_accuracy)"
   ]
  },
  {
   "cell_type": "markdown",
   "metadata": {},
   "source": [
    "# Gradient Boosting Classifier"
   ]
  },
  {
   "cell_type": "code",
   "execution_count": 62,
   "metadata": {},
   "outputs": [
    {
     "name": "stdout",
     "output_type": "stream",
     "text": [
      "0.8179970323393703\n",
      "0.8192014356213548\n",
      "0.9978142076502732\n",
      "0.8997289972899728\n",
      "[[40172    88]\n",
      " [ 8866    71]]\n",
      "              precision    recall  f1-score   support\n",
      "\n",
      "           0       0.82      1.00      0.90     40260\n",
      "           1       0.45      0.01      0.02      8937\n",
      "\n",
      "    accuracy                           0.82     49197\n",
      "   macro avg       0.63      0.50      0.46     49197\n",
      "weighted avg       0.75      0.82      0.74     49197\n",
      "\n"
     ]
    }
   ],
   "source": [
    "from sklearn.ensemble import GradientBoostingClassifier\n",
    "\n",
    "Grad_boost = GradientBoostingClassifier()\n",
    "Grad_boost.fit(x_train, y_train)\n",
    "Grad_boost_pred = Grad_boost.predict(x_test)\n",
    "Grad_boost_accuracy = metrics.accuracy_score(y_test, Grad_boost_pred)\n",
    "print(Grad_boost_accuracy)\n",
    "\n",
    "Grad_boost_precision=metrics.precision_score(y_test, Grad_boost_pred,pos_label=0)\n",
    "print(Grad_boost_precision)\n",
    "\n",
    "Grad_boost_recall=metrics.recall_score(y_test, Grad_boost_pred,pos_label=0)\n",
    "print(Grad_boost_recall)\n",
    "\n",
    "Grad_boost_f1_score= metrics.f1_score(y_test, Grad_boost_pred,pos_label=0)\n",
    "print(Grad_boost_f1_score)\n",
    "\n",
    "print(confusion_matrix(y_test,Grad_boost_pred))\n",
    "print(classification_report(y_test,Grad_boost_pred))"
   ]
  },
  {
   "cell_type": "markdown",
   "metadata": {},
   "source": [
    "# Gradient Boosting Classifier with Cross Validation"
   ]
  },
  {
   "cell_type": "code",
   "execution_count": 63,
   "metadata": {},
   "outputs": [
    {
     "name": "stdout",
     "output_type": "stream",
     "text": [
      "0.8167537563759643\n",
      "0.6410945129516503\n",
      "0.5029106462214759\n",
      "0.45718112837634106\n"
     ]
    }
   ],
   "source": [
    "Grad_boost_cross_val = cross_val_score(Grad_boost, x, y, cv=10, scoring='accuracy')\n",
    "Grad_boost_cv_accuracy = Grad_boost_cross_val.mean()\n",
    "print(Grad_boost_cv_accuracy)\n",
    "\n",
    "Grad_boost_cross_val_pre = cross_val_score(Grad_boost, x, y, cv=10, scoring='precision_macro')\n",
    "Grad_boost_cv_precision = Grad_boost_cross_val_pre.mean()\n",
    "print(Grad_boost_cv_precision)\n",
    "\n",
    "Grad_boost_cross_val_re = cross_val_score(Grad_boost, x, y, cv=10, scoring='recall_macro')\n",
    "Grad_boost_cv_recall = Grad_boost_cross_val_re.mean()\n",
    "print(Grad_boost_cv_recall)\n",
    "\n",
    "Grad_boost_cross_val_f1 = cross_val_score(Grad_boost, x, y, cv=10, scoring='f1_macro')\n",
    "Grad_boost_cv_f1_score = Grad_boost_cross_val_f1.mean()\n",
    "print(Grad_boost_cv_f1_score)"
   ]
  },
  {
   "cell_type": "markdown",
   "metadata": {},
   "source": [
    "# Multilayer Perceptron"
   ]
  },
  {
   "cell_type": "code",
   "execution_count": 64,
   "metadata": {},
   "outputs": [
    {
     "name": "stdout",
     "output_type": "stream",
     "text": [
      "0.818423887635425\n",
      "0.818499766160353\n",
      "0.999826130153999\n",
      "0.9001218707722582\n",
      "[[40253     7]\n",
      " [ 8926    11]]\n",
      "              precision    recall  f1-score   support\n",
      "\n",
      "           0       0.82      1.00      0.90     40260\n",
      "           1       0.61      0.00      0.00      8937\n",
      "\n",
      "    accuracy                           0.82     49197\n",
      "   macro avg       0.71      0.50      0.45     49197\n",
      "weighted avg       0.78      0.82      0.74     49197\n",
      "\n"
     ]
    }
   ],
   "source": [
    "from sklearn.neural_network import MLPClassifier\n",
    "MLP = MLPClassifier(max_iter=200,activation='logistic')\n",
    "MLP.fit(x_train, y_train)\n",
    "MLP_pred = MLP.predict(x_test)\n",
    "MLP_accuracy = metrics.accuracy_score(y_test, MLP_pred)\n",
    "print(MLP_accuracy)\n",
    "\n",
    "MLP_precision=metrics.precision_score(y_test, MLP_pred,pos_label=0)\n",
    "print(MLP_precision)\n",
    "\n",
    "MLP_recall=metrics.recall_score(y_test, MLP_pred,pos_label=0)\n",
    "print(MLP_recall)\n",
    "\n",
    "MLP_f1_score= metrics.f1_score(y_test, MLP_pred,pos_label=0)\n",
    "print(MLP_f1_score)\n",
    "\n",
    "print(confusion_matrix(y_test,MLP_pred))\n",
    "print(classification_report(y_test,MLP_pred))"
   ]
  },
  {
   "cell_type": "markdown",
   "metadata": {},
   "source": [
    "# Multilayer Perceptron with Cross Validation"
   ]
  },
  {
   "cell_type": "code",
   "execution_count": 65,
   "metadata": {},
   "outputs": [
    {
     "name": "stdout",
     "output_type": "stream",
     "text": [
      "0.8169550048918832\n",
      "0.6532237604307817\n",
      "0.5012443322272078\n",
      "0.45299007650702344\n"
     ]
    }
   ],
   "source": [
    "MLP_cross_val = cross_val_score(MLP, x, y, cv=10, scoring='accuracy')\n",
    "MLP_cv_accuracy = MLP_cross_val.mean()\n",
    "print(MLP_cv_accuracy)\n",
    "\n",
    "MLP_cross_val_pre = cross_val_score(MLP, x, y, cv=10, scoring='precision_macro')\n",
    "MLP_cv_precision = MLP_cross_val_pre.mean()\n",
    "print(MLP_cv_precision)\n",
    "\n",
    "MLP_cross_val_re = cross_val_score(MLP, x, y, cv=10, scoring='recall_macro')\n",
    "MLP_cv_recall = MLP_cross_val_re.mean()\n",
    "print(MLP_cv_recall)\n",
    "\n",
    "MLP_cross_val_f1 = cross_val_score(MLP, x, y, cv=10, scoring='f1_macro')\n",
    "MLP_cv_f1_score = MLP_cross_val_f1.mean()\n",
    "print(MLP_cv_f1_score)"
   ]
  },
  {
   "cell_type": "markdown",
   "metadata": {},
   "source": [
    "# Accuracy Comparison"
   ]
  },
  {
   "cell_type": "code",
   "execution_count": 66,
   "metadata": {},
   "outputs": [],
   "source": [
    "no_cv_acc = [dtree_accuracy,Nb_accuracy, rnd_for_accuracy, log_accuracy,ada_accuracy,knn_accuracy,Grad_boost_accuracy,MLP_accuracy]\n",
    "with_cv_acc = [dtree_cv_accuracy,Nb_cv_accuracy, rnd_for_cv_accuracy, log_cv_accuracy,ada_cv_accuracy,knn_cv_accuracy,Grad_boost_cv_accuracy,MLP_cv_accuracy]\n",
    "\n",
    "no_cv_pre = [dtree_precision,Nb_precision, rnd_for_precision, log_precision,ada_precision,knn_precision,Grad_boost_precision,MLP_precision]\n",
    "with_cv_pre = [dtree_cv_precision,Nb_cv_precision, rnd_for_cv_precision, log_cv_precision,ada_cv_precision,knn_cv_precision,Grad_boost_cv_precision,MLP_cv_precision]\n",
    "\n",
    "no_cv_re = [dtree_recall,Nb_recall, rnd_for_recall, log_recall,ada_recall,knn_recall,Grad_boost_recall,MLP_recall]\n",
    "with_cv_re = [dtree_cv_recall,Nb_cv_recall, rnd_for_cv_recall, log_cv_recall,ada_cv_recall,knn_cv_recall,Grad_boost_cv_recall,MLP_cv_recall]\n",
    "\n",
    "no_cv_f1 = [dtree_f1_score,Nb_f1_score, rnd_for_f1_score, log_f1_score,ada_f1_score,knn_f1_score,Grad_boost_f1_score,MLP_f1_score]\n",
    "with_cv_f1 = [dtree_cv_f1_score,Nb_cv_f1_score, rnd_for_cv_f1_score, log_cv_f1_score,ada_cv_f1_score,knn_cv_f1_score,Grad_boost_cv_f1_score,MLP_cv_f1_score]"
   ]
  },
  {
   "cell_type": "code",
   "execution_count": 67,
   "metadata": {},
   "outputs": [],
   "source": [
    "accuracy = {'Without CV Acc': no_cv_acc,'With CV acc': with_cv_acc,'Without CV Pre': no_cv_pre,'With CV Pre': with_cv_pre,'Without CV Recall': no_cv_re,'With CV Recall': with_cv_re,'Without CV F1': no_cv_f1,'With CV F1': with_cv_f1}"
   ]
  },
  {
   "cell_type": "code",
   "execution_count": 68,
   "metadata": {},
   "outputs": [],
   "source": [
    "accuracy_chart = pd.DataFrame(accuracy, index = ['DTREE', 'Naive Bayes', 'RND_FOR', 'LOG_REG','ADABOOST','KNN','Gradient Boosting','Multilayer Perceptron'])"
   ]
  },
  {
   "cell_type": "code",
   "execution_count": 69,
   "metadata": {},
   "outputs": [
    {
     "name": "stdout",
     "output_type": "stream",
     "text": [
      "                        Without CV Acc  With CV acc  Without CV Pre  \\\n",
      "DTREE                         0.684269     0.679785        0.837238   \n",
      "Naive Bayes                   0.786796     0.783598        0.840699   \n",
      "RND_FOR                       0.747261     0.742705        0.832942   \n",
      "LOG_REG                       0.636075     0.639770        0.886648   \n",
      "ADABOOST                      0.818139     0.639770        0.818980   \n",
      "KNN                           0.817021     0.815132        0.820700   \n",
      "Gradient Boosting             0.817997     0.816754        0.819201   \n",
      "Multiplayer Perceptron        0.818424     0.816955        0.818500   \n",
      "\n",
      "                        With CV Pre  Without CV Recall  With CV Recall  \\\n",
      "DTREE                      0.536209           0.762394        0.546359   \n",
      "Naive Bayes                0.601306           0.912345        0.565046   \n",
      "RND_FOR                    0.548673           0.864555        0.541815   \n",
      "LOG_REG                    0.586404           0.636687        0.635952   \n",
      "ADABOOST                   0.661538           0.998460        0.502253   \n",
      "KNN                        0.625866           0.993443        0.509751   \n",
      "Gradient Boosting          0.641095           0.997814        0.502911   \n",
      "Multiplayer Perceptron     0.653224           0.999826        0.501244   \n",
      "\n",
      "                        Without CV F1  With CV F1  \n",
      "DTREE                        0.798066    0.535278  \n",
      "Naive Bayes                  0.875058    0.570258  \n",
      "RND_FOR                      0.848455    0.542747  \n",
      "LOG_REG                      0.741159    0.565878  \n",
      "ADABOOST                     0.899858    0.455249  \n",
      "KNN                          0.898847    0.474890  \n",
      "Gradient Boosting            0.899729    0.457181  \n",
      "Multiplayer Perceptron       0.900122    0.452990  \n"
     ]
    }
   ],
   "source": [
    "print(accuracy_chart)"
   ]
  },
  {
   "cell_type": "code",
   "execution_count": 71,
   "metadata": {},
   "outputs": [],
   "source": [
    "accuracy_chart.to_excel('Loan Prediction results with Power Transform and feature categorization.xlsx')"
   ]
  },
  {
   "cell_type": "code",
   "execution_count": null,
   "metadata": {},
   "outputs": [],
   "source": []
  }
 ],
 "metadata": {
  "kernelspec": {
   "display_name": "Python 3",
   "language": "python",
   "name": "python3"
  },
  "language_info": {
   "codemirror_mode": {
    "name": "ipython",
    "version": 3
   },
   "file_extension": ".py",
   "mimetype": "text/x-python",
   "name": "python",
   "nbconvert_exporter": "python",
   "pygments_lexer": "ipython3",
   "version": "3.7.3"
  }
 },
 "nbformat": 4,
 "nbformat_minor": 2
}
