{
  "nbformat": 4,
  "nbformat_minor": 0,
  "metadata": {
    "colab": {
      "name": "Finance Project_Bad Loan Detection 21-07-2020  using Pycaret.ipynb",
      "provenance": []
    },
    "kernelspec": {
      "name": "python3",
      "display_name": "Python 3"
    },
    "widgets": {
      "application/vnd.jupyter.widget-state+json": {
        "ba7ce7d876154f159f3151662c63f7e6": {
          "model_module": "@jupyter-widgets/controls",
          "model_name": "IntProgressModel",
          "state": {
            "_view_name": "ProgressView",
            "style": "IPY_MODEL_9e9dc5ddce11413dac05419f900e532d",
            "_dom_classes": [],
            "description": "Processing: ",
            "_model_name": "IntProgressModel",
            "bar_style": "",
            "max": 13,
            "_view_module": "@jupyter-widgets/controls",
            "_model_module_version": "1.5.0",
            "value": 12,
            "_view_count": null,
            "_view_module_version": "1.5.0",
            "orientation": "horizontal",
            "min": 0,
            "description_tooltip": null,
            "_model_module": "@jupyter-widgets/controls",
            "layout": "IPY_MODEL_9b1975686d7649fbb8e01e7bb70516d3"
          }
        },
        "9e9dc5ddce11413dac05419f900e532d": {
          "model_module": "@jupyter-widgets/controls",
          "model_name": "ProgressStyleModel",
          "state": {
            "_view_name": "StyleView",
            "_model_name": "ProgressStyleModel",
            "description_width": "",
            "_view_module": "@jupyter-widgets/base",
            "_model_module_version": "1.5.0",
            "_view_count": null,
            "_view_module_version": "1.2.0",
            "bar_color": null,
            "_model_module": "@jupyter-widgets/controls"
          }
        },
        "9b1975686d7649fbb8e01e7bb70516d3": {
          "model_module": "@jupyter-widgets/base",
          "model_name": "LayoutModel",
          "state": {
            "_view_name": "LayoutView",
            "grid_template_rows": null,
            "right": null,
            "justify_content": null,
            "_view_module": "@jupyter-widgets/base",
            "overflow": null,
            "_model_module_version": "1.2.0",
            "_view_count": null,
            "flex_flow": null,
            "width": null,
            "min_width": null,
            "border": null,
            "align_items": null,
            "bottom": null,
            "_model_module": "@jupyter-widgets/base",
            "top": null,
            "grid_column": null,
            "overflow_y": null,
            "overflow_x": null,
            "grid_auto_flow": null,
            "grid_area": null,
            "grid_template_columns": null,
            "flex": null,
            "_model_name": "LayoutModel",
            "justify_items": null,
            "grid_row": null,
            "max_height": null,
            "align_content": null,
            "visibility": null,
            "align_self": null,
            "height": null,
            "min_height": null,
            "padding": null,
            "grid_auto_rows": null,
            "grid_gap": null,
            "max_width": null,
            "order": null,
            "_view_module_version": "1.2.0",
            "grid_template_areas": null,
            "object_position": null,
            "object_fit": null,
            "grid_auto_columns": null,
            "margin": null,
            "display": null,
            "left": null
          }
        },
        "6aaeb46d440140ec9a0a9ffe495bc4e0": {
          "model_module": "@jupyter-widgets/controls",
          "model_name": "IntProgressModel",
          "state": {
            "_view_name": "ProgressView",
            "style": "IPY_MODEL_f7fc6a83268a44a4ae711285aa459044",
            "_dom_classes": [],
            "description": "Processing: ",
            "_model_name": "IntProgressModel",
            "bar_style": "",
            "max": 170,
            "_view_module": "@jupyter-widgets/controls",
            "_model_module_version": "1.5.0",
            "value": 170,
            "_view_count": null,
            "_view_module_version": "1.5.0",
            "orientation": "horizontal",
            "min": 0,
            "description_tooltip": null,
            "_model_module": "@jupyter-widgets/controls",
            "layout": "IPY_MODEL_7825ae1daa1047b283be5cee90012ccc"
          }
        },
        "894e906e8a9840c19747db0fd475f54b": {
          "model_module": "@jupyter-widgets/controls",
          "model_name": "IntProgressModel",
          "state": {
            "_view_name": "ProgressView",
            "style": "IPY_MODEL_d4c49e1a852547c7bd824998b7149b74",
            "_dom_classes": [],
            "description": "Processing: ",
            "_model_name": "IntProgressModel",
            "bar_style": "",
            "max": 14,
            "_view_module": "@jupyter-widgets/controls",
            "_model_module_version": "1.5.0",
            "value": 14,
            "_view_count": null,
            "_view_module_version": "1.5.0",
            "orientation": "horizontal",
            "min": 0,
            "description_tooltip": null,
            "_model_module": "@jupyter-widgets/controls",
            "layout": "IPY_MODEL_abec762d6efc4b43adf90e14824ce123"
          }
        },
        "d4c49e1a852547c7bd824998b7149b74": {
          "model_module": "@jupyter-widgets/controls",
          "model_name": "ProgressStyleModel",
          "state": {
            "_view_name": "StyleView",
            "_model_name": "ProgressStyleModel",
            "description_width": "",
            "_view_module": "@jupyter-widgets/base",
            "_model_module_version": "1.5.0",
            "_view_count": null,
            "_view_module_version": "1.2.0",
            "bar_color": null,
            "_model_module": "@jupyter-widgets/controls"
          }
        },
        "abec762d6efc4b43adf90e14824ce123": {
          "model_module": "@jupyter-widgets/base",
          "model_name": "LayoutModel",
          "state": {
            "_view_name": "LayoutView",
            "grid_template_rows": null,
            "right": null,
            "justify_content": null,
            "_view_module": "@jupyter-widgets/base",
            "overflow": null,
            "_model_module_version": "1.2.0",
            "_view_count": null,
            "flex_flow": null,
            "width": null,
            "min_width": null,
            "border": null,
            "align_items": null,
            "bottom": null,
            "_model_module": "@jupyter-widgets/base",
            "top": null,
            "grid_column": null,
            "overflow_y": null,
            "overflow_x": null,
            "grid_auto_flow": null,
            "grid_area": null,
            "grid_template_columns": null,
            "flex": null,
            "_model_name": "LayoutModel",
            "justify_items": null,
            "grid_row": null,
            "max_height": null,
            "align_content": null,
            "visibility": null,
            "align_self": null,
            "height": null,
            "min_height": null,
            "padding": null,
            "grid_auto_rows": null,
            "grid_gap": null,
            "max_width": null,
            "order": null,
            "_view_module_version": "1.2.0",
            "grid_template_areas": null,
            "object_position": null,
            "object_fit": null,
            "grid_auto_columns": null,
            "margin": null,
            "display": null,
            "left": null
          }
        },
        "31e6a7db375a46399b4a4c293afb3e51": {
          "model_module": "@jupyter-widgets/controls",
          "model_name": "IntProgressModel",
          "state": {
            "_view_name": "ProgressView",
            "style": "IPY_MODEL_933f29c6e7414ce7b4ff566722c541f3",
            "_dom_classes": [],
            "description": "Processing: ",
            "_model_name": "IntProgressModel",
            "bar_style": "",
            "max": 16,
            "_view_module": "@jupyter-widgets/controls",
            "_model_module_version": "1.5.0",
            "value": 16,
            "_view_count": null,
            "_view_module_version": "1.5.0",
            "orientation": "horizontal",
            "min": 0,
            "description_tooltip": null,
            "_model_module": "@jupyter-widgets/controls",
            "layout": "IPY_MODEL_7ce0d1bcacfd4920b8652252323e223e"
          }
        },
        "933f29c6e7414ce7b4ff566722c541f3": {
          "model_module": "@jupyter-widgets/controls",
          "model_name": "ProgressStyleModel",
          "state": {
            "_view_name": "StyleView",
            "_model_name": "ProgressStyleModel",
            "description_width": "",
            "_view_module": "@jupyter-widgets/base",
            "_model_module_version": "1.5.0",
            "_view_count": null,
            "_view_module_version": "1.2.0",
            "bar_color": null,
            "_model_module": "@jupyter-widgets/controls"
          }
        },
        "7ce0d1bcacfd4920b8652252323e223e": {
          "model_module": "@jupyter-widgets/base",
          "model_name": "LayoutModel",
          "state": {
            "_view_name": "LayoutView",
            "grid_template_rows": null,
            "right": null,
            "justify_content": null,
            "_view_module": "@jupyter-widgets/base",
            "overflow": null,
            "_model_module_version": "1.2.0",
            "_view_count": null,
            "flex_flow": null,
            "width": null,
            "min_width": null,
            "border": null,
            "align_items": null,
            "bottom": null,
            "_model_module": "@jupyter-widgets/base",
            "top": null,
            "grid_column": null,
            "overflow_y": null,
            "overflow_x": null,
            "grid_auto_flow": null,
            "grid_area": null,
            "grid_template_columns": null,
            "flex": null,
            "_model_name": "LayoutModel",
            "justify_items": null,
            "grid_row": null,
            "max_height": null,
            "align_content": null,
            "visibility": null,
            "align_self": null,
            "height": null,
            "min_height": null,
            "padding": null,
            "grid_auto_rows": null,
            "grid_gap": null,
            "max_width": null,
            "order": null,
            "_view_module_version": "1.2.0",
            "grid_template_areas": null,
            "object_position": null,
            "object_fit": null,
            "grid_auto_columns": null,
            "margin": null,
            "display": null,
            "left": null
          }
        },
        "8e6d14514b974043bf11ccbadb62e4c7": {
          "model_module": "@jupyter-widgets/controls",
          "model_name": "IntProgressModel",
          "state": {
            "_view_name": "ProgressView",
            "style": "IPY_MODEL_ff39c523a4c746bbb05f63af11931906",
            "_dom_classes": [],
            "description": "Processing: ",
            "_model_name": "IntProgressModel",
            "bar_style": "",
            "max": 5,
            "_view_module": "@jupyter-widgets/controls",
            "_model_module_version": "1.5.0",
            "value": 5,
            "_view_count": null,
            "_view_module_version": "1.5.0",
            "orientation": "horizontal",
            "min": 0,
            "description_tooltip": null,
            "_model_module": "@jupyter-widgets/controls",
            "layout": "IPY_MODEL_8be5a7b73daa493fbdcac6884145c196"
          }
        },
        "ff39c523a4c746bbb05f63af11931906": {
          "model_module": "@jupyter-widgets/controls",
          "model_name": "ProgressStyleModel",
          "state": {
            "_view_name": "StyleView",
            "_model_name": "ProgressStyleModel",
            "description_width": "",
            "_view_module": "@jupyter-widgets/base",
            "_model_module_version": "1.5.0",
            "_view_count": null,
            "_view_module_version": "1.2.0",
            "bar_color": null,
            "_model_module": "@jupyter-widgets/controls"
          }
        },
        "8be5a7b73daa493fbdcac6884145c196": {
          "model_module": "@jupyter-widgets/base",
          "model_name": "LayoutModel",
          "state": {
            "_view_name": "LayoutView",
            "grid_template_rows": null,
            "right": null,
            "justify_content": null,
            "_view_module": "@jupyter-widgets/base",
            "overflow": null,
            "_model_module_version": "1.2.0",
            "_view_count": null,
            "flex_flow": null,
            "width": null,
            "min_width": null,
            "border": null,
            "align_items": null,
            "bottom": null,
            "_model_module": "@jupyter-widgets/base",
            "top": null,
            "grid_column": null,
            "overflow_y": null,
            "overflow_x": null,
            "grid_auto_flow": null,
            "grid_area": null,
            "grid_template_columns": null,
            "flex": null,
            "_model_name": "LayoutModel",
            "justify_items": null,
            "grid_row": null,
            "max_height": null,
            "align_content": null,
            "visibility": null,
            "align_self": null,
            "height": null,
            "min_height": null,
            "padding": null,
            "grid_auto_rows": null,
            "grid_gap": null,
            "max_width": null,
            "order": null,
            "_view_module_version": "1.2.0",
            "grid_template_areas": null,
            "object_position": null,
            "object_fit": null,
            "grid_auto_columns": null,
            "margin": null,
            "display": null,
            "left": null
          }
        },
        "698c22919d18485db14b9c4b879024ac": {
          "model_module": "@jupyter-widgets/controls",
          "model_name": "IntProgressModel",
          "state": {
            "_view_name": "ProgressView",
            "style": "IPY_MODEL_ea40718f999c42c7ab1bc75cabf4b462",
            "_dom_classes": [],
            "description": "Processing: ",
            "_model_name": "IntProgressModel",
            "bar_style": "",
            "max": 5,
            "_view_module": "@jupyter-widgets/controls",
            "_model_module_version": "1.5.0",
            "value": 5,
            "_view_count": null,
            "_view_module_version": "1.5.0",
            "orientation": "horizontal",
            "min": 0,
            "description_tooltip": null,
            "_model_module": "@jupyter-widgets/controls",
            "layout": "IPY_MODEL_392c72fc81094922b64274421175d035"
          }
        },
        "ea40718f999c42c7ab1bc75cabf4b462": {
          "model_module": "@jupyter-widgets/controls",
          "model_name": "ProgressStyleModel",
          "state": {
            "_view_name": "StyleView",
            "_model_name": "ProgressStyleModel",
            "description_width": "",
            "_view_module": "@jupyter-widgets/base",
            "_model_module_version": "1.5.0",
            "_view_count": null,
            "_view_module_version": "1.2.0",
            "bar_color": null,
            "_model_module": "@jupyter-widgets/controls"
          }
        },
        "392c72fc81094922b64274421175d035": {
          "model_module": "@jupyter-widgets/base",
          "model_name": "LayoutModel",
          "state": {
            "_view_name": "LayoutView",
            "grid_template_rows": null,
            "right": null,
            "justify_content": null,
            "_view_module": "@jupyter-widgets/base",
            "overflow": null,
            "_model_module_version": "1.2.0",
            "_view_count": null,
            "flex_flow": null,
            "width": null,
            "min_width": null,
            "border": null,
            "align_items": null,
            "bottom": null,
            "_model_module": "@jupyter-widgets/base",
            "top": null,
            "grid_column": null,
            "overflow_y": null,
            "overflow_x": null,
            "grid_auto_flow": null,
            "grid_area": null,
            "grid_template_columns": null,
            "flex": null,
            "_model_name": "LayoutModel",
            "justify_items": null,
            "grid_row": null,
            "max_height": null,
            "align_content": null,
            "visibility": null,
            "align_self": null,
            "height": null,
            "min_height": null,
            "padding": null,
            "grid_auto_rows": null,
            "grid_gap": null,
            "max_width": null,
            "order": null,
            "_view_module_version": "1.2.0",
            "grid_template_areas": null,
            "object_position": null,
            "object_fit": null,
            "grid_auto_columns": null,
            "margin": null,
            "display": null,
            "left": null
          }
        },
        "2fe81a361ee546cb87d8050b459d6583": {
          "model_module": "@jupyter-widgets/controls",
          "model_name": "IntProgressModel",
          "state": {
            "_view_name": "ProgressView",
            "style": "IPY_MODEL_5a4a552dd46e4f5482806703fe8d3a15",
            "_dom_classes": [],
            "description": "Processing: ",
            "_model_name": "IntProgressModel",
            "bar_style": "",
            "max": 5,
            "_view_module": "@jupyter-widgets/controls",
            "_model_module_version": "1.5.0",
            "value": 5,
            "_view_count": null,
            "_view_module_version": "1.5.0",
            "orientation": "horizontal",
            "min": 0,
            "description_tooltip": null,
            "_model_module": "@jupyter-widgets/controls",
            "layout": "IPY_MODEL_e5fcb696b5bd41a88ca3cef3ba2b94e1"
          }
        },
        "c2a5bc9da69546c29b3d40d848cbd6f4": {
          "model_module": "@jupyter-widgets/controls",
          "model_name": "IntProgressModel",
          "state": {
            "_view_name": "ProgressView",
            "style": "IPY_MODEL_408f5018a2b0449d90404767341258e1",
            "_dom_classes": [],
            "description": "Processing: ",
            "_model_name": "IntProgressModel",
            "bar_style": "",
            "max": 5,
            "_view_module": "@jupyter-widgets/controls",
            "_model_module_version": "1.5.0",
            "value": 5,
            "_view_count": null,
            "_view_module_version": "1.5.0",
            "orientation": "horizontal",
            "min": 0,
            "description_tooltip": null,
            "_model_module": "@jupyter-widgets/controls",
            "layout": "IPY_MODEL_cbe8625c5d1348039248a333f8561b6e"
          }
        },
        "140bc606a6554175a04b99c67810b221": {
          "model_module": "@jupyter-widgets/controls",
          "model_name": "VBoxModel",
          "state": {
            "_view_name": "VBoxView",
            "_dom_classes": [
              "widget-interact"
            ],
            "_model_name": "VBoxModel",
            "_view_module": "@jupyter-widgets/controls",
            "_model_module_version": "1.5.0",
            "_view_count": null,
            "_view_module_version": "1.5.0",
            "box_style": "",
            "layout": "IPY_MODEL_599dc89219a8430186f94de9caa18c91",
            "_model_module": "@jupyter-widgets/controls",
            "children": [
              "IPY_MODEL_80722d6cb22949968b6cce931e3feb15",
              "IPY_MODEL_16865d06c751414aae5df1c026e1f4f8"
            ]
          }
        },
        "599dc89219a8430186f94de9caa18c91": {
          "model_module": "@jupyter-widgets/base",
          "model_name": "LayoutModel",
          "state": {
            "_view_name": "LayoutView",
            "grid_template_rows": null,
            "right": null,
            "justify_content": null,
            "_view_module": "@jupyter-widgets/base",
            "overflow": null,
            "_model_module_version": "1.2.0",
            "_view_count": null,
            "flex_flow": null,
            "width": null,
            "min_width": null,
            "border": null,
            "align_items": null,
            "bottom": null,
            "_model_module": "@jupyter-widgets/base",
            "top": null,
            "grid_column": null,
            "overflow_y": null,
            "overflow_x": null,
            "grid_auto_flow": null,
            "grid_area": null,
            "grid_template_columns": null,
            "flex": null,
            "_model_name": "LayoutModel",
            "justify_items": null,
            "grid_row": null,
            "max_height": null,
            "align_content": null,
            "visibility": null,
            "align_self": null,
            "height": null,
            "min_height": null,
            "padding": null,
            "grid_auto_rows": null,
            "grid_gap": null,
            "max_width": null,
            "order": null,
            "_view_module_version": "1.2.0",
            "grid_template_areas": null,
            "object_position": null,
            "object_fit": null,
            "grid_auto_columns": null,
            "margin": null,
            "display": null,
            "left": null
          }
        },
        "80722d6cb22949968b6cce931e3feb15": {
          "model_module": "@jupyter-widgets/controls",
          "model_name": "ToggleButtonsModel",
          "state": {
            "_options_labels": [
              "Hyperparameters",
              "AUC",
              "Confusion Matrix",
              "Threshold",
              "Precision Recall",
              "Error",
              "Class Report",
              "Feature Selection",
              "Learning Curve",
              "Manifold Learning",
              "Calibration Curve",
              "Validation Curve",
              "Dimensions",
              "Feature Importance",
              "Decision Boundary"
            ],
            "_view_name": "ToggleButtonsView",
            "style": "IPY_MODEL_61b8826cf8b143e084a6d2c83c35fd81",
            "_dom_classes": [],
            "description": "Plot Type:",
            "_model_name": "ToggleButtonsModel",
            "tooltips": [],
            "index": 13,
            "button_style": "",
            "_view_module": "@jupyter-widgets/controls",
            "_model_module_version": "1.5.0",
            "_view_count": null,
            "disabled": false,
            "_view_module_version": "1.5.0",
            "icons": [
              ""
            ],
            "description_tooltip": null,
            "_model_module": "@jupyter-widgets/controls",
            "layout": "IPY_MODEL_404e3a1ceb45462186dd1696ac5b4c02"
          }
        },
        "16865d06c751414aae5df1c026e1f4f8": {
          "model_module": "@jupyter-widgets/output",
          "model_name": "OutputModel",
          "state": {
            "_view_name": "OutputView",
            "msg_id": "",
            "_dom_classes": [],
            "_model_name": "OutputModel",
            "outputs": [
              {
                "output_type": "display_data",
                "metadata": {
                  "tags": []
                },
                "image/png": "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\n",
                "text/plain": "<Figure size 576x360 with 1 Axes>"
              }
            ],
            "_view_module": "@jupyter-widgets/output",
            "_model_module_version": "1.0.0",
            "_view_count": null,
            "_view_module_version": "1.0.0",
            "layout": "IPY_MODEL_9a2a75bf381d462ab0bdfd41cf278150",
            "_model_module": "@jupyter-widgets/output"
          }
        },
        "61b8826cf8b143e084a6d2c83c35fd81": {
          "model_module": "@jupyter-widgets/controls",
          "model_name": "ToggleButtonsStyleModel",
          "state": {
            "_view_name": "StyleView",
            "button_width": "",
            "_model_name": "ToggleButtonsStyleModel",
            "description_width": "",
            "_view_module": "@jupyter-widgets/base",
            "_model_module_version": "1.5.0",
            "_view_count": null,
            "font_weight": "",
            "_view_module_version": "1.2.0",
            "_model_module": "@jupyter-widgets/controls"
          }
        },
        "404e3a1ceb45462186dd1696ac5b4c02": {
          "model_module": "@jupyter-widgets/base",
          "model_name": "LayoutModel",
          "state": {
            "_view_name": "LayoutView",
            "grid_template_rows": null,
            "right": null,
            "justify_content": null,
            "_view_module": "@jupyter-widgets/base",
            "overflow": null,
            "_model_module_version": "1.2.0",
            "_view_count": null,
            "flex_flow": null,
            "width": null,
            "min_width": null,
            "border": null,
            "align_items": null,
            "bottom": null,
            "_model_module": "@jupyter-widgets/base",
            "top": null,
            "grid_column": null,
            "overflow_y": null,
            "overflow_x": null,
            "grid_auto_flow": null,
            "grid_area": null,
            "grid_template_columns": null,
            "flex": null,
            "_model_name": "LayoutModel",
            "justify_items": null,
            "grid_row": null,
            "max_height": null,
            "align_content": null,
            "visibility": null,
            "align_self": null,
            "height": null,
            "min_height": null,
            "padding": null,
            "grid_auto_rows": null,
            "grid_gap": null,
            "max_width": null,
            "order": null,
            "_view_module_version": "1.2.0",
            "grid_template_areas": null,
            "object_position": null,
            "object_fit": null,
            "grid_auto_columns": null,
            "margin": null,
            "display": null,
            "left": null
          }
        },
        "9a2a75bf381d462ab0bdfd41cf278150": {
          "model_module": "@jupyter-widgets/base",
          "model_name": "LayoutModel",
          "state": {
            "_view_name": "LayoutView",
            "grid_template_rows": null,
            "right": null,
            "justify_content": null,
            "_view_module": "@jupyter-widgets/base",
            "overflow": null,
            "_model_module_version": "1.2.0",
            "_view_count": null,
            "flex_flow": null,
            "width": null,
            "min_width": null,
            "border": null,
            "align_items": null,
            "bottom": null,
            "_model_module": "@jupyter-widgets/base",
            "top": null,
            "grid_column": null,
            "overflow_y": null,
            "overflow_x": null,
            "grid_auto_flow": null,
            "grid_area": null,
            "grid_template_columns": null,
            "flex": null,
            "_model_name": "LayoutModel",
            "justify_items": null,
            "grid_row": null,
            "max_height": null,
            "align_content": null,
            "visibility": null,
            "align_self": null,
            "height": null,
            "min_height": null,
            "padding": null,
            "grid_auto_rows": null,
            "grid_gap": null,
            "max_width": null,
            "order": null,
            "_view_module_version": "1.2.0",
            "grid_template_areas": null,
            "object_position": null,
            "object_fit": null,
            "grid_auto_columns": null,
            "margin": null,
            "display": null,
            "left": null
          }
        },
        "3ccda18209f44fcc855423aa801866dd": {
          "model_module": "@jupyter-widgets/controls",
          "model_name": "IntProgressModel",
          "state": {
            "_view_name": "ProgressView",
            "style": "IPY_MODEL_7e2ddede09ad4b49b2a9480181de5a31",
            "_dom_classes": [],
            "description": "Processing: ",
            "_model_name": "IntProgressModel",
            "bar_style": "",
            "max": 5,
            "_view_module": "@jupyter-widgets/controls",
            "_model_module_version": "1.5.0",
            "value": 2,
            "_view_count": null,
            "_view_module_version": "1.5.0",
            "orientation": "horizontal",
            "min": 0,
            "description_tooltip": null,
            "_model_module": "@jupyter-widgets/controls",
            "layout": "IPY_MODEL_8ebb33e4d44c44e9982aac876129b3f7"
          }
        },
        "7e2ddede09ad4b49b2a9480181de5a31": {
          "model_module": "@jupyter-widgets/controls",
          "model_name": "ProgressStyleModel",
          "state": {
            "_view_name": "StyleView",
            "_model_name": "ProgressStyleModel",
            "description_width": "",
            "_view_module": "@jupyter-widgets/base",
            "_model_module_version": "1.5.0",
            "_view_count": null,
            "_view_module_version": "1.2.0",
            "bar_color": null,
            "_model_module": "@jupyter-widgets/controls"
          }
        },
        "8ebb33e4d44c44e9982aac876129b3f7": {
          "model_module": "@jupyter-widgets/base",
          "model_name": "LayoutModel",
          "state": {
            "_view_name": "LayoutView",
            "grid_template_rows": null,
            "right": null,
            "justify_content": null,
            "_view_module": "@jupyter-widgets/base",
            "overflow": null,
            "_model_module_version": "1.2.0",
            "_view_count": null,
            "flex_flow": null,
            "width": null,
            "min_width": null,
            "border": null,
            "align_items": null,
            "bottom": null,
            "_model_module": "@jupyter-widgets/base",
            "top": null,
            "grid_column": null,
            "overflow_y": null,
            "overflow_x": null,
            "grid_auto_flow": null,
            "grid_area": null,
            "grid_template_columns": null,
            "flex": null,
            "_model_name": "LayoutModel",
            "justify_items": null,
            "grid_row": null,
            "max_height": null,
            "align_content": null,
            "visibility": null,
            "align_self": null,
            "height": null,
            "min_height": null,
            "padding": null,
            "grid_auto_rows": null,
            "grid_gap": null,
            "max_width": null,
            "order": null,
            "_view_module_version": "1.2.0",
            "grid_template_areas": null,
            "object_position": null,
            "object_fit": null,
            "grid_auto_columns": null,
            "margin": null,
            "display": null,
            "left": null
          }
        },
        "92afea05024c4658b7349b77ada972cd": {
          "model_module": "@jupyter-widgets/controls",
          "model_name": "IntProgressModel",
          "state": {
            "_view_name": "ProgressView",
            "style": "IPY_MODEL_2b24668c138f4e5f95e75316ab271b68",
            "_dom_classes": [],
            "description": "Processing: ",
            "_model_name": "IntProgressModel",
            "bar_style": "",
            "max": 5,
            "_view_module": "@jupyter-widgets/controls",
            "_model_module_version": "1.5.0",
            "value": 5,
            "_view_count": null,
            "_view_module_version": "1.5.0",
            "orientation": "horizontal",
            "min": 0,
            "description_tooltip": null,
            "_model_module": "@jupyter-widgets/controls",
            "layout": "IPY_MODEL_d6cfb89eaad045c282a8ae0d12bb87a0"
          }
        },
        "2b24668c138f4e5f95e75316ab271b68": {
          "model_module": "@jupyter-widgets/controls",
          "model_name": "ProgressStyleModel",
          "state": {
            "_view_name": "StyleView",
            "_model_name": "ProgressStyleModel",
            "description_width": "",
            "_view_module": "@jupyter-widgets/base",
            "_model_module_version": "1.5.0",
            "_view_count": null,
            "_view_module_version": "1.2.0",
            "bar_color": null,
            "_model_module": "@jupyter-widgets/controls"
          }
        },
        "d6cfb89eaad045c282a8ae0d12bb87a0": {
          "model_module": "@jupyter-widgets/base",
          "model_name": "LayoutModel",
          "state": {
            "_view_name": "LayoutView",
            "grid_template_rows": null,
            "right": null,
            "justify_content": null,
            "_view_module": "@jupyter-widgets/base",
            "overflow": null,
            "_model_module_version": "1.2.0",
            "_view_count": null,
            "flex_flow": null,
            "width": null,
            "min_width": null,
            "border": null,
            "align_items": null,
            "bottom": null,
            "_model_module": "@jupyter-widgets/base",
            "top": null,
            "grid_column": null,
            "overflow_y": null,
            "overflow_x": null,
            "grid_auto_flow": null,
            "grid_area": null,
            "grid_template_columns": null,
            "flex": null,
            "_model_name": "LayoutModel",
            "justify_items": null,
            "grid_row": null,
            "max_height": null,
            "align_content": null,
            "visibility": null,
            "align_self": null,
            "height": null,
            "min_height": null,
            "padding": null,
            "grid_auto_rows": null,
            "grid_gap": null,
            "max_width": null,
            "order": null,
            "_view_module_version": "1.2.0",
            "grid_template_areas": null,
            "object_position": null,
            "object_fit": null,
            "grid_auto_columns": null,
            "margin": null,
            "display": null,
            "left": null
          }
        },
        "0ca1ae06f5fb49f18db1ffe599286db8": {
          "model_module": "@jupyter-widgets/controls",
          "model_name": "IntProgressModel",
          "state": {
            "_view_name": "ProgressView",
            "style": "IPY_MODEL_9fcd296cf68949e6a79664b38fbf6ebe",
            "_dom_classes": [],
            "description": "Processing: ",
            "_model_name": "IntProgressModel",
            "bar_style": "",
            "max": 5,
            "_view_module": "@jupyter-widgets/controls",
            "_model_module_version": "1.5.0",
            "value": 2,
            "_view_count": null,
            "_view_module_version": "1.5.0",
            "orientation": "horizontal",
            "min": 0,
            "description_tooltip": null,
            "_model_module": "@jupyter-widgets/controls",
            "layout": "IPY_MODEL_273336639d9a461c9464af053ec9d248"
          }
        },
        "9fcd296cf68949e6a79664b38fbf6ebe": {
          "model_module": "@jupyter-widgets/controls",
          "model_name": "ProgressStyleModel",
          "state": {
            "_view_name": "StyleView",
            "_model_name": "ProgressStyleModel",
            "description_width": "",
            "_view_module": "@jupyter-widgets/base",
            "_model_module_version": "1.5.0",
            "_view_count": null,
            "_view_module_version": "1.2.0",
            "bar_color": null,
            "_model_module": "@jupyter-widgets/controls"
          }
        },
        "273336639d9a461c9464af053ec9d248": {
          "model_module": "@jupyter-widgets/base",
          "model_name": "LayoutModel",
          "state": {
            "_view_name": "LayoutView",
            "grid_template_rows": null,
            "right": null,
            "justify_content": null,
            "_view_module": "@jupyter-widgets/base",
            "overflow": null,
            "_model_module_version": "1.2.0",
            "_view_count": null,
            "flex_flow": null,
            "width": null,
            "min_width": null,
            "border": null,
            "align_items": null,
            "bottom": null,
            "_model_module": "@jupyter-widgets/base",
            "top": null,
            "grid_column": null,
            "overflow_y": null,
            "overflow_x": null,
            "grid_auto_flow": null,
            "grid_area": null,
            "grid_template_columns": null,
            "flex": null,
            "_model_name": "LayoutModel",
            "justify_items": null,
            "grid_row": null,
            "max_height": null,
            "align_content": null,
            "visibility": null,
            "align_self": null,
            "height": null,
            "min_height": null,
            "padding": null,
            "grid_auto_rows": null,
            "grid_gap": null,
            "max_width": null,
            "order": null,
            "_view_module_version": "1.2.0",
            "grid_template_areas": null,
            "object_position": null,
            "object_fit": null,
            "grid_auto_columns": null,
            "margin": null,
            "display": null,
            "left": null
          }
        },
        "e33b371ebd90434abfe9f84c94287860": {
          "model_module": "@jupyter-widgets/controls",
          "model_name": "IntProgressModel",
          "state": {
            "_view_name": "ProgressView",
            "style": "IPY_MODEL_b20c24bd74e542b59543b0c6c61a09e6",
            "_dom_classes": [],
            "description": "Processing: ",
            "_model_name": "IntProgressModel",
            "bar_style": "",
            "max": 5,
            "_view_module": "@jupyter-widgets/controls",
            "_model_module_version": "1.5.0",
            "value": 5,
            "_view_count": null,
            "_view_module_version": "1.5.0",
            "orientation": "horizontal",
            "min": 0,
            "description_tooltip": null,
            "_model_module": "@jupyter-widgets/controls",
            "layout": "IPY_MODEL_611ebb9cc2f148bfb3271a1592f83245"
          }
        },
        "b20c24bd74e542b59543b0c6c61a09e6": {
          "model_module": "@jupyter-widgets/controls",
          "model_name": "ProgressStyleModel",
          "state": {
            "_view_name": "StyleView",
            "_model_name": "ProgressStyleModel",
            "description_width": "",
            "_view_module": "@jupyter-widgets/base",
            "_model_module_version": "1.5.0",
            "_view_count": null,
            "_view_module_version": "1.2.0",
            "bar_color": null,
            "_model_module": "@jupyter-widgets/controls"
          }
        },
        "611ebb9cc2f148bfb3271a1592f83245": {
          "model_module": "@jupyter-widgets/base",
          "model_name": "LayoutModel",
          "state": {
            "_view_name": "LayoutView",
            "grid_template_rows": null,
            "right": null,
            "justify_content": null,
            "_view_module": "@jupyter-widgets/base",
            "overflow": null,
            "_model_module_version": "1.2.0",
            "_view_count": null,
            "flex_flow": null,
            "width": null,
            "min_width": null,
            "border": null,
            "align_items": null,
            "bottom": null,
            "_model_module": "@jupyter-widgets/base",
            "top": null,
            "grid_column": null,
            "overflow_y": null,
            "overflow_x": null,
            "grid_auto_flow": null,
            "grid_area": null,
            "grid_template_columns": null,
            "flex": null,
            "_model_name": "LayoutModel",
            "justify_items": null,
            "grid_row": null,
            "max_height": null,
            "align_content": null,
            "visibility": null,
            "align_self": null,
            "height": null,
            "min_height": null,
            "padding": null,
            "grid_auto_rows": null,
            "grid_gap": null,
            "max_width": null,
            "order": null,
            "_view_module_version": "1.2.0",
            "grid_template_areas": null,
            "object_position": null,
            "object_fit": null,
            "grid_auto_columns": null,
            "margin": null,
            "display": null,
            "left": null
          }
        },
        "6dfbf7f201ee4edd89a14b73c35e088a": {
          "model_module": "@jupyter-widgets/controls",
          "model_name": "IntProgressModel",
          "state": {
            "_view_name": "ProgressView",
            "style": "IPY_MODEL_7302a71d0f31413395bfd33b3b460507",
            "_dom_classes": [],
            "description": "Processing: ",
            "_model_name": "IntProgressModel",
            "bar_style": "",
            "max": 5,
            "_view_module": "@jupyter-widgets/controls",
            "_model_module_version": "1.5.0",
            "value": 5,
            "_view_count": null,
            "_view_module_version": "1.5.0",
            "orientation": "horizontal",
            "min": 0,
            "description_tooltip": null,
            "_model_module": "@jupyter-widgets/controls",
            "layout": "IPY_MODEL_79fca524f5d44e1ab8514e2f66f4d212"
          }
        },
        "7302a71d0f31413395bfd33b3b460507": {
          "model_module": "@jupyter-widgets/controls",
          "model_name": "ProgressStyleModel",
          "state": {
            "_view_name": "StyleView",
            "_model_name": "ProgressStyleModel",
            "description_width": "",
            "_view_module": "@jupyter-widgets/base",
            "_model_module_version": "1.5.0",
            "_view_count": null,
            "_view_module_version": "1.2.0",
            "bar_color": null,
            "_model_module": "@jupyter-widgets/controls"
          }
        },
        "79fca524f5d44e1ab8514e2f66f4d212": {
          "model_module": "@jupyter-widgets/base",
          "model_name": "LayoutModel",
          "state": {
            "_view_name": "LayoutView",
            "grid_template_rows": null,
            "right": null,
            "justify_content": null,
            "_view_module": "@jupyter-widgets/base",
            "overflow": null,
            "_model_module_version": "1.2.0",
            "_view_count": null,
            "flex_flow": null,
            "width": null,
            "min_width": null,
            "border": null,
            "align_items": null,
            "bottom": null,
            "_model_module": "@jupyter-widgets/base",
            "top": null,
            "grid_column": null,
            "overflow_y": null,
            "overflow_x": null,
            "grid_auto_flow": null,
            "grid_area": null,
            "grid_template_columns": null,
            "flex": null,
            "_model_name": "LayoutModel",
            "justify_items": null,
            "grid_row": null,
            "max_height": null,
            "align_content": null,
            "visibility": null,
            "align_self": null,
            "height": null,
            "min_height": null,
            "padding": null,
            "grid_auto_rows": null,
            "grid_gap": null,
            "max_width": null,
            "order": null,
            "_view_module_version": "1.2.0",
            "grid_template_areas": null,
            "object_position": null,
            "object_fit": null,
            "grid_auto_columns": null,
            "margin": null,
            "display": null,
            "left": null
          }
        },
        "b73ba36479d942589b4cbc78058d6bef": {
          "model_module": "@jupyter-widgets/controls",
          "model_name": "IntProgressModel",
          "state": {
            "_view_name": "ProgressView",
            "style": "IPY_MODEL_9651367ed9444bafb1e39db747f25e62",
            "_dom_classes": [],
            "description": "Processing: ",
            "_model_name": "IntProgressModel",
            "bar_style": "",
            "max": 5,
            "_view_module": "@jupyter-widgets/controls",
            "_model_module_version": "1.5.0",
            "value": 5,
            "_view_count": null,
            "_view_module_version": "1.5.0",
            "orientation": "horizontal",
            "min": 0,
            "description_tooltip": null,
            "_model_module": "@jupyter-widgets/controls",
            "layout": "IPY_MODEL_89a5ecd5b804481093b1354b24996b77"
          }
        },
        "9651367ed9444bafb1e39db747f25e62": {
          "model_module": "@jupyter-widgets/controls",
          "model_name": "ProgressStyleModel",
          "state": {
            "_view_name": "StyleView",
            "_model_name": "ProgressStyleModel",
            "description_width": "",
            "_view_module": "@jupyter-widgets/base",
            "_model_module_version": "1.5.0",
            "_view_count": null,
            "_view_module_version": "1.2.0",
            "bar_color": null,
            "_model_module": "@jupyter-widgets/controls"
          }
        },
        "89a5ecd5b804481093b1354b24996b77": {
          "model_module": "@jupyter-widgets/base",
          "model_name": "LayoutModel",
          "state": {
            "_view_name": "LayoutView",
            "grid_template_rows": null,
            "right": null,
            "justify_content": null,
            "_view_module": "@jupyter-widgets/base",
            "overflow": null,
            "_model_module_version": "1.2.0",
            "_view_count": null,
            "flex_flow": null,
            "width": null,
            "min_width": null,
            "border": null,
            "align_items": null,
            "bottom": null,
            "_model_module": "@jupyter-widgets/base",
            "top": null,
            "grid_column": null,
            "overflow_y": null,
            "overflow_x": null,
            "grid_auto_flow": null,
            "grid_area": null,
            "grid_template_columns": null,
            "flex": null,
            "_model_name": "LayoutModel",
            "justify_items": null,
            "grid_row": null,
            "max_height": null,
            "align_content": null,
            "visibility": null,
            "align_self": null,
            "height": null,
            "min_height": null,
            "padding": null,
            "grid_auto_rows": null,
            "grid_gap": null,
            "max_width": null,
            "order": null,
            "_view_module_version": "1.2.0",
            "grid_template_areas": null,
            "object_position": null,
            "object_fit": null,
            "grid_auto_columns": null,
            "margin": null,
            "display": null,
            "left": null
          }
        },
        "fdd4a935459d4483acbdadf6d7b1fce2": {
          "model_module": "@jupyter-widgets/controls",
          "model_name": "IntProgressModel",
          "state": {
            "_view_name": "ProgressView",
            "style": "IPY_MODEL_6e6990792df74caebaf590b93401f889",
            "_dom_classes": [],
            "description": "Processing: ",
            "_model_name": "IntProgressModel",
            "bar_style": "",
            "max": 14,
            "_view_module": "@jupyter-widgets/controls",
            "_model_module_version": "1.5.0",
            "value": 14,
            "_view_count": null,
            "_view_module_version": "1.5.0",
            "orientation": "horizontal",
            "min": 0,
            "description_tooltip": null,
            "_model_module": "@jupyter-widgets/controls",
            "layout": "IPY_MODEL_536b070c2d6e4efa9afa4fc70935df3c"
          }
        },
        "6e6990792df74caebaf590b93401f889": {
          "model_module": "@jupyter-widgets/controls",
          "model_name": "ProgressStyleModel",
          "state": {
            "_view_name": "StyleView",
            "_model_name": "ProgressStyleModel",
            "description_width": "",
            "_view_module": "@jupyter-widgets/base",
            "_model_module_version": "1.5.0",
            "_view_count": null,
            "_view_module_version": "1.2.0",
            "bar_color": null,
            "_model_module": "@jupyter-widgets/controls"
          }
        },
        "536b070c2d6e4efa9afa4fc70935df3c": {
          "model_module": "@jupyter-widgets/base",
          "model_name": "LayoutModel",
          "state": {
            "_view_name": "LayoutView",
            "grid_template_rows": null,
            "right": null,
            "justify_content": null,
            "_view_module": "@jupyter-widgets/base",
            "overflow": null,
            "_model_module_version": "1.2.0",
            "_view_count": null,
            "flex_flow": null,
            "width": null,
            "min_width": null,
            "border": null,
            "align_items": null,
            "bottom": null,
            "_model_module": "@jupyter-widgets/base",
            "top": null,
            "grid_column": null,
            "overflow_y": null,
            "overflow_x": null,
            "grid_auto_flow": null,
            "grid_area": null,
            "grid_template_columns": null,
            "flex": null,
            "_model_name": "LayoutModel",
            "justify_items": null,
            "grid_row": null,
            "max_height": null,
            "align_content": null,
            "visibility": null,
            "align_self": null,
            "height": null,
            "min_height": null,
            "padding": null,
            "grid_auto_rows": null,
            "grid_gap": null,
            "max_width": null,
            "order": null,
            "_view_module_version": "1.2.0",
            "grid_template_areas": null,
            "object_position": null,
            "object_fit": null,
            "grid_auto_columns": null,
            "margin": null,
            "display": null,
            "left": null
          }
        },
        "0ab3649c80344fe5b677398f800b1578": {
          "model_module": "@jupyter-widgets/controls",
          "model_name": "IntProgressModel",
          "state": {
            "_view_name": "ProgressView",
            "style": "IPY_MODEL_b2b33fdd145c4c8480d6dcd474dcf401",
            "_dom_classes": [],
            "description": "Processing: ",
            "_model_name": "IntProgressModel",
            "bar_style": "",
            "max": 14,
            "_view_module": "@jupyter-widgets/controls",
            "_model_module_version": "1.5.0",
            "value": 14,
            "_view_count": null,
            "_view_module_version": "1.5.0",
            "orientation": "horizontal",
            "min": 0,
            "description_tooltip": null,
            "_model_module": "@jupyter-widgets/controls",
            "layout": "IPY_MODEL_9395276ed0c84118b0821fc0fe447fe0"
          }
        },
        "b2b33fdd145c4c8480d6dcd474dcf401": {
          "model_module": "@jupyter-widgets/controls",
          "model_name": "ProgressStyleModel",
          "state": {
            "_view_name": "StyleView",
            "_model_name": "ProgressStyleModel",
            "description_width": "",
            "_view_module": "@jupyter-widgets/base",
            "_model_module_version": "1.5.0",
            "_view_count": null,
            "_view_module_version": "1.2.0",
            "bar_color": null,
            "_model_module": "@jupyter-widgets/controls"
          }
        },
        "9395276ed0c84118b0821fc0fe447fe0": {
          "model_module": "@jupyter-widgets/base",
          "model_name": "LayoutModel",
          "state": {
            "_view_name": "LayoutView",
            "grid_template_rows": null,
            "right": null,
            "justify_content": null,
            "_view_module": "@jupyter-widgets/base",
            "overflow": null,
            "_model_module_version": "1.2.0",
            "_view_count": null,
            "flex_flow": null,
            "width": null,
            "min_width": null,
            "border": null,
            "align_items": null,
            "bottom": null,
            "_model_module": "@jupyter-widgets/base",
            "top": null,
            "grid_column": null,
            "overflow_y": null,
            "overflow_x": null,
            "grid_auto_flow": null,
            "grid_area": null,
            "grid_template_columns": null,
            "flex": null,
            "_model_name": "LayoutModel",
            "justify_items": null,
            "grid_row": null,
            "max_height": null,
            "align_content": null,
            "visibility": null,
            "align_self": null,
            "height": null,
            "min_height": null,
            "padding": null,
            "grid_auto_rows": null,
            "grid_gap": null,
            "max_width": null,
            "order": null,
            "_view_module_version": "1.2.0",
            "grid_template_areas": null,
            "object_position": null,
            "object_fit": null,
            "grid_auto_columns": null,
            "margin": null,
            "display": null,
            "left": null
          }
        },
        "f4afa59a594a436594b65f7ab7ae17ec": {
          "model_module": "@jupyter-widgets/controls",
          "model_name": "IntProgressModel",
          "state": {
            "_view_name": "ProgressView",
            "style": "IPY_MODEL_73f0ae600295443289d81420ac0da21f",
            "_dom_classes": [],
            "description": "Processing: ",
            "_model_name": "IntProgressModel",
            "bar_style": "",
            "max": 14,
            "_view_module": "@jupyter-widgets/controls",
            "_model_module_version": "1.5.0",
            "value": 14,
            "_view_count": null,
            "_view_module_version": "1.5.0",
            "orientation": "horizontal",
            "min": 0,
            "description_tooltip": null,
            "_model_module": "@jupyter-widgets/controls",
            "layout": "IPY_MODEL_9cc398f58fbb4ac3b36c1972862cc551"
          }
        },
        "73f0ae600295443289d81420ac0da21f": {
          "model_module": "@jupyter-widgets/controls",
          "model_name": "ProgressStyleModel",
          "state": {
            "_view_name": "StyleView",
            "_model_name": "ProgressStyleModel",
            "description_width": "",
            "_view_module": "@jupyter-widgets/base",
            "_model_module_version": "1.5.0",
            "_view_count": null,
            "_view_module_version": "1.2.0",
            "bar_color": null,
            "_model_module": "@jupyter-widgets/controls"
          }
        },
        "9cc398f58fbb4ac3b36c1972862cc551": {
          "model_module": "@jupyter-widgets/base",
          "model_name": "LayoutModel",
          "state": {
            "_view_name": "LayoutView",
            "grid_template_rows": null,
            "right": null,
            "justify_content": null,
            "_view_module": "@jupyter-widgets/base",
            "overflow": null,
            "_model_module_version": "1.2.0",
            "_view_count": null,
            "flex_flow": null,
            "width": null,
            "min_width": null,
            "border": null,
            "align_items": null,
            "bottom": null,
            "_model_module": "@jupyter-widgets/base",
            "top": null,
            "grid_column": null,
            "overflow_y": null,
            "overflow_x": null,
            "grid_auto_flow": null,
            "grid_area": null,
            "grid_template_columns": null,
            "flex": null,
            "_model_name": "LayoutModel",
            "justify_items": null,
            "grid_row": null,
            "max_height": null,
            "align_content": null,
            "visibility": null,
            "align_self": null,
            "height": null,
            "min_height": null,
            "padding": null,
            "grid_auto_rows": null,
            "grid_gap": null,
            "max_width": null,
            "order": null,
            "_view_module_version": "1.2.0",
            "grid_template_areas": null,
            "object_position": null,
            "object_fit": null,
            "grid_auto_columns": null,
            "margin": null,
            "display": null,
            "left": null
          }
        },
        "fa90c223918a4101a61922ca90dd8809": {
          "model_module": "@jupyter-widgets/controls",
          "model_name": "IntProgressModel",
          "state": {
            "_view_name": "ProgressView",
            "style": "IPY_MODEL_41778ec559c041cd9d7302926c46930a",
            "_dom_classes": [],
            "description": "Processing: ",
            "_model_name": "IntProgressModel",
            "bar_style": "",
            "max": 5,
            "_view_module": "@jupyter-widgets/controls",
            "_model_module_version": "1.5.0",
            "value": 5,
            "_view_count": null,
            "_view_module_version": "1.5.0",
            "orientation": "horizontal",
            "min": 0,
            "description_tooltip": null,
            "_model_module": "@jupyter-widgets/controls",
            "layout": "IPY_MODEL_fc833f507e9d4cd39c49be026d430d73"
          }
        }
      }
    }
  },
  "cells": [
    {
      "cell_type": "code",
      "metadata": {
        "id": "XvOb18yhyGb6",
        "colab_type": "code",
        "colab": {
          "base_uri": "https://localhost:8080/",
          "height": 71
        },
        "outputId": "f0285b53-69ee-433c-9634-eea598aabe61"
      },
      "source": [
        "import pandas as pd\n",
        "import numpy as np\n",
        "import matplotlib.pyplot as plt\n",
        "import seaborn as sns\n",
        "%matplotlib inline\n",
        "import warnings\n",
        "warnings.filterwarnings(\"ignore\")"
      ],
      "execution_count": 3,
      "outputs": [
        {
          "output_type": "stream",
          "text": [
            "/usr/local/lib/python3.6/dist-packages/statsmodels/tools/_testing.py:19: FutureWarning: pandas.util.testing is deprecated. Use the functions in the public API at pandas.testing instead.\n",
            "  import pandas.util.testing as tm\n"
          ],
          "name": "stderr"
        }
      ]
    },
    {
      "cell_type": "markdown",
      "metadata": {
        "id": "N-Orq7LFzK8j",
        "colab_type": "text"
      },
      "source": [
        "**Reading of Data**"
      ]
    },
    {
      "cell_type": "code",
      "metadata": {
        "id": "RQmtM5Ohx8S4",
        "colab_type": "code",
        "colab": {
          "base_uri": "https://localhost:8080/",
          "height": 309
        },
        "outputId": "2cdb2d61-a39f-4913-807e-5d7616f67c33"
      },
      "source": [
        "location='https://raw.githubusercontent.com/h2oai/app-consumer-loan/master/data/loan.csv'\n",
        "df=pd.read_csv(location)\n",
        "df.head()"
      ],
      "execution_count": 4,
      "outputs": [
        {
          "output_type": "execute_result",
          "data": {
            "text/html": [
              "<div>\n",
              "<style scoped>\n",
              "    .dataframe tbody tr th:only-of-type {\n",
              "        vertical-align: middle;\n",
              "    }\n",
              "\n",
              "    .dataframe tbody tr th {\n",
              "        vertical-align: top;\n",
              "    }\n",
              "\n",
              "    .dataframe thead th {\n",
              "        text-align: right;\n",
              "    }\n",
              "</style>\n",
              "<table border=\"1\" class=\"dataframe\">\n",
              "  <thead>\n",
              "    <tr style=\"text-align: right;\">\n",
              "      <th></th>\n",
              "      <th>loan_amnt</th>\n",
              "      <th>term</th>\n",
              "      <th>int_rate</th>\n",
              "      <th>emp_length</th>\n",
              "      <th>home_ownership</th>\n",
              "      <th>annual_inc</th>\n",
              "      <th>purpose</th>\n",
              "      <th>addr_state</th>\n",
              "      <th>dti</th>\n",
              "      <th>delinq_2yrs</th>\n",
              "      <th>revol_util</th>\n",
              "      <th>total_acc</th>\n",
              "      <th>bad_loan</th>\n",
              "      <th>longest_credit_length</th>\n",
              "      <th>verification_status</th>\n",
              "    </tr>\n",
              "  </thead>\n",
              "  <tbody>\n",
              "    <tr>\n",
              "      <th>0</th>\n",
              "      <td>5000</td>\n",
              "      <td>36 months</td>\n",
              "      <td>10.65</td>\n",
              "      <td>10.0</td>\n",
              "      <td>RENT</td>\n",
              "      <td>24000.0</td>\n",
              "      <td>credit_card</td>\n",
              "      <td>AZ</td>\n",
              "      <td>27.65</td>\n",
              "      <td>0.0</td>\n",
              "      <td>83.7</td>\n",
              "      <td>9.0</td>\n",
              "      <td>0</td>\n",
              "      <td>26.0</td>\n",
              "      <td>verified</td>\n",
              "    </tr>\n",
              "    <tr>\n",
              "      <th>1</th>\n",
              "      <td>2500</td>\n",
              "      <td>60 months</td>\n",
              "      <td>15.27</td>\n",
              "      <td>0.0</td>\n",
              "      <td>RENT</td>\n",
              "      <td>30000.0</td>\n",
              "      <td>car</td>\n",
              "      <td>GA</td>\n",
              "      <td>1.00</td>\n",
              "      <td>0.0</td>\n",
              "      <td>9.4</td>\n",
              "      <td>4.0</td>\n",
              "      <td>1</td>\n",
              "      <td>12.0</td>\n",
              "      <td>verified</td>\n",
              "    </tr>\n",
              "    <tr>\n",
              "      <th>2</th>\n",
              "      <td>2400</td>\n",
              "      <td>36 months</td>\n",
              "      <td>15.96</td>\n",
              "      <td>10.0</td>\n",
              "      <td>RENT</td>\n",
              "      <td>12252.0</td>\n",
              "      <td>small_business</td>\n",
              "      <td>IL</td>\n",
              "      <td>8.72</td>\n",
              "      <td>0.0</td>\n",
              "      <td>98.5</td>\n",
              "      <td>10.0</td>\n",
              "      <td>0</td>\n",
              "      <td>10.0</td>\n",
              "      <td>not verified</td>\n",
              "    </tr>\n",
              "    <tr>\n",
              "      <th>3</th>\n",
              "      <td>10000</td>\n",
              "      <td>36 months</td>\n",
              "      <td>13.49</td>\n",
              "      <td>10.0</td>\n",
              "      <td>RENT</td>\n",
              "      <td>49200.0</td>\n",
              "      <td>other</td>\n",
              "      <td>CA</td>\n",
              "      <td>20.00</td>\n",
              "      <td>0.0</td>\n",
              "      <td>21.0</td>\n",
              "      <td>37.0</td>\n",
              "      <td>0</td>\n",
              "      <td>15.0</td>\n",
              "      <td>verified</td>\n",
              "    </tr>\n",
              "    <tr>\n",
              "      <th>4</th>\n",
              "      <td>5000</td>\n",
              "      <td>36 months</td>\n",
              "      <td>7.90</td>\n",
              "      <td>3.0</td>\n",
              "      <td>RENT</td>\n",
              "      <td>36000.0</td>\n",
              "      <td>wedding</td>\n",
              "      <td>AZ</td>\n",
              "      <td>11.20</td>\n",
              "      <td>0.0</td>\n",
              "      <td>28.3</td>\n",
              "      <td>12.0</td>\n",
              "      <td>0</td>\n",
              "      <td>7.0</td>\n",
              "      <td>verified</td>\n",
              "    </tr>\n",
              "  </tbody>\n",
              "</table>\n",
              "</div>"
            ],
            "text/plain": [
              "   loan_amnt       term  ...  longest_credit_length  verification_status\n",
              "0       5000  36 months  ...                   26.0             verified\n",
              "1       2500  60 months  ...                   12.0             verified\n",
              "2       2400  36 months  ...                   10.0         not verified\n",
              "3      10000  36 months  ...                   15.0             verified\n",
              "4       5000  36 months  ...                    7.0             verified\n",
              "\n",
              "[5 rows x 15 columns]"
            ]
          },
          "metadata": {
            "tags": []
          },
          "execution_count": 4
        }
      ]
    },
    {
      "cell_type": "code",
      "metadata": {
        "id": "3ncpcgBnyAX6",
        "colab_type": "code",
        "colab": {
          "base_uri": "https://localhost:8080/",
          "height": 391
        },
        "outputId": "4bdd87f6-d3cb-4853-bc0f-8d2d43b5422c"
      },
      "source": [
        "df.info()"
      ],
      "execution_count": 5,
      "outputs": [
        {
          "output_type": "stream",
          "text": [
            "<class 'pandas.core.frame.DataFrame'>\n",
            "RangeIndex: 163987 entries, 0 to 163986\n",
            "Data columns (total 15 columns):\n",
            " #   Column                 Non-Null Count   Dtype  \n",
            "---  ------                 --------------   -----  \n",
            " 0   loan_amnt              163987 non-null  int64  \n",
            " 1   term                   163987 non-null  object \n",
            " 2   int_rate               163987 non-null  float64\n",
            " 3   emp_length             158183 non-null  float64\n",
            " 4   home_ownership         163987 non-null  object \n",
            " 5   annual_inc             163983 non-null  float64\n",
            " 6   purpose                163987 non-null  object \n",
            " 7   addr_state             163987 non-null  object \n",
            " 8   dti                    163987 non-null  float64\n",
            " 9   delinq_2yrs            163958 non-null  float64\n",
            " 10  revol_util             163794 non-null  float64\n",
            " 11  total_acc              163958 non-null  float64\n",
            " 12  bad_loan               163987 non-null  int64  \n",
            " 13  longest_credit_length  163958 non-null  float64\n",
            " 14  verification_status    163987 non-null  object \n",
            "dtypes: float64(8), int64(2), object(5)\n",
            "memory usage: 18.8+ MB\n"
          ],
          "name": "stdout"
        }
      ]
    },
    {
      "cell_type": "code",
      "metadata": {
        "id": "a90VW0xYzbyS",
        "colab_type": "code",
        "colab": {
          "base_uri": "https://localhost:8080/",
          "height": 297
        },
        "outputId": "2ec4909f-d954-49ed-ea08-8e901d2c7ebc"
      },
      "source": [
        "df.describe()"
      ],
      "execution_count": 6,
      "outputs": [
        {
          "output_type": "execute_result",
          "data": {
            "text/html": [
              "<div>\n",
              "<style scoped>\n",
              "    .dataframe tbody tr th:only-of-type {\n",
              "        vertical-align: middle;\n",
              "    }\n",
              "\n",
              "    .dataframe tbody tr th {\n",
              "        vertical-align: top;\n",
              "    }\n",
              "\n",
              "    .dataframe thead th {\n",
              "        text-align: right;\n",
              "    }\n",
              "</style>\n",
              "<table border=\"1\" class=\"dataframe\">\n",
              "  <thead>\n",
              "    <tr style=\"text-align: right;\">\n",
              "      <th></th>\n",
              "      <th>loan_amnt</th>\n",
              "      <th>int_rate</th>\n",
              "      <th>emp_length</th>\n",
              "      <th>annual_inc</th>\n",
              "      <th>dti</th>\n",
              "      <th>delinq_2yrs</th>\n",
              "      <th>revol_util</th>\n",
              "      <th>total_acc</th>\n",
              "      <th>bad_loan</th>\n",
              "      <th>longest_credit_length</th>\n",
              "    </tr>\n",
              "  </thead>\n",
              "  <tbody>\n",
              "    <tr>\n",
              "      <th>count</th>\n",
              "      <td>163987.000000</td>\n",
              "      <td>163987.000000</td>\n",
              "      <td>158183.000000</td>\n",
              "      <td>1.639830e+05</td>\n",
              "      <td>163987.000000</td>\n",
              "      <td>163958.000000</td>\n",
              "      <td>163794.000000</td>\n",
              "      <td>163958.000000</td>\n",
              "      <td>163987.000000</td>\n",
              "      <td>163958.000000</td>\n",
              "    </tr>\n",
              "    <tr>\n",
              "      <th>mean</th>\n",
              "      <td>13074.169141</td>\n",
              "      <td>13.715904</td>\n",
              "      <td>5.684353</td>\n",
              "      <td>7.191567e+04</td>\n",
              "      <td>15.881530</td>\n",
              "      <td>0.227357</td>\n",
              "      <td>54.079173</td>\n",
              "      <td>24.579734</td>\n",
              "      <td>0.183039</td>\n",
              "      <td>14.854274</td>\n",
              "    </tr>\n",
              "    <tr>\n",
              "      <th>std</th>\n",
              "      <td>7993.556189</td>\n",
              "      <td>4.391940</td>\n",
              "      <td>3.610664</td>\n",
              "      <td>5.907092e+04</td>\n",
              "      <td>7.587668</td>\n",
              "      <td>0.694168</td>\n",
              "      <td>25.285367</td>\n",
              "      <td>11.685190</td>\n",
              "      <td>0.386700</td>\n",
              "      <td>6.947733</td>\n",
              "    </tr>\n",
              "    <tr>\n",
              "      <th>min</th>\n",
              "      <td>500.000000</td>\n",
              "      <td>5.420000</td>\n",
              "      <td>0.000000</td>\n",
              "      <td>1.896000e+03</td>\n",
              "      <td>0.000000</td>\n",
              "      <td>0.000000</td>\n",
              "      <td>0.000000</td>\n",
              "      <td>1.000000</td>\n",
              "      <td>0.000000</td>\n",
              "      <td>0.000000</td>\n",
              "    </tr>\n",
              "    <tr>\n",
              "      <th>25%</th>\n",
              "      <td>7000.000000</td>\n",
              "      <td>10.650000</td>\n",
              "      <td>2.000000</td>\n",
              "      <td>4.500000e+04</td>\n",
              "      <td>10.230000</td>\n",
              "      <td>0.000000</td>\n",
              "      <td>35.600000</td>\n",
              "      <td>16.000000</td>\n",
              "      <td>0.000000</td>\n",
              "      <td>10.000000</td>\n",
              "    </tr>\n",
              "    <tr>\n",
              "      <th>50%</th>\n",
              "      <td>11325.000000</td>\n",
              "      <td>13.490000</td>\n",
              "      <td>6.000000</td>\n",
              "      <td>6.100000e+04</td>\n",
              "      <td>15.620000</td>\n",
              "      <td>0.000000</td>\n",
              "      <td>55.800000</td>\n",
              "      <td>23.000000</td>\n",
              "      <td>0.000000</td>\n",
              "      <td>14.000000</td>\n",
              "    </tr>\n",
              "    <tr>\n",
              "      <th>75%</th>\n",
              "      <td>18000.000000</td>\n",
              "      <td>16.320000</td>\n",
              "      <td>10.000000</td>\n",
              "      <td>8.500000e+04</td>\n",
              "      <td>21.260000</td>\n",
              "      <td>0.000000</td>\n",
              "      <td>74.200000</td>\n",
              "      <td>31.000000</td>\n",
              "      <td>0.000000</td>\n",
              "      <td>18.000000</td>\n",
              "    </tr>\n",
              "    <tr>\n",
              "      <th>max</th>\n",
              "      <td>35000.000000</td>\n",
              "      <td>26.060000</td>\n",
              "      <td>10.000000</td>\n",
              "      <td>7.141778e+06</td>\n",
              "      <td>39.990000</td>\n",
              "      <td>29.000000</td>\n",
              "      <td>150.700000</td>\n",
              "      <td>118.000000</td>\n",
              "      <td>1.000000</td>\n",
              "      <td>65.000000</td>\n",
              "    </tr>\n",
              "  </tbody>\n",
              "</table>\n",
              "</div>"
            ],
            "text/plain": [
              "           loan_amnt       int_rate  ...       bad_loan  longest_credit_length\n",
              "count  163987.000000  163987.000000  ...  163987.000000          163958.000000\n",
              "mean    13074.169141      13.715904  ...       0.183039              14.854274\n",
              "std      7993.556189       4.391940  ...       0.386700               6.947733\n",
              "min       500.000000       5.420000  ...       0.000000               0.000000\n",
              "25%      7000.000000      10.650000  ...       0.000000              10.000000\n",
              "50%     11325.000000      13.490000  ...       0.000000              14.000000\n",
              "75%     18000.000000      16.320000  ...       0.000000              18.000000\n",
              "max     35000.000000      26.060000  ...       1.000000              65.000000\n",
              "\n",
              "[8 rows x 10 columns]"
            ]
          },
          "metadata": {
            "tags": []
          },
          "execution_count": 6
        }
      ]
    },
    {
      "cell_type": "code",
      "metadata": {
        "id": "uDQVE9ksz0zl",
        "colab_type": "code",
        "colab": {}
      },
      "source": [
        "#Remove 'month' from term\n",
        "\n",
        "df['term']=df['term'].replace({'36 months':36,'60 months':60})"
      ],
      "execution_count": 7,
      "outputs": []
    },
    {
      "cell_type": "code",
      "metadata": {
        "id": "KZVUVRj6z5jP",
        "colab_type": "code",
        "colab": {
          "base_uri": "https://localhost:8080/",
          "height": 34
        },
        "outputId": "76c86bfc-1747-4da7-c8f9-acf5cba0c993"
      },
      "source": [
        "# Finding Categorical Columns\n",
        "categorical_feature_mask = df.dtypes==object\n",
        "\n",
        "# filter categorical columns using mask and turn it into a list\n",
        "categorical_cols = df.columns[categorical_feature_mask].tolist()\n",
        "print(categorical_cols)"
      ],
      "execution_count": 8,
      "outputs": [
        {
          "output_type": "stream",
          "text": [
            "['home_ownership', 'purpose', 'addr_state', 'verification_status']\n"
          ],
          "name": "stdout"
        }
      ]
    },
    {
      "cell_type": "code",
      "metadata": {
        "id": "zofFMrq8z83e",
        "colab_type": "code",
        "colab": {
          "base_uri": "https://localhost:8080/",
          "height": 34
        },
        "outputId": "573bc7fe-32bf-4be6-8d16-aa57d6e8e1ad"
      },
      "source": [
        "# Finding Numerical Columns\n",
        "numerical_feature_mask = df.dtypes!=object\n",
        "\n",
        "# filter categorical columns using mask and turn it into a list\n",
        "numerical_cols = df.columns[numerical_feature_mask].tolist()\n",
        "print(numerical_cols)"
      ],
      "execution_count": 9,
      "outputs": [
        {
          "output_type": "stream",
          "text": [
            "['loan_amnt', 'term', 'int_rate', 'emp_length', 'annual_inc', 'dti', 'delinq_2yrs', 'revol_util', 'total_acc', 'bad_loan', 'longest_credit_length']\n"
          ],
          "name": "stdout"
        }
      ]
    },
    {
      "cell_type": "markdown",
      "metadata": {
        "id": "D200AglS0Fl_",
        "colab_type": "text"
      },
      "source": [
        "Handling Missing Values"
      ]
    },
    {
      "cell_type": "code",
      "metadata": {
        "id": "wQtTViajz_X7",
        "colab_type": "code",
        "colab": {
          "base_uri": "https://localhost:8080/",
          "height": 289
        },
        "outputId": "8281456d-2c73-41aa-f892-ceed95cd9e09"
      },
      "source": [
        "df.isnull().sum()"
      ],
      "execution_count": 10,
      "outputs": [
        {
          "output_type": "execute_result",
          "data": {
            "text/plain": [
              "loan_amnt                   0\n",
              "term                        0\n",
              "int_rate                    0\n",
              "emp_length               5804\n",
              "home_ownership              0\n",
              "annual_inc                  4\n",
              "purpose                     0\n",
              "addr_state                  0\n",
              "dti                         0\n",
              "delinq_2yrs                29\n",
              "revol_util                193\n",
              "total_acc                  29\n",
              "bad_loan                    0\n",
              "longest_credit_length      29\n",
              "verification_status         0\n",
              "dtype: int64"
            ]
          },
          "metadata": {
            "tags": []
          },
          "execution_count": 10
        }
      ]
    },
    {
      "cell_type": "code",
      "metadata": {
        "id": "1M19K70B0Mo5",
        "colab_type": "code",
        "colab": {
          "base_uri": "https://localhost:8080/",
          "height": 34
        },
        "outputId": "f0427643-8ca8-431a-c42e-1426a32daf9d"
      },
      "source": [
        "df['emp_length']=df['emp_length'].fillna(df['emp_length'].mean())\n",
        "df['emp_length'].isnull().sum()"
      ],
      "execution_count": 11,
      "outputs": [
        {
          "output_type": "execute_result",
          "data": {
            "text/plain": [
              "0"
            ]
          },
          "metadata": {
            "tags": []
          },
          "execution_count": 11
        }
      ]
    },
    {
      "cell_type": "code",
      "metadata": {
        "id": "2CgmoFsv0PhM",
        "colab_type": "code",
        "colab": {
          "base_uri": "https://localhost:8080/",
          "height": 34
        },
        "outputId": "bd3fac92-bbef-4600-d941-177e468002b0"
      },
      "source": [
        "df['annual_inc']=df['annual_inc'].fillna(df['annual_inc'].mean())\n",
        "df['annual_inc'].isnull().sum()"
      ],
      "execution_count": 12,
      "outputs": [
        {
          "output_type": "execute_result",
          "data": {
            "text/plain": [
              "0"
            ]
          },
          "metadata": {
            "tags": []
          },
          "execution_count": 12
        }
      ]
    },
    {
      "cell_type": "code",
      "metadata": {
        "id": "4ekehBT80Rve",
        "colab_type": "code",
        "colab": {
          "base_uri": "https://localhost:8080/",
          "height": 34
        },
        "outputId": "98cb80b5-75a8-44d8-f840-3797b521d82e"
      },
      "source": [
        "df['delinq_2yrs']=df['delinq_2yrs'].fillna(df['delinq_2yrs'].mode()[0])\n",
        "df['delinq_2yrs'].isnull().sum()"
      ],
      "execution_count": 13,
      "outputs": [
        {
          "output_type": "execute_result",
          "data": {
            "text/plain": [
              "0"
            ]
          },
          "metadata": {
            "tags": []
          },
          "execution_count": 13
        }
      ]
    },
    {
      "cell_type": "code",
      "metadata": {
        "id": "lItQ3-470T-m",
        "colab_type": "code",
        "colab": {
          "base_uri": "https://localhost:8080/",
          "height": 34
        },
        "outputId": "5a93ec1b-876c-4dde-f907-b2385988f106"
      },
      "source": [
        "df['revol_util']=df['revol_util'].fillna(df['revol_util'].median())\n",
        "df['revol_util'].isnull().sum()"
      ],
      "execution_count": 14,
      "outputs": [
        {
          "output_type": "execute_result",
          "data": {
            "text/plain": [
              "0"
            ]
          },
          "metadata": {
            "tags": []
          },
          "execution_count": 14
        }
      ]
    },
    {
      "cell_type": "code",
      "metadata": {
        "id": "TvGHHmQH0WEi",
        "colab_type": "code",
        "colab": {
          "base_uri": "https://localhost:8080/",
          "height": 34
        },
        "outputId": "e63a19f9-47bb-46ba-b4dd-454d612a5a67"
      },
      "source": [
        "df['total_acc']=df['total_acc'].fillna(df['total_acc'].median())\n",
        "df['total_acc'].isnull().sum()"
      ],
      "execution_count": 15,
      "outputs": [
        {
          "output_type": "execute_result",
          "data": {
            "text/plain": [
              "0"
            ]
          },
          "metadata": {
            "tags": []
          },
          "execution_count": 15
        }
      ]
    },
    {
      "cell_type": "code",
      "metadata": {
        "id": "bRGdP-oG0ZHe",
        "colab_type": "code",
        "colab": {
          "base_uri": "https://localhost:8080/",
          "height": 34
        },
        "outputId": "ce74389a-0cbe-45fe-f953-4c740c421f13"
      },
      "source": [
        "df['longest_credit_length']=df['longest_credit_length'].fillna(df['longest_credit_length'].mode()[0])\n",
        "df['longest_credit_length'].isnull().sum()"
      ],
      "execution_count": 16,
      "outputs": [
        {
          "output_type": "execute_result",
          "data": {
            "text/plain": [
              "0"
            ]
          },
          "metadata": {
            "tags": []
          },
          "execution_count": 16
        }
      ]
    },
    {
      "cell_type": "code",
      "metadata": {
        "id": "4DNtxY6Q0bSL",
        "colab_type": "code",
        "colab": {
          "base_uri": "https://localhost:8080/",
          "height": 289
        },
        "outputId": "778b8753-4d73-48dc-d92a-dda116d5d8d2"
      },
      "source": [
        "df.isnull().sum()"
      ],
      "execution_count": 17,
      "outputs": [
        {
          "output_type": "execute_result",
          "data": {
            "text/plain": [
              "loan_amnt                0\n",
              "term                     0\n",
              "int_rate                 0\n",
              "emp_length               0\n",
              "home_ownership           0\n",
              "annual_inc               0\n",
              "purpose                  0\n",
              "addr_state               0\n",
              "dti                      0\n",
              "delinq_2yrs              0\n",
              "revol_util               0\n",
              "total_acc                0\n",
              "bad_loan                 0\n",
              "longest_credit_length    0\n",
              "verification_status      0\n",
              "dtype: int64"
            ]
          },
          "metadata": {
            "tags": []
          },
          "execution_count": 17
        }
      ]
    },
    {
      "cell_type": "markdown",
      "metadata": {
        "id": "RehuniXX0kwk",
        "colab_type": "text"
      },
      "source": [
        "**Setting PyCaret Environment**\n"
      ]
    },
    {
      "cell_type": "code",
      "metadata": {
        "id": "3yd_Z6oy0dnX",
        "colab_type": "code",
        "colab": {}
      },
      "source": [
        "from pycaret.classification import *"
      ],
      "execution_count": 18,
      "outputs": []
    },
    {
      "cell_type": "markdown",
      "metadata": {
        "id": "KYGWUj7f0ynw",
        "colab_type": "text"
      },
      "source": [
        "**Data Preparation**"
      ]
    },
    {
      "cell_type": "code",
      "metadata": {
        "id": "o73F1cmG0syV",
        "colab_type": "code",
        "colab": {
          "base_uri": "https://localhost:8080/",
          "height": 956,
          "referenced_widgets": [
            "ba7ce7d876154f159f3151662c63f7e6",
            "9e9dc5ddce11413dac05419f900e532d",
            "9b1975686d7649fbb8e01e7bb70516d3"
          ]
        },
        "outputId": "cb3f8441-e04a-445d-9420-e1fb6b3899e1"
      },
      "source": [
        "dia_clf = setup(data = df,\n",
        "                   target = 'bad_loan',\n",
        "                   numeric_features=['loan_amnt', 'term', 'int_rate', 'emp_length', 'annual_inc', 'dti', 'delinq_2yrs', 'revol_util', 'total_acc', 'longest_credit_length'],\n",
        "                   categorical_features = ['home_ownership', 'purpose', 'addr_state', 'verification_status'],\n",
        "                   train_size = 0.7,\n",
        "                   normalize=True,\n",
        "                   silent = True) "
      ],
      "execution_count": 20,
      "outputs": [
        {
          "output_type": "stream",
          "text": [
            " \n",
            "Setup Succesfully Completed!\n"
          ],
          "name": "stdout"
        },
        {
          "output_type": "display_data",
          "data": {
            "text/html": [
              "<style  type=\"text/css\" >\n",
              "    #T_b19c485e_d0df_11ea_b4fd_0242ac1c0002row15_col1 {\n",
              "            background-color:  lightgreen;\n",
              "        }</style><table id=\"T_b19c485e_d0df_11ea_b4fd_0242ac1c0002\" ><thead>    <tr>        <th class=\"blank level0\" ></th>        <th class=\"col_heading level0 col0\" >Description</th>        <th class=\"col_heading level0 col1\" >Value</th>    </tr></thead><tbody>\n",
              "                <tr>\n",
              "                        <th id=\"T_b19c485e_d0df_11ea_b4fd_0242ac1c0002level0_row0\" class=\"row_heading level0 row0\" >0</th>\n",
              "                        <td id=\"T_b19c485e_d0df_11ea_b4fd_0242ac1c0002row0_col0\" class=\"data row0 col0\" >session_id</td>\n",
              "                        <td id=\"T_b19c485e_d0df_11ea_b4fd_0242ac1c0002row0_col1\" class=\"data row0 col1\" >4082</td>\n",
              "            </tr>\n",
              "            <tr>\n",
              "                        <th id=\"T_b19c485e_d0df_11ea_b4fd_0242ac1c0002level0_row1\" class=\"row_heading level0 row1\" >1</th>\n",
              "                        <td id=\"T_b19c485e_d0df_11ea_b4fd_0242ac1c0002row1_col0\" class=\"data row1 col0\" >Target Type</td>\n",
              "                        <td id=\"T_b19c485e_d0df_11ea_b4fd_0242ac1c0002row1_col1\" class=\"data row1 col1\" >Binary</td>\n",
              "            </tr>\n",
              "            <tr>\n",
              "                        <th id=\"T_b19c485e_d0df_11ea_b4fd_0242ac1c0002level0_row2\" class=\"row_heading level0 row2\" >2</th>\n",
              "                        <td id=\"T_b19c485e_d0df_11ea_b4fd_0242ac1c0002row2_col0\" class=\"data row2 col0\" >Label Encoded</td>\n",
              "                        <td id=\"T_b19c485e_d0df_11ea_b4fd_0242ac1c0002row2_col1\" class=\"data row2 col1\" >None</td>\n",
              "            </tr>\n",
              "            <tr>\n",
              "                        <th id=\"T_b19c485e_d0df_11ea_b4fd_0242ac1c0002level0_row3\" class=\"row_heading level0 row3\" >3</th>\n",
              "                        <td id=\"T_b19c485e_d0df_11ea_b4fd_0242ac1c0002row3_col0\" class=\"data row3 col0\" >Original Data</td>\n",
              "                        <td id=\"T_b19c485e_d0df_11ea_b4fd_0242ac1c0002row3_col1\" class=\"data row3 col1\" >(163987, 15)</td>\n",
              "            </tr>\n",
              "            <tr>\n",
              "                        <th id=\"T_b19c485e_d0df_11ea_b4fd_0242ac1c0002level0_row4\" class=\"row_heading level0 row4\" >4</th>\n",
              "                        <td id=\"T_b19c485e_d0df_11ea_b4fd_0242ac1c0002row4_col0\" class=\"data row4 col0\" >Missing Values </td>\n",
              "                        <td id=\"T_b19c485e_d0df_11ea_b4fd_0242ac1c0002row4_col1\" class=\"data row4 col1\" >False</td>\n",
              "            </tr>\n",
              "            <tr>\n",
              "                        <th id=\"T_b19c485e_d0df_11ea_b4fd_0242ac1c0002level0_row5\" class=\"row_heading level0 row5\" >5</th>\n",
              "                        <td id=\"T_b19c485e_d0df_11ea_b4fd_0242ac1c0002row5_col0\" class=\"data row5 col0\" >Numeric Features </td>\n",
              "                        <td id=\"T_b19c485e_d0df_11ea_b4fd_0242ac1c0002row5_col1\" class=\"data row5 col1\" >10</td>\n",
              "            </tr>\n",
              "            <tr>\n",
              "                        <th id=\"T_b19c485e_d0df_11ea_b4fd_0242ac1c0002level0_row6\" class=\"row_heading level0 row6\" >6</th>\n",
              "                        <td id=\"T_b19c485e_d0df_11ea_b4fd_0242ac1c0002row6_col0\" class=\"data row6 col0\" >Categorical Features </td>\n",
              "                        <td id=\"T_b19c485e_d0df_11ea_b4fd_0242ac1c0002row6_col1\" class=\"data row6 col1\" >4</td>\n",
              "            </tr>\n",
              "            <tr>\n",
              "                        <th id=\"T_b19c485e_d0df_11ea_b4fd_0242ac1c0002level0_row7\" class=\"row_heading level0 row7\" >7</th>\n",
              "                        <td id=\"T_b19c485e_d0df_11ea_b4fd_0242ac1c0002row7_col0\" class=\"data row7 col0\" >Ordinal Features </td>\n",
              "                        <td id=\"T_b19c485e_d0df_11ea_b4fd_0242ac1c0002row7_col1\" class=\"data row7 col1\" >False</td>\n",
              "            </tr>\n",
              "            <tr>\n",
              "                        <th id=\"T_b19c485e_d0df_11ea_b4fd_0242ac1c0002level0_row8\" class=\"row_heading level0 row8\" >8</th>\n",
              "                        <td id=\"T_b19c485e_d0df_11ea_b4fd_0242ac1c0002row8_col0\" class=\"data row8 col0\" >High Cardinality Features </td>\n",
              "                        <td id=\"T_b19c485e_d0df_11ea_b4fd_0242ac1c0002row8_col1\" class=\"data row8 col1\" >False</td>\n",
              "            </tr>\n",
              "            <tr>\n",
              "                        <th id=\"T_b19c485e_d0df_11ea_b4fd_0242ac1c0002level0_row9\" class=\"row_heading level0 row9\" >9</th>\n",
              "                        <td id=\"T_b19c485e_d0df_11ea_b4fd_0242ac1c0002row9_col0\" class=\"data row9 col0\" >High Cardinality Method </td>\n",
              "                        <td id=\"T_b19c485e_d0df_11ea_b4fd_0242ac1c0002row9_col1\" class=\"data row9 col1\" >None</td>\n",
              "            </tr>\n",
              "            <tr>\n",
              "                        <th id=\"T_b19c485e_d0df_11ea_b4fd_0242ac1c0002level0_row10\" class=\"row_heading level0 row10\" >10</th>\n",
              "                        <td id=\"T_b19c485e_d0df_11ea_b4fd_0242ac1c0002row10_col0\" class=\"data row10 col0\" >Sampled Data</td>\n",
              "                        <td id=\"T_b19c485e_d0df_11ea_b4fd_0242ac1c0002row10_col1\" class=\"data row10 col1\" >(163987, 15)</td>\n",
              "            </tr>\n",
              "            <tr>\n",
              "                        <th id=\"T_b19c485e_d0df_11ea_b4fd_0242ac1c0002level0_row11\" class=\"row_heading level0 row11\" >11</th>\n",
              "                        <td id=\"T_b19c485e_d0df_11ea_b4fd_0242ac1c0002row11_col0\" class=\"data row11 col0\" >Transformed Train Set</td>\n",
              "                        <td id=\"T_b19c485e_d0df_11ea_b4fd_0242ac1c0002row11_col1\" class=\"data row11 col1\" >(114790, 81)</td>\n",
              "            </tr>\n",
              "            <tr>\n",
              "                        <th id=\"T_b19c485e_d0df_11ea_b4fd_0242ac1c0002level0_row12\" class=\"row_heading level0 row12\" >12</th>\n",
              "                        <td id=\"T_b19c485e_d0df_11ea_b4fd_0242ac1c0002row12_col0\" class=\"data row12 col0\" >Transformed Test Set</td>\n",
              "                        <td id=\"T_b19c485e_d0df_11ea_b4fd_0242ac1c0002row12_col1\" class=\"data row12 col1\" >(49197, 81)</td>\n",
              "            </tr>\n",
              "            <tr>\n",
              "                        <th id=\"T_b19c485e_d0df_11ea_b4fd_0242ac1c0002level0_row13\" class=\"row_heading level0 row13\" >13</th>\n",
              "                        <td id=\"T_b19c485e_d0df_11ea_b4fd_0242ac1c0002row13_col0\" class=\"data row13 col0\" >Numeric Imputer </td>\n",
              "                        <td id=\"T_b19c485e_d0df_11ea_b4fd_0242ac1c0002row13_col1\" class=\"data row13 col1\" >mean</td>\n",
              "            </tr>\n",
              "            <tr>\n",
              "                        <th id=\"T_b19c485e_d0df_11ea_b4fd_0242ac1c0002level0_row14\" class=\"row_heading level0 row14\" >14</th>\n",
              "                        <td id=\"T_b19c485e_d0df_11ea_b4fd_0242ac1c0002row14_col0\" class=\"data row14 col0\" >Categorical Imputer </td>\n",
              "                        <td id=\"T_b19c485e_d0df_11ea_b4fd_0242ac1c0002row14_col1\" class=\"data row14 col1\" >constant</td>\n",
              "            </tr>\n",
              "            <tr>\n",
              "                        <th id=\"T_b19c485e_d0df_11ea_b4fd_0242ac1c0002level0_row15\" class=\"row_heading level0 row15\" >15</th>\n",
              "                        <td id=\"T_b19c485e_d0df_11ea_b4fd_0242ac1c0002row15_col0\" class=\"data row15 col0\" >Normalize </td>\n",
              "                        <td id=\"T_b19c485e_d0df_11ea_b4fd_0242ac1c0002row15_col1\" class=\"data row15 col1\" >True</td>\n",
              "            </tr>\n",
              "            <tr>\n",
              "                        <th id=\"T_b19c485e_d0df_11ea_b4fd_0242ac1c0002level0_row16\" class=\"row_heading level0 row16\" >16</th>\n",
              "                        <td id=\"T_b19c485e_d0df_11ea_b4fd_0242ac1c0002row16_col0\" class=\"data row16 col0\" >Normalize Method </td>\n",
              "                        <td id=\"T_b19c485e_d0df_11ea_b4fd_0242ac1c0002row16_col1\" class=\"data row16 col1\" >zscore</td>\n",
              "            </tr>\n",
              "            <tr>\n",
              "                        <th id=\"T_b19c485e_d0df_11ea_b4fd_0242ac1c0002level0_row17\" class=\"row_heading level0 row17\" >17</th>\n",
              "                        <td id=\"T_b19c485e_d0df_11ea_b4fd_0242ac1c0002row17_col0\" class=\"data row17 col0\" >Transformation </td>\n",
              "                        <td id=\"T_b19c485e_d0df_11ea_b4fd_0242ac1c0002row17_col1\" class=\"data row17 col1\" >False</td>\n",
              "            </tr>\n",
              "            <tr>\n",
              "                        <th id=\"T_b19c485e_d0df_11ea_b4fd_0242ac1c0002level0_row18\" class=\"row_heading level0 row18\" >18</th>\n",
              "                        <td id=\"T_b19c485e_d0df_11ea_b4fd_0242ac1c0002row18_col0\" class=\"data row18 col0\" >Transformation Method </td>\n",
              "                        <td id=\"T_b19c485e_d0df_11ea_b4fd_0242ac1c0002row18_col1\" class=\"data row18 col1\" >None</td>\n",
              "            </tr>\n",
              "            <tr>\n",
              "                        <th id=\"T_b19c485e_d0df_11ea_b4fd_0242ac1c0002level0_row19\" class=\"row_heading level0 row19\" >19</th>\n",
              "                        <td id=\"T_b19c485e_d0df_11ea_b4fd_0242ac1c0002row19_col0\" class=\"data row19 col0\" >PCA </td>\n",
              "                        <td id=\"T_b19c485e_d0df_11ea_b4fd_0242ac1c0002row19_col1\" class=\"data row19 col1\" >False</td>\n",
              "            </tr>\n",
              "            <tr>\n",
              "                        <th id=\"T_b19c485e_d0df_11ea_b4fd_0242ac1c0002level0_row20\" class=\"row_heading level0 row20\" >20</th>\n",
              "                        <td id=\"T_b19c485e_d0df_11ea_b4fd_0242ac1c0002row20_col0\" class=\"data row20 col0\" >PCA Method </td>\n",
              "                        <td id=\"T_b19c485e_d0df_11ea_b4fd_0242ac1c0002row20_col1\" class=\"data row20 col1\" >None</td>\n",
              "            </tr>\n",
              "            <tr>\n",
              "                        <th id=\"T_b19c485e_d0df_11ea_b4fd_0242ac1c0002level0_row21\" class=\"row_heading level0 row21\" >21</th>\n",
              "                        <td id=\"T_b19c485e_d0df_11ea_b4fd_0242ac1c0002row21_col0\" class=\"data row21 col0\" >PCA Components </td>\n",
              "                        <td id=\"T_b19c485e_d0df_11ea_b4fd_0242ac1c0002row21_col1\" class=\"data row21 col1\" >None</td>\n",
              "            </tr>\n",
              "            <tr>\n",
              "                        <th id=\"T_b19c485e_d0df_11ea_b4fd_0242ac1c0002level0_row22\" class=\"row_heading level0 row22\" >22</th>\n",
              "                        <td id=\"T_b19c485e_d0df_11ea_b4fd_0242ac1c0002row22_col0\" class=\"data row22 col0\" >Ignore Low Variance </td>\n",
              "                        <td id=\"T_b19c485e_d0df_11ea_b4fd_0242ac1c0002row22_col1\" class=\"data row22 col1\" >False</td>\n",
              "            </tr>\n",
              "            <tr>\n",
              "                        <th id=\"T_b19c485e_d0df_11ea_b4fd_0242ac1c0002level0_row23\" class=\"row_heading level0 row23\" >23</th>\n",
              "                        <td id=\"T_b19c485e_d0df_11ea_b4fd_0242ac1c0002row23_col0\" class=\"data row23 col0\" >Combine Rare Levels </td>\n",
              "                        <td id=\"T_b19c485e_d0df_11ea_b4fd_0242ac1c0002row23_col1\" class=\"data row23 col1\" >False</td>\n",
              "            </tr>\n",
              "            <tr>\n",
              "                        <th id=\"T_b19c485e_d0df_11ea_b4fd_0242ac1c0002level0_row24\" class=\"row_heading level0 row24\" >24</th>\n",
              "                        <td id=\"T_b19c485e_d0df_11ea_b4fd_0242ac1c0002row24_col0\" class=\"data row24 col0\" >Rare Level Threshold </td>\n",
              "                        <td id=\"T_b19c485e_d0df_11ea_b4fd_0242ac1c0002row24_col1\" class=\"data row24 col1\" >None</td>\n",
              "            </tr>\n",
              "            <tr>\n",
              "                        <th id=\"T_b19c485e_d0df_11ea_b4fd_0242ac1c0002level0_row25\" class=\"row_heading level0 row25\" >25</th>\n",
              "                        <td id=\"T_b19c485e_d0df_11ea_b4fd_0242ac1c0002row25_col0\" class=\"data row25 col0\" >Numeric Binning </td>\n",
              "                        <td id=\"T_b19c485e_d0df_11ea_b4fd_0242ac1c0002row25_col1\" class=\"data row25 col1\" >False</td>\n",
              "            </tr>\n",
              "            <tr>\n",
              "                        <th id=\"T_b19c485e_d0df_11ea_b4fd_0242ac1c0002level0_row26\" class=\"row_heading level0 row26\" >26</th>\n",
              "                        <td id=\"T_b19c485e_d0df_11ea_b4fd_0242ac1c0002row26_col0\" class=\"data row26 col0\" >Remove Outliers </td>\n",
              "                        <td id=\"T_b19c485e_d0df_11ea_b4fd_0242ac1c0002row26_col1\" class=\"data row26 col1\" >False</td>\n",
              "            </tr>\n",
              "            <tr>\n",
              "                        <th id=\"T_b19c485e_d0df_11ea_b4fd_0242ac1c0002level0_row27\" class=\"row_heading level0 row27\" >27</th>\n",
              "                        <td id=\"T_b19c485e_d0df_11ea_b4fd_0242ac1c0002row27_col0\" class=\"data row27 col0\" >Outliers Threshold </td>\n",
              "                        <td id=\"T_b19c485e_d0df_11ea_b4fd_0242ac1c0002row27_col1\" class=\"data row27 col1\" >None</td>\n",
              "            </tr>\n",
              "            <tr>\n",
              "                        <th id=\"T_b19c485e_d0df_11ea_b4fd_0242ac1c0002level0_row28\" class=\"row_heading level0 row28\" >28</th>\n",
              "                        <td id=\"T_b19c485e_d0df_11ea_b4fd_0242ac1c0002row28_col0\" class=\"data row28 col0\" >Remove Multicollinearity </td>\n",
              "                        <td id=\"T_b19c485e_d0df_11ea_b4fd_0242ac1c0002row28_col1\" class=\"data row28 col1\" >False</td>\n",
              "            </tr>\n",
              "            <tr>\n",
              "                        <th id=\"T_b19c485e_d0df_11ea_b4fd_0242ac1c0002level0_row29\" class=\"row_heading level0 row29\" >29</th>\n",
              "                        <td id=\"T_b19c485e_d0df_11ea_b4fd_0242ac1c0002row29_col0\" class=\"data row29 col0\" >Multicollinearity Threshold </td>\n",
              "                        <td id=\"T_b19c485e_d0df_11ea_b4fd_0242ac1c0002row29_col1\" class=\"data row29 col1\" >None</td>\n",
              "            </tr>\n",
              "            <tr>\n",
              "                        <th id=\"T_b19c485e_d0df_11ea_b4fd_0242ac1c0002level0_row30\" class=\"row_heading level0 row30\" >30</th>\n",
              "                        <td id=\"T_b19c485e_d0df_11ea_b4fd_0242ac1c0002row30_col0\" class=\"data row30 col0\" >Clustering </td>\n",
              "                        <td id=\"T_b19c485e_d0df_11ea_b4fd_0242ac1c0002row30_col1\" class=\"data row30 col1\" >False</td>\n",
              "            </tr>\n",
              "            <tr>\n",
              "                        <th id=\"T_b19c485e_d0df_11ea_b4fd_0242ac1c0002level0_row31\" class=\"row_heading level0 row31\" >31</th>\n",
              "                        <td id=\"T_b19c485e_d0df_11ea_b4fd_0242ac1c0002row31_col0\" class=\"data row31 col0\" >Clustering Iteration </td>\n",
              "                        <td id=\"T_b19c485e_d0df_11ea_b4fd_0242ac1c0002row31_col1\" class=\"data row31 col1\" >None</td>\n",
              "            </tr>\n",
              "            <tr>\n",
              "                        <th id=\"T_b19c485e_d0df_11ea_b4fd_0242ac1c0002level0_row32\" class=\"row_heading level0 row32\" >32</th>\n",
              "                        <td id=\"T_b19c485e_d0df_11ea_b4fd_0242ac1c0002row32_col0\" class=\"data row32 col0\" >Polynomial Features </td>\n",
              "                        <td id=\"T_b19c485e_d0df_11ea_b4fd_0242ac1c0002row32_col1\" class=\"data row32 col1\" >False</td>\n",
              "            </tr>\n",
              "            <tr>\n",
              "                        <th id=\"T_b19c485e_d0df_11ea_b4fd_0242ac1c0002level0_row33\" class=\"row_heading level0 row33\" >33</th>\n",
              "                        <td id=\"T_b19c485e_d0df_11ea_b4fd_0242ac1c0002row33_col0\" class=\"data row33 col0\" >Polynomial Degree </td>\n",
              "                        <td id=\"T_b19c485e_d0df_11ea_b4fd_0242ac1c0002row33_col1\" class=\"data row33 col1\" >None</td>\n",
              "            </tr>\n",
              "            <tr>\n",
              "                        <th id=\"T_b19c485e_d0df_11ea_b4fd_0242ac1c0002level0_row34\" class=\"row_heading level0 row34\" >34</th>\n",
              "                        <td id=\"T_b19c485e_d0df_11ea_b4fd_0242ac1c0002row34_col0\" class=\"data row34 col0\" >Trignometry Features </td>\n",
              "                        <td id=\"T_b19c485e_d0df_11ea_b4fd_0242ac1c0002row34_col1\" class=\"data row34 col1\" >False</td>\n",
              "            </tr>\n",
              "            <tr>\n",
              "                        <th id=\"T_b19c485e_d0df_11ea_b4fd_0242ac1c0002level0_row35\" class=\"row_heading level0 row35\" >35</th>\n",
              "                        <td id=\"T_b19c485e_d0df_11ea_b4fd_0242ac1c0002row35_col0\" class=\"data row35 col0\" >Polynomial Threshold </td>\n",
              "                        <td id=\"T_b19c485e_d0df_11ea_b4fd_0242ac1c0002row35_col1\" class=\"data row35 col1\" >None</td>\n",
              "            </tr>\n",
              "            <tr>\n",
              "                        <th id=\"T_b19c485e_d0df_11ea_b4fd_0242ac1c0002level0_row36\" class=\"row_heading level0 row36\" >36</th>\n",
              "                        <td id=\"T_b19c485e_d0df_11ea_b4fd_0242ac1c0002row36_col0\" class=\"data row36 col0\" >Group Features </td>\n",
              "                        <td id=\"T_b19c485e_d0df_11ea_b4fd_0242ac1c0002row36_col1\" class=\"data row36 col1\" >False</td>\n",
              "            </tr>\n",
              "            <tr>\n",
              "                        <th id=\"T_b19c485e_d0df_11ea_b4fd_0242ac1c0002level0_row37\" class=\"row_heading level0 row37\" >37</th>\n",
              "                        <td id=\"T_b19c485e_d0df_11ea_b4fd_0242ac1c0002row37_col0\" class=\"data row37 col0\" >Feature Selection </td>\n",
              "                        <td id=\"T_b19c485e_d0df_11ea_b4fd_0242ac1c0002row37_col1\" class=\"data row37 col1\" >False</td>\n",
              "            </tr>\n",
              "            <tr>\n",
              "                        <th id=\"T_b19c485e_d0df_11ea_b4fd_0242ac1c0002level0_row38\" class=\"row_heading level0 row38\" >38</th>\n",
              "                        <td id=\"T_b19c485e_d0df_11ea_b4fd_0242ac1c0002row38_col0\" class=\"data row38 col0\" >Features Selection Threshold </td>\n",
              "                        <td id=\"T_b19c485e_d0df_11ea_b4fd_0242ac1c0002row38_col1\" class=\"data row38 col1\" >None</td>\n",
              "            </tr>\n",
              "            <tr>\n",
              "                        <th id=\"T_b19c485e_d0df_11ea_b4fd_0242ac1c0002level0_row39\" class=\"row_heading level0 row39\" >39</th>\n",
              "                        <td id=\"T_b19c485e_d0df_11ea_b4fd_0242ac1c0002row39_col0\" class=\"data row39 col0\" >Feature Interaction </td>\n",
              "                        <td id=\"T_b19c485e_d0df_11ea_b4fd_0242ac1c0002row39_col1\" class=\"data row39 col1\" >False</td>\n",
              "            </tr>\n",
              "            <tr>\n",
              "                        <th id=\"T_b19c485e_d0df_11ea_b4fd_0242ac1c0002level0_row40\" class=\"row_heading level0 row40\" >40</th>\n",
              "                        <td id=\"T_b19c485e_d0df_11ea_b4fd_0242ac1c0002row40_col0\" class=\"data row40 col0\" >Feature Ratio </td>\n",
              "                        <td id=\"T_b19c485e_d0df_11ea_b4fd_0242ac1c0002row40_col1\" class=\"data row40 col1\" >False</td>\n",
              "            </tr>\n",
              "            <tr>\n",
              "                        <th id=\"T_b19c485e_d0df_11ea_b4fd_0242ac1c0002level0_row41\" class=\"row_heading level0 row41\" >41</th>\n",
              "                        <td id=\"T_b19c485e_d0df_11ea_b4fd_0242ac1c0002row41_col0\" class=\"data row41 col0\" >Interaction Threshold </td>\n",
              "                        <td id=\"T_b19c485e_d0df_11ea_b4fd_0242ac1c0002row41_col1\" class=\"data row41 col1\" >None</td>\n",
              "            </tr>\n",
              "    </tbody></table>"
            ],
            "text/plain": [
              "<pandas.io.formats.style.Styler at 0x7f9689a79e10>"
            ]
          },
          "metadata": {
            "tags": []
          }
        }
      ]
    },
    {
      "cell_type": "markdown",
      "metadata": {
        "id": "0wz8FAFQ2Mam",
        "colab_type": "text"
      },
      "source": [
        "**Compare model**\n",
        "In order to compare multiple models to get an initial idea that what type of classification model would provide a better result, you can use the compare_models( ) function. Here I have used a sort = “AUC” so after training it will sort the models in decreasing order corresponding to the AUC metric. Here, you can observe that Extreme Gradient Boosting topped the list and provided the best AUC value."
      ]
    },
    {
      "cell_type": "code",
      "metadata": {
        "id": "_dpEUar81rqQ",
        "colab_type": "code",
        "colab": {
          "base_uri": "https://localhost:8080/",
          "height": 355,
          "referenced_widgets": [
            "6aaeb46d440140ec9a0a9ffe495bc4e0"
          ]
        },
        "outputId": "d9238693-bb40-45ba-b76a-b2ea54a366d3"
      },
      "source": [
        "compare_models(sort = \"AUC\")"
      ],
      "execution_count": 21,
      "outputs": [
        {
          "output_type": "execute_result",
          "data": {
            "text/html": [
              "<style  type=\"text/css\" >\n",
              "    #T_073b08c2_d0ea_11ea_b4fd_0242ac1c0002 th {\n",
              "          text-align: left;\n",
              "    }    #T_073b08c2_d0ea_11ea_b4fd_0242ac1c0002row0_col0 {\n",
              "            text-align:  left;\n",
              "        }    #T_073b08c2_d0ea_11ea_b4fd_0242ac1c0002row0_col1 {\n",
              "            : ;\n",
              "            text-align:  left;\n",
              "        }    #T_073b08c2_d0ea_11ea_b4fd_0242ac1c0002row0_col2 {\n",
              "            background-color:  yellow;\n",
              "            text-align:  left;\n",
              "        }    #T_073b08c2_d0ea_11ea_b4fd_0242ac1c0002row0_col3 {\n",
              "            : ;\n",
              "            text-align:  left;\n",
              "        }    #T_073b08c2_d0ea_11ea_b4fd_0242ac1c0002row0_col4 {\n",
              "            : ;\n",
              "            text-align:  left;\n",
              "        }    #T_073b08c2_d0ea_11ea_b4fd_0242ac1c0002row0_col5 {\n",
              "            : ;\n",
              "            text-align:  left;\n",
              "        }    #T_073b08c2_d0ea_11ea_b4fd_0242ac1c0002row0_col6 {\n",
              "            : ;\n",
              "            text-align:  left;\n",
              "        }    #T_073b08c2_d0ea_11ea_b4fd_0242ac1c0002row1_col0 {\n",
              "            text-align:  left;\n",
              "        }    #T_073b08c2_d0ea_11ea_b4fd_0242ac1c0002row1_col1 {\n",
              "            background-color:  yellow;\n",
              "            text-align:  left;\n",
              "        }    #T_073b08c2_d0ea_11ea_b4fd_0242ac1c0002row1_col2 {\n",
              "            : ;\n",
              "            text-align:  left;\n",
              "        }    #T_073b08c2_d0ea_11ea_b4fd_0242ac1c0002row1_col3 {\n",
              "            : ;\n",
              "            text-align:  left;\n",
              "        }    #T_073b08c2_d0ea_11ea_b4fd_0242ac1c0002row1_col4 {\n",
              "            : ;\n",
              "            text-align:  left;\n",
              "        }    #T_073b08c2_d0ea_11ea_b4fd_0242ac1c0002row1_col5 {\n",
              "            : ;\n",
              "            text-align:  left;\n",
              "        }    #T_073b08c2_d0ea_11ea_b4fd_0242ac1c0002row1_col6 {\n",
              "            : ;\n",
              "            text-align:  left;\n",
              "        }    #T_073b08c2_d0ea_11ea_b4fd_0242ac1c0002row2_col0 {\n",
              "            text-align:  left;\n",
              "        }    #T_073b08c2_d0ea_11ea_b4fd_0242ac1c0002row2_col1 {\n",
              "            : ;\n",
              "            text-align:  left;\n",
              "        }    #T_073b08c2_d0ea_11ea_b4fd_0242ac1c0002row2_col2 {\n",
              "            : ;\n",
              "            text-align:  left;\n",
              "        }    #T_073b08c2_d0ea_11ea_b4fd_0242ac1c0002row2_col3 {\n",
              "            : ;\n",
              "            text-align:  left;\n",
              "        }    #T_073b08c2_d0ea_11ea_b4fd_0242ac1c0002row2_col4 {\n",
              "            : ;\n",
              "            text-align:  left;\n",
              "        }    #T_073b08c2_d0ea_11ea_b4fd_0242ac1c0002row2_col5 {\n",
              "            : ;\n",
              "            text-align:  left;\n",
              "        }    #T_073b08c2_d0ea_11ea_b4fd_0242ac1c0002row2_col6 {\n",
              "            : ;\n",
              "            text-align:  left;\n",
              "        }    #T_073b08c2_d0ea_11ea_b4fd_0242ac1c0002row3_col0 {\n",
              "            text-align:  left;\n",
              "        }    #T_073b08c2_d0ea_11ea_b4fd_0242ac1c0002row3_col1 {\n",
              "            : ;\n",
              "            text-align:  left;\n",
              "        }    #T_073b08c2_d0ea_11ea_b4fd_0242ac1c0002row3_col2 {\n",
              "            : ;\n",
              "            text-align:  left;\n",
              "        }    #T_073b08c2_d0ea_11ea_b4fd_0242ac1c0002row3_col3 {\n",
              "            : ;\n",
              "            text-align:  left;\n",
              "        }    #T_073b08c2_d0ea_11ea_b4fd_0242ac1c0002row3_col4 {\n",
              "            : ;\n",
              "            text-align:  left;\n",
              "        }    #T_073b08c2_d0ea_11ea_b4fd_0242ac1c0002row3_col5 {\n",
              "            : ;\n",
              "            text-align:  left;\n",
              "        }    #T_073b08c2_d0ea_11ea_b4fd_0242ac1c0002row3_col6 {\n",
              "            : ;\n",
              "            text-align:  left;\n",
              "        }    #T_073b08c2_d0ea_11ea_b4fd_0242ac1c0002row4_col0 {\n",
              "            text-align:  left;\n",
              "        }    #T_073b08c2_d0ea_11ea_b4fd_0242ac1c0002row4_col1 {\n",
              "            : ;\n",
              "            text-align:  left;\n",
              "        }    #T_073b08c2_d0ea_11ea_b4fd_0242ac1c0002row4_col2 {\n",
              "            : ;\n",
              "            text-align:  left;\n",
              "        }    #T_073b08c2_d0ea_11ea_b4fd_0242ac1c0002row4_col3 {\n",
              "            : ;\n",
              "            text-align:  left;\n",
              "        }    #T_073b08c2_d0ea_11ea_b4fd_0242ac1c0002row4_col4 {\n",
              "            : ;\n",
              "            text-align:  left;\n",
              "        }    #T_073b08c2_d0ea_11ea_b4fd_0242ac1c0002row4_col5 {\n",
              "            : ;\n",
              "            text-align:  left;\n",
              "        }    #T_073b08c2_d0ea_11ea_b4fd_0242ac1c0002row4_col6 {\n",
              "            : ;\n",
              "            text-align:  left;\n",
              "        }    #T_073b08c2_d0ea_11ea_b4fd_0242ac1c0002row5_col0 {\n",
              "            text-align:  left;\n",
              "        }    #T_073b08c2_d0ea_11ea_b4fd_0242ac1c0002row5_col1 {\n",
              "            : ;\n",
              "            text-align:  left;\n",
              "        }    #T_073b08c2_d0ea_11ea_b4fd_0242ac1c0002row5_col2 {\n",
              "            : ;\n",
              "            text-align:  left;\n",
              "        }    #T_073b08c2_d0ea_11ea_b4fd_0242ac1c0002row5_col3 {\n",
              "            : ;\n",
              "            text-align:  left;\n",
              "        }    #T_073b08c2_d0ea_11ea_b4fd_0242ac1c0002row5_col4 {\n",
              "            : ;\n",
              "            text-align:  left;\n",
              "        }    #T_073b08c2_d0ea_11ea_b4fd_0242ac1c0002row5_col5 {\n",
              "            : ;\n",
              "            text-align:  left;\n",
              "        }    #T_073b08c2_d0ea_11ea_b4fd_0242ac1c0002row5_col6 {\n",
              "            : ;\n",
              "            text-align:  left;\n",
              "        }    #T_073b08c2_d0ea_11ea_b4fd_0242ac1c0002row6_col0 {\n",
              "            text-align:  left;\n",
              "        }    #T_073b08c2_d0ea_11ea_b4fd_0242ac1c0002row6_col1 {\n",
              "            : ;\n",
              "            text-align:  left;\n",
              "        }    #T_073b08c2_d0ea_11ea_b4fd_0242ac1c0002row6_col2 {\n",
              "            : ;\n",
              "            text-align:  left;\n",
              "        }    #T_073b08c2_d0ea_11ea_b4fd_0242ac1c0002row6_col3 {\n",
              "            : ;\n",
              "            text-align:  left;\n",
              "        }    #T_073b08c2_d0ea_11ea_b4fd_0242ac1c0002row6_col4 {\n",
              "            : ;\n",
              "            text-align:  left;\n",
              "        }    #T_073b08c2_d0ea_11ea_b4fd_0242ac1c0002row6_col5 {\n",
              "            : ;\n",
              "            text-align:  left;\n",
              "        }    #T_073b08c2_d0ea_11ea_b4fd_0242ac1c0002row6_col6 {\n",
              "            : ;\n",
              "            text-align:  left;\n",
              "        }    #T_073b08c2_d0ea_11ea_b4fd_0242ac1c0002row7_col0 {\n",
              "            text-align:  left;\n",
              "        }    #T_073b08c2_d0ea_11ea_b4fd_0242ac1c0002row7_col1 {\n",
              "            : ;\n",
              "            text-align:  left;\n",
              "        }    #T_073b08c2_d0ea_11ea_b4fd_0242ac1c0002row7_col2 {\n",
              "            : ;\n",
              "            text-align:  left;\n",
              "        }    #T_073b08c2_d0ea_11ea_b4fd_0242ac1c0002row7_col3 {\n",
              "            : ;\n",
              "            text-align:  left;\n",
              "        }    #T_073b08c2_d0ea_11ea_b4fd_0242ac1c0002row7_col4 {\n",
              "            : ;\n",
              "            text-align:  left;\n",
              "        }    #T_073b08c2_d0ea_11ea_b4fd_0242ac1c0002row7_col5 {\n",
              "            : ;\n",
              "            text-align:  left;\n",
              "        }    #T_073b08c2_d0ea_11ea_b4fd_0242ac1c0002row7_col6 {\n",
              "            : ;\n",
              "            text-align:  left;\n",
              "        }    #T_073b08c2_d0ea_11ea_b4fd_0242ac1c0002row8_col0 {\n",
              "            text-align:  left;\n",
              "        }    #T_073b08c2_d0ea_11ea_b4fd_0242ac1c0002row8_col1 {\n",
              "            : ;\n",
              "            text-align:  left;\n",
              "        }    #T_073b08c2_d0ea_11ea_b4fd_0242ac1c0002row8_col2 {\n",
              "            : ;\n",
              "            text-align:  left;\n",
              "        }    #T_073b08c2_d0ea_11ea_b4fd_0242ac1c0002row8_col3 {\n",
              "            : ;\n",
              "            text-align:  left;\n",
              "        }    #T_073b08c2_d0ea_11ea_b4fd_0242ac1c0002row8_col4 {\n",
              "            : ;\n",
              "            text-align:  left;\n",
              "        }    #T_073b08c2_d0ea_11ea_b4fd_0242ac1c0002row8_col5 {\n",
              "            : ;\n",
              "            text-align:  left;\n",
              "        }    #T_073b08c2_d0ea_11ea_b4fd_0242ac1c0002row8_col6 {\n",
              "            : ;\n",
              "            text-align:  left;\n",
              "        }    #T_073b08c2_d0ea_11ea_b4fd_0242ac1c0002row9_col0 {\n",
              "            text-align:  left;\n",
              "        }    #T_073b08c2_d0ea_11ea_b4fd_0242ac1c0002row9_col1 {\n",
              "            : ;\n",
              "            text-align:  left;\n",
              "        }    #T_073b08c2_d0ea_11ea_b4fd_0242ac1c0002row9_col2 {\n",
              "            : ;\n",
              "            text-align:  left;\n",
              "        }    #T_073b08c2_d0ea_11ea_b4fd_0242ac1c0002row9_col3 {\n",
              "            : ;\n",
              "            text-align:  left;\n",
              "        }    #T_073b08c2_d0ea_11ea_b4fd_0242ac1c0002row9_col4 {\n",
              "            : ;\n",
              "            text-align:  left;\n",
              "        }    #T_073b08c2_d0ea_11ea_b4fd_0242ac1c0002row9_col5 {\n",
              "            background-color:  yellow;\n",
              "            text-align:  left;\n",
              "        }    #T_073b08c2_d0ea_11ea_b4fd_0242ac1c0002row9_col6 {\n",
              "            : ;\n",
              "            text-align:  left;\n",
              "        }    #T_073b08c2_d0ea_11ea_b4fd_0242ac1c0002row10_col0 {\n",
              "            text-align:  left;\n",
              "        }    #T_073b08c2_d0ea_11ea_b4fd_0242ac1c0002row10_col1 {\n",
              "            : ;\n",
              "            text-align:  left;\n",
              "        }    #T_073b08c2_d0ea_11ea_b4fd_0242ac1c0002row10_col2 {\n",
              "            : ;\n",
              "            text-align:  left;\n",
              "        }    #T_073b08c2_d0ea_11ea_b4fd_0242ac1c0002row10_col3 {\n",
              "            : ;\n",
              "            text-align:  left;\n",
              "        }    #T_073b08c2_d0ea_11ea_b4fd_0242ac1c0002row10_col4 {\n",
              "            : ;\n",
              "            text-align:  left;\n",
              "        }    #T_073b08c2_d0ea_11ea_b4fd_0242ac1c0002row10_col5 {\n",
              "            : ;\n",
              "            text-align:  left;\n",
              "        }    #T_073b08c2_d0ea_11ea_b4fd_0242ac1c0002row10_col6 {\n",
              "            background-color:  yellow;\n",
              "            text-align:  left;\n",
              "        }    #T_073b08c2_d0ea_11ea_b4fd_0242ac1c0002row11_col0 {\n",
              "            text-align:  left;\n",
              "        }    #T_073b08c2_d0ea_11ea_b4fd_0242ac1c0002row11_col1 {\n",
              "            : ;\n",
              "            text-align:  left;\n",
              "        }    #T_073b08c2_d0ea_11ea_b4fd_0242ac1c0002row11_col2 {\n",
              "            : ;\n",
              "            text-align:  left;\n",
              "        }    #T_073b08c2_d0ea_11ea_b4fd_0242ac1c0002row11_col3 {\n",
              "            background-color:  yellow;\n",
              "            text-align:  left;\n",
              "        }    #T_073b08c2_d0ea_11ea_b4fd_0242ac1c0002row11_col4 {\n",
              "            : ;\n",
              "            text-align:  left;\n",
              "        }    #T_073b08c2_d0ea_11ea_b4fd_0242ac1c0002row11_col5 {\n",
              "            : ;\n",
              "            text-align:  left;\n",
              "        }    #T_073b08c2_d0ea_11ea_b4fd_0242ac1c0002row11_col6 {\n",
              "            : ;\n",
              "            text-align:  left;\n",
              "        }    #T_073b08c2_d0ea_11ea_b4fd_0242ac1c0002row12_col0 {\n",
              "            text-align:  left;\n",
              "        }    #T_073b08c2_d0ea_11ea_b4fd_0242ac1c0002row12_col1 {\n",
              "            : ;\n",
              "            text-align:  left;\n",
              "        }    #T_073b08c2_d0ea_11ea_b4fd_0242ac1c0002row12_col2 {\n",
              "            : ;\n",
              "            text-align:  left;\n",
              "        }    #T_073b08c2_d0ea_11ea_b4fd_0242ac1c0002row12_col3 {\n",
              "            : ;\n",
              "            text-align:  left;\n",
              "        }    #T_073b08c2_d0ea_11ea_b4fd_0242ac1c0002row12_col4 {\n",
              "            : ;\n",
              "            text-align:  left;\n",
              "        }    #T_073b08c2_d0ea_11ea_b4fd_0242ac1c0002row12_col5 {\n",
              "            : ;\n",
              "            text-align:  left;\n",
              "        }    #T_073b08c2_d0ea_11ea_b4fd_0242ac1c0002row12_col6 {\n",
              "            : ;\n",
              "            text-align:  left;\n",
              "        }    #T_073b08c2_d0ea_11ea_b4fd_0242ac1c0002row13_col0 {\n",
              "            text-align:  left;\n",
              "        }    #T_073b08c2_d0ea_11ea_b4fd_0242ac1c0002row13_col1 {\n",
              "            : ;\n",
              "            text-align:  left;\n",
              "        }    #T_073b08c2_d0ea_11ea_b4fd_0242ac1c0002row13_col2 {\n",
              "            : ;\n",
              "            text-align:  left;\n",
              "        }    #T_073b08c2_d0ea_11ea_b4fd_0242ac1c0002row13_col3 {\n",
              "            : ;\n",
              "            text-align:  left;\n",
              "        }    #T_073b08c2_d0ea_11ea_b4fd_0242ac1c0002row13_col4 {\n",
              "            : ;\n",
              "            text-align:  left;\n",
              "        }    #T_073b08c2_d0ea_11ea_b4fd_0242ac1c0002row13_col5 {\n",
              "            : ;\n",
              "            text-align:  left;\n",
              "        }    #T_073b08c2_d0ea_11ea_b4fd_0242ac1c0002row13_col6 {\n",
              "            : ;\n",
              "            text-align:  left;\n",
              "        }    #T_073b08c2_d0ea_11ea_b4fd_0242ac1c0002row14_col0 {\n",
              "            text-align:  left;\n",
              "        }    #T_073b08c2_d0ea_11ea_b4fd_0242ac1c0002row14_col1 {\n",
              "            : ;\n",
              "            text-align:  left;\n",
              "        }    #T_073b08c2_d0ea_11ea_b4fd_0242ac1c0002row14_col2 {\n",
              "            : ;\n",
              "            text-align:  left;\n",
              "        }    #T_073b08c2_d0ea_11ea_b4fd_0242ac1c0002row14_col3 {\n",
              "            : ;\n",
              "            text-align:  left;\n",
              "        }    #T_073b08c2_d0ea_11ea_b4fd_0242ac1c0002row14_col4 {\n",
              "            background-color:  yellow;\n",
              "            text-align:  left;\n",
              "        }    #T_073b08c2_d0ea_11ea_b4fd_0242ac1c0002row14_col5 {\n",
              "            : ;\n",
              "            text-align:  left;\n",
              "        }    #T_073b08c2_d0ea_11ea_b4fd_0242ac1c0002row14_col6 {\n",
              "            : ;\n",
              "            text-align:  left;\n",
              "        }</style><table id=\"T_073b08c2_d0ea_11ea_b4fd_0242ac1c0002\" ><thead>    <tr>        <th class=\"blank level0\" ></th>        <th class=\"col_heading level0 col0\" >Model</th>        <th class=\"col_heading level0 col1\" >Accuracy</th>        <th class=\"col_heading level0 col2\" >AUC</th>        <th class=\"col_heading level0 col3\" >Recall</th>        <th class=\"col_heading level0 col4\" >Prec.</th>        <th class=\"col_heading level0 col5\" >F1</th>        <th class=\"col_heading level0 col6\" >Kappa</th>    </tr></thead><tbody>\n",
              "                <tr>\n",
              "                        <th id=\"T_073b08c2_d0ea_11ea_b4fd_0242ac1c0002level0_row0\" class=\"row_heading level0 row0\" >0</th>\n",
              "                        <td id=\"T_073b08c2_d0ea_11ea_b4fd_0242ac1c0002row0_col0\" class=\"data row0 col0\" >CatBoost Classifier</td>\n",
              "                        <td id=\"T_073b08c2_d0ea_11ea_b4fd_0242ac1c0002row0_col1\" class=\"data row0 col1\" >0.817300</td>\n",
              "                        <td id=\"T_073b08c2_d0ea_11ea_b4fd_0242ac1c0002row0_col2\" class=\"data row0 col2\" >0.709600</td>\n",
              "                        <td id=\"T_073b08c2_d0ea_11ea_b4fd_0242ac1c0002row0_col3\" class=\"data row0 col3\" >0.056200</td>\n",
              "                        <td id=\"T_073b08c2_d0ea_11ea_b4fd_0242ac1c0002row0_col4\" class=\"data row0 col4\" >0.507900</td>\n",
              "                        <td id=\"T_073b08c2_d0ea_11ea_b4fd_0242ac1c0002row0_col5\" class=\"data row0 col5\" >0.101200</td>\n",
              "                        <td id=\"T_073b08c2_d0ea_11ea_b4fd_0242ac1c0002row0_col6\" class=\"data row0 col6\" >0.067200</td>\n",
              "            </tr>\n",
              "            <tr>\n",
              "                        <th id=\"T_073b08c2_d0ea_11ea_b4fd_0242ac1c0002level0_row1\" class=\"row_heading level0 row1\" >1</th>\n",
              "                        <td id=\"T_073b08c2_d0ea_11ea_b4fd_0242ac1c0002row1_col0\" class=\"data row1 col0\" >Light Gradient Boosting Machine</td>\n",
              "                        <td id=\"T_073b08c2_d0ea_11ea_b4fd_0242ac1c0002row1_col1\" class=\"data row1 col1\" >0.817600</td>\n",
              "                        <td id=\"T_073b08c2_d0ea_11ea_b4fd_0242ac1c0002row1_col2\" class=\"data row1 col2\" >0.707300</td>\n",
              "                        <td id=\"T_073b08c2_d0ea_11ea_b4fd_0242ac1c0002row1_col3\" class=\"data row1 col3\" >0.032500</td>\n",
              "                        <td id=\"T_073b08c2_d0ea_11ea_b4fd_0242ac1c0002row1_col4\" class=\"data row1 col4\" >0.526500</td>\n",
              "                        <td id=\"T_073b08c2_d0ea_11ea_b4fd_0242ac1c0002row1_col5\" class=\"data row1 col5\" >0.061200</td>\n",
              "                        <td id=\"T_073b08c2_d0ea_11ea_b4fd_0242ac1c0002row1_col6\" class=\"data row1 col6\" >0.040800</td>\n",
              "            </tr>\n",
              "            <tr>\n",
              "                        <th id=\"T_073b08c2_d0ea_11ea_b4fd_0242ac1c0002level0_row2\" class=\"row_heading level0 row2\" >2</th>\n",
              "                        <td id=\"T_073b08c2_d0ea_11ea_b4fd_0242ac1c0002row2_col0\" class=\"data row2 col0\" >Extreme Gradient Boosting</td>\n",
              "                        <td id=\"T_073b08c2_d0ea_11ea_b4fd_0242ac1c0002row2_col1\" class=\"data row2 col1\" >0.817400</td>\n",
              "                        <td id=\"T_073b08c2_d0ea_11ea_b4fd_0242ac1c0002row2_col2\" class=\"data row2 col2\" >0.705800</td>\n",
              "                        <td id=\"T_073b08c2_d0ea_11ea_b4fd_0242ac1c0002row2_col3\" class=\"data row2 col3\" >0.020400</td>\n",
              "                        <td id=\"T_073b08c2_d0ea_11ea_b4fd_0242ac1c0002row2_col4\" class=\"data row2 col4\" >0.531800</td>\n",
              "                        <td id=\"T_073b08c2_d0ea_11ea_b4fd_0242ac1c0002row2_col5\" class=\"data row2 col5\" >0.039200</td>\n",
              "                        <td id=\"T_073b08c2_d0ea_11ea_b4fd_0242ac1c0002row2_col6\" class=\"data row2 col6\" >0.026000</td>\n",
              "            </tr>\n",
              "            <tr>\n",
              "                        <th id=\"T_073b08c2_d0ea_11ea_b4fd_0242ac1c0002level0_row3\" class=\"row_heading level0 row3\" >3</th>\n",
              "                        <td id=\"T_073b08c2_d0ea_11ea_b4fd_0242ac1c0002row3_col0\" class=\"data row3 col0\" >Gradient Boosting Classifier</td>\n",
              "                        <td id=\"T_073b08c2_d0ea_11ea_b4fd_0242ac1c0002row3_col1\" class=\"data row3 col1\" >0.817400</td>\n",
              "                        <td id=\"T_073b08c2_d0ea_11ea_b4fd_0242ac1c0002row3_col2\" class=\"data row3 col2\" >0.705600</td>\n",
              "                        <td id=\"T_073b08c2_d0ea_11ea_b4fd_0242ac1c0002row3_col3\" class=\"data row3 col3\" >0.025400</td>\n",
              "                        <td id=\"T_073b08c2_d0ea_11ea_b4fd_0242ac1c0002row3_col4\" class=\"data row3 col4\" >0.523200</td>\n",
              "                        <td id=\"T_073b08c2_d0ea_11ea_b4fd_0242ac1c0002row3_col5\" class=\"data row3 col5\" >0.048400</td>\n",
              "                        <td id=\"T_073b08c2_d0ea_11ea_b4fd_0242ac1c0002row3_col6\" class=\"data row3 col6\" >0.032000</td>\n",
              "            </tr>\n",
              "            <tr>\n",
              "                        <th id=\"T_073b08c2_d0ea_11ea_b4fd_0242ac1c0002level0_row4\" class=\"row_heading level0 row4\" >4</th>\n",
              "                        <td id=\"T_073b08c2_d0ea_11ea_b4fd_0242ac1c0002row4_col0\" class=\"data row4 col0\" >Ada Boost Classifier</td>\n",
              "                        <td id=\"T_073b08c2_d0ea_11ea_b4fd_0242ac1c0002row4_col1\" class=\"data row4 col1\" >0.817400</td>\n",
              "                        <td id=\"T_073b08c2_d0ea_11ea_b4fd_0242ac1c0002row4_col2\" class=\"data row4 col2\" >0.701500</td>\n",
              "                        <td id=\"T_073b08c2_d0ea_11ea_b4fd_0242ac1c0002row4_col3\" class=\"data row4 col3\" >0.035300</td>\n",
              "                        <td id=\"T_073b08c2_d0ea_11ea_b4fd_0242ac1c0002row4_col4\" class=\"data row4 col4\" >0.517600</td>\n",
              "                        <td id=\"T_073b08c2_d0ea_11ea_b4fd_0242ac1c0002row4_col5\" class=\"data row4 col5\" >0.066100</td>\n",
              "                        <td id=\"T_073b08c2_d0ea_11ea_b4fd_0242ac1c0002row4_col6\" class=\"data row4 col6\" >0.043800</td>\n",
              "            </tr>\n",
              "            <tr>\n",
              "                        <th id=\"T_073b08c2_d0ea_11ea_b4fd_0242ac1c0002level0_row5\" class=\"row_heading level0 row5\" >5</th>\n",
              "                        <td id=\"T_073b08c2_d0ea_11ea_b4fd_0242ac1c0002row5_col0\" class=\"data row5 col0\" >Logistic Regression</td>\n",
              "                        <td id=\"T_073b08c2_d0ea_11ea_b4fd_0242ac1c0002row5_col1\" class=\"data row5 col1\" >0.817000</td>\n",
              "                        <td id=\"T_073b08c2_d0ea_11ea_b4fd_0242ac1c0002row5_col2\" class=\"data row5 col2\" >0.700000</td>\n",
              "                        <td id=\"T_073b08c2_d0ea_11ea_b4fd_0242ac1c0002row5_col3\" class=\"data row5 col3\" >0.042800</td>\n",
              "                        <td id=\"T_073b08c2_d0ea_11ea_b4fd_0242ac1c0002row5_col4\" class=\"data row5 col4\" >0.501300</td>\n",
              "                        <td id=\"T_073b08c2_d0ea_11ea_b4fd_0242ac1c0002row5_col5\" class=\"data row5 col5\" >0.078800</td>\n",
              "                        <td id=\"T_073b08c2_d0ea_11ea_b4fd_0242ac1c0002row5_col6\" class=\"data row5 col6\" >0.051500</td>\n",
              "            </tr>\n",
              "            <tr>\n",
              "                        <th id=\"T_073b08c2_d0ea_11ea_b4fd_0242ac1c0002level0_row6\" class=\"row_heading level0 row6\" >6</th>\n",
              "                        <td id=\"T_073b08c2_d0ea_11ea_b4fd_0242ac1c0002row6_col0\" class=\"data row6 col0\" >Linear Discriminant Analysis</td>\n",
              "                        <td id=\"T_073b08c2_d0ea_11ea_b4fd_0242ac1c0002row6_col1\" class=\"data row6 col1\" >0.816300</td>\n",
              "                        <td id=\"T_073b08c2_d0ea_11ea_b4fd_0242ac1c0002row6_col2\" class=\"data row6 col2\" >0.697200</td>\n",
              "                        <td id=\"T_073b08c2_d0ea_11ea_b4fd_0242ac1c0002row6_col3\" class=\"data row6 col3\" >0.054000</td>\n",
              "                        <td id=\"T_073b08c2_d0ea_11ea_b4fd_0242ac1c0002row6_col4\" class=\"data row6 col4\" >0.484100</td>\n",
              "                        <td id=\"T_073b08c2_d0ea_11ea_b4fd_0242ac1c0002row6_col5\" class=\"data row6 col5\" >0.097200</td>\n",
              "                        <td id=\"T_073b08c2_d0ea_11ea_b4fd_0242ac1c0002row6_col6\" class=\"data row6 col6\" >0.062800</td>\n",
              "            </tr>\n",
              "            <tr>\n",
              "                        <th id=\"T_073b08c2_d0ea_11ea_b4fd_0242ac1c0002level0_row7\" class=\"row_heading level0 row7\" >7</th>\n",
              "                        <td id=\"T_073b08c2_d0ea_11ea_b4fd_0242ac1c0002row7_col0\" class=\"data row7 col0\" >Extra Trees Classifier</td>\n",
              "                        <td id=\"T_073b08c2_d0ea_11ea_b4fd_0242ac1c0002row7_col1\" class=\"data row7 col1\" >0.815500</td>\n",
              "                        <td id=\"T_073b08c2_d0ea_11ea_b4fd_0242ac1c0002row7_col2\" class=\"data row7 col2\" >0.673600</td>\n",
              "                        <td id=\"T_073b08c2_d0ea_11ea_b4fd_0242ac1c0002row7_col3\" class=\"data row7 col3\" >0.039600</td>\n",
              "                        <td id=\"T_073b08c2_d0ea_11ea_b4fd_0242ac1c0002row7_col4\" class=\"data row7 col4\" >0.452400</td>\n",
              "                        <td id=\"T_073b08c2_d0ea_11ea_b4fd_0242ac1c0002row7_col5\" class=\"data row7 col5\" >0.072800</td>\n",
              "                        <td id=\"T_073b08c2_d0ea_11ea_b4fd_0242ac1c0002row7_col6\" class=\"data row7 col6\" >0.044700</td>\n",
              "            </tr>\n",
              "            <tr>\n",
              "                        <th id=\"T_073b08c2_d0ea_11ea_b4fd_0242ac1c0002level0_row8\" class=\"row_heading level0 row8\" >8</th>\n",
              "                        <td id=\"T_073b08c2_d0ea_11ea_b4fd_0242ac1c0002row8_col0\" class=\"data row8 col0\" >Random Forest Classifier</td>\n",
              "                        <td id=\"T_073b08c2_d0ea_11ea_b4fd_0242ac1c0002row8_col1\" class=\"data row8 col1\" >0.810000</td>\n",
              "                        <td id=\"T_073b08c2_d0ea_11ea_b4fd_0242ac1c0002row8_col2\" class=\"data row8 col2\" >0.636500</td>\n",
              "                        <td id=\"T_073b08c2_d0ea_11ea_b4fd_0242ac1c0002row8_col3\" class=\"data row8 col3\" >0.063300</td>\n",
              "                        <td id=\"T_073b08c2_d0ea_11ea_b4fd_0242ac1c0002row8_col4\" class=\"data row8 col4\" >0.384400</td>\n",
              "                        <td id=\"T_073b08c2_d0ea_11ea_b4fd_0242ac1c0002row8_col5\" class=\"data row8 col5\" >0.108600</td>\n",
              "                        <td id=\"T_073b08c2_d0ea_11ea_b4fd_0242ac1c0002row8_col6\" class=\"data row8 col6\" >0.060000</td>\n",
              "            </tr>\n",
              "            <tr>\n",
              "                        <th id=\"T_073b08c2_d0ea_11ea_b4fd_0242ac1c0002level0_row9\" class=\"row_heading level0 row9\" >9</th>\n",
              "                        <td id=\"T_073b08c2_d0ea_11ea_b4fd_0242ac1c0002row9_col0\" class=\"data row9 col0\" >Naive Bayes</td>\n",
              "                        <td id=\"T_073b08c2_d0ea_11ea_b4fd_0242ac1c0002row9_col1\" class=\"data row9 col1\" >0.349900</td>\n",
              "                        <td id=\"T_073b08c2_d0ea_11ea_b4fd_0242ac1c0002row9_col2\" class=\"data row9 col2\" >0.616700</td>\n",
              "                        <td id=\"T_073b08c2_d0ea_11ea_b4fd_0242ac1c0002row9_col3\" class=\"data row9 col3\" >0.833800</td>\n",
              "                        <td id=\"T_073b08c2_d0ea_11ea_b4fd_0242ac1c0002row9_col4\" class=\"data row9 col4\" >0.203900</td>\n",
              "                        <td id=\"T_073b08c2_d0ea_11ea_b4fd_0242ac1c0002row9_col5\" class=\"data row9 col5\" >0.319100</td>\n",
              "                        <td id=\"T_073b08c2_d0ea_11ea_b4fd_0242ac1c0002row9_col6\" class=\"data row9 col6\" >0.039300</td>\n",
              "            </tr>\n",
              "            <tr>\n",
              "                        <th id=\"T_073b08c2_d0ea_11ea_b4fd_0242ac1c0002level0_row10\" class=\"row_heading level0 row10\" >10</th>\n",
              "                        <td id=\"T_073b08c2_d0ea_11ea_b4fd_0242ac1c0002row10_col0\" class=\"data row10 col0\" >K Neighbors Classifier</td>\n",
              "                        <td id=\"T_073b08c2_d0ea_11ea_b4fd_0242ac1c0002row10_col1\" class=\"data row10 col1\" >0.792600</td>\n",
              "                        <td id=\"T_073b08c2_d0ea_11ea_b4fd_0242ac1c0002row10_col2\" class=\"data row10 col2\" >0.604700</td>\n",
              "                        <td id=\"T_073b08c2_d0ea_11ea_b4fd_0242ac1c0002row10_col3\" class=\"data row10 col3\" >0.123200</td>\n",
              "                        <td id=\"T_073b08c2_d0ea_11ea_b4fd_0242ac1c0002row10_col4\" class=\"data row10 col4\" >0.324800</td>\n",
              "                        <td id=\"T_073b08c2_d0ea_11ea_b4fd_0242ac1c0002row10_col5\" class=\"data row10 col5\" >0.178600</td>\n",
              "                        <td id=\"T_073b08c2_d0ea_11ea_b4fd_0242ac1c0002row10_col6\" class=\"data row10 col6\" >0.086700</td>\n",
              "            </tr>\n",
              "            <tr>\n",
              "                        <th id=\"T_073b08c2_d0ea_11ea_b4fd_0242ac1c0002level0_row11\" class=\"row_heading level0 row11\" >11</th>\n",
              "                        <td id=\"T_073b08c2_d0ea_11ea_b4fd_0242ac1c0002row11_col0\" class=\"data row11 col0\" >Quadratic Discriminant Analysis</td>\n",
              "                        <td id=\"T_073b08c2_d0ea_11ea_b4fd_0242ac1c0002row11_col1\" class=\"data row11 col1\" >0.229900</td>\n",
              "                        <td id=\"T_073b08c2_d0ea_11ea_b4fd_0242ac1c0002row11_col2\" class=\"data row11 col2\" >0.544600</td>\n",
              "                        <td id=\"T_073b08c2_d0ea_11ea_b4fd_0242ac1c0002row11_col3\" class=\"data row11 col3\" >0.949700</td>\n",
              "                        <td id=\"T_073b08c2_d0ea_11ea_b4fd_0242ac1c0002row11_col4\" class=\"data row11 col4\" >0.186700</td>\n",
              "                        <td id=\"T_073b08c2_d0ea_11ea_b4fd_0242ac1c0002row11_col5\" class=\"data row11 col5\" >0.311100</td>\n",
              "                        <td id=\"T_073b08c2_d0ea_11ea_b4fd_0242ac1c0002row11_col6\" class=\"data row11 col6\" >0.008200</td>\n",
              "            </tr>\n",
              "            <tr>\n",
              "                        <th id=\"T_073b08c2_d0ea_11ea_b4fd_0242ac1c0002level0_row12\" class=\"row_heading level0 row12\" >12</th>\n",
              "                        <td id=\"T_073b08c2_d0ea_11ea_b4fd_0242ac1c0002row12_col0\" class=\"data row12 col0\" >Decision Tree Classifier</td>\n",
              "                        <td id=\"T_073b08c2_d0ea_11ea_b4fd_0242ac1c0002row12_col1\" class=\"data row12 col1\" >0.718100</td>\n",
              "                        <td id=\"T_073b08c2_d0ea_11ea_b4fd_0242ac1c0002row12_col2\" class=\"data row12 col2\" >0.541400</td>\n",
              "                        <td id=\"T_073b08c2_d0ea_11ea_b4fd_0242ac1c0002row12_col3\" class=\"data row12 col3\" >0.262700</td>\n",
              "                        <td id=\"T_073b08c2_d0ea_11ea_b4fd_0242ac1c0002row12_col4\" class=\"data row12 col4\" >0.246600</td>\n",
              "                        <td id=\"T_073b08c2_d0ea_11ea_b4fd_0242ac1c0002row12_col5\" class=\"data row12 col5\" >0.254300</td>\n",
              "                        <td id=\"T_073b08c2_d0ea_11ea_b4fd_0242ac1c0002row12_col6\" class=\"data row12 col6\" >0.080800</td>\n",
              "            </tr>\n",
              "            <tr>\n",
              "                        <th id=\"T_073b08c2_d0ea_11ea_b4fd_0242ac1c0002level0_row13\" class=\"row_heading level0 row13\" >13</th>\n",
              "                        <td id=\"T_073b08c2_d0ea_11ea_b4fd_0242ac1c0002row13_col0\" class=\"data row13 col0\" >SVM - Linear Kernel</td>\n",
              "                        <td id=\"T_073b08c2_d0ea_11ea_b4fd_0242ac1c0002row13_col1\" class=\"data row13 col1\" >0.817000</td>\n",
              "                        <td id=\"T_073b08c2_d0ea_11ea_b4fd_0242ac1c0002row13_col2\" class=\"data row13 col2\" >0.000000</td>\n",
              "                        <td id=\"T_073b08c2_d0ea_11ea_b4fd_0242ac1c0002row13_col3\" class=\"data row13 col3\" >0.000000</td>\n",
              "                        <td id=\"T_073b08c2_d0ea_11ea_b4fd_0242ac1c0002row13_col4\" class=\"data row13 col4\" >0.000000</td>\n",
              "                        <td id=\"T_073b08c2_d0ea_11ea_b4fd_0242ac1c0002row13_col5\" class=\"data row13 col5\" >0.000000</td>\n",
              "                        <td id=\"T_073b08c2_d0ea_11ea_b4fd_0242ac1c0002row13_col6\" class=\"data row13 col6\" >0.000000</td>\n",
              "            </tr>\n",
              "            <tr>\n",
              "                        <th id=\"T_073b08c2_d0ea_11ea_b4fd_0242ac1c0002level0_row14\" class=\"row_heading level0 row14\" >14</th>\n",
              "                        <td id=\"T_073b08c2_d0ea_11ea_b4fd_0242ac1c0002row14_col0\" class=\"data row14 col0\" >Ridge Classifier</td>\n",
              "                        <td id=\"T_073b08c2_d0ea_11ea_b4fd_0242ac1c0002row14_col1\" class=\"data row14 col1\" >0.817200</td>\n",
              "                        <td id=\"T_073b08c2_d0ea_11ea_b4fd_0242ac1c0002row14_col2\" class=\"data row14 col2\" >0.000000</td>\n",
              "                        <td id=\"T_073b08c2_d0ea_11ea_b4fd_0242ac1c0002row14_col3\" class=\"data row14 col3\" >0.005700</td>\n",
              "                        <td id=\"T_073b08c2_d0ea_11ea_b4fd_0242ac1c0002row14_col4\" class=\"data row14 col4\" >0.557000</td>\n",
              "                        <td id=\"T_073b08c2_d0ea_11ea_b4fd_0242ac1c0002row14_col5\" class=\"data row14 col5\" >0.011200</td>\n",
              "                        <td id=\"T_073b08c2_d0ea_11ea_b4fd_0242ac1c0002row14_col6\" class=\"data row14 col6\" >0.007600</td>\n",
              "            </tr>\n",
              "    </tbody></table>"
            ],
            "text/plain": [
              "<pandas.io.formats.style.Styler at 0x7f96727f8e48>"
            ]
          },
          "metadata": {
            "tags": []
          },
          "execution_count": 21
        }
      ]
    },
    {
      "cell_type": "markdown",
      "metadata": {
        "id": "k4LUpWYQN5eE",
        "colab_type": "text"
      },
      "source": [
        "let's create a Light GBM Model"
      ]
    },
    {
      "cell_type": "code",
      "metadata": {
        "id": "Q0hL-_mOH7dN",
        "colab_type": "code",
        "colab": {
          "base_uri": "https://localhost:8080/",
          "height": 421,
          "referenced_widgets": [
            "894e906e8a9840c19747db0fd475f54b",
            "d4c49e1a852547c7bd824998b7149b74",
            "abec762d6efc4b43adf90e14824ce123"
          ]
        },
        "outputId": "cc4d1819-2b32-4210-b39b-71027daa696e"
      },
      "source": [
        "lgbm  = create_model('lightgbm')      "
      ],
      "execution_count": 24,
      "outputs": [
        {
          "output_type": "display_data",
          "data": {
            "text/html": [
              "<div>\n",
              "<style scoped>\n",
              "    .dataframe tbody tr th:only-of-type {\n",
              "        vertical-align: middle;\n",
              "    }\n",
              "\n",
              "    .dataframe tbody tr th {\n",
              "        vertical-align: top;\n",
              "    }\n",
              "\n",
              "    .dataframe thead th {\n",
              "        text-align: right;\n",
              "    }\n",
              "</style>\n",
              "<table border=\"1\" class=\"dataframe\">\n",
              "  <thead>\n",
              "    <tr style=\"text-align: right;\">\n",
              "      <th></th>\n",
              "      <th>Accuracy</th>\n",
              "      <th>AUC</th>\n",
              "      <th>Recall</th>\n",
              "      <th>Prec.</th>\n",
              "      <th>F1</th>\n",
              "      <th>Kappa</th>\n",
              "    </tr>\n",
              "  </thead>\n",
              "  <tbody>\n",
              "    <tr>\n",
              "      <th>0</th>\n",
              "      <td>0.8169</td>\n",
              "      <td>0.7120</td>\n",
              "      <td>0.0305</td>\n",
              "      <td>0.4961</td>\n",
              "      <td>0.0574</td>\n",
              "      <td>0.0370</td>\n",
              "    </tr>\n",
              "    <tr>\n",
              "      <th>1</th>\n",
              "      <td>0.8172</td>\n",
              "      <td>0.6982</td>\n",
              "      <td>0.0314</td>\n",
              "      <td>0.5116</td>\n",
              "      <td>0.0592</td>\n",
              "      <td>0.0388</td>\n",
              "    </tr>\n",
              "    <tr>\n",
              "      <th>2</th>\n",
              "      <td>0.8180</td>\n",
              "      <td>0.7149</td>\n",
              "      <td>0.0338</td>\n",
              "      <td>0.5462</td>\n",
              "      <td>0.0636</td>\n",
              "      <td>0.0432</td>\n",
              "    </tr>\n",
              "    <tr>\n",
              "      <th>3</th>\n",
              "      <td>0.8167</td>\n",
              "      <td>0.6967</td>\n",
              "      <td>0.0286</td>\n",
              "      <td>0.4878</td>\n",
              "      <td>0.0540</td>\n",
              "      <td>0.0344</td>\n",
              "    </tr>\n",
              "    <tr>\n",
              "      <th>4</th>\n",
              "      <td>0.8171</td>\n",
              "      <td>0.7101</td>\n",
              "      <td>0.0305</td>\n",
              "      <td>0.5039</td>\n",
              "      <td>0.0575</td>\n",
              "      <td>0.0374</td>\n",
              "    </tr>\n",
              "    <tr>\n",
              "      <th>5</th>\n",
              "      <td>0.8173</td>\n",
              "      <td>0.7010</td>\n",
              "      <td>0.0362</td>\n",
              "      <td>0.5135</td>\n",
              "      <td>0.0676</td>\n",
              "      <td>0.0446</td>\n",
              "    </tr>\n",
              "    <tr>\n",
              "      <th>6</th>\n",
              "      <td>0.8176</td>\n",
              "      <td>0.7148</td>\n",
              "      <td>0.0352</td>\n",
              "      <td>0.5248</td>\n",
              "      <td>0.0660</td>\n",
              "      <td>0.0440</td>\n",
              "    </tr>\n",
              "    <tr>\n",
              "      <th>7</th>\n",
              "      <td>0.8184</td>\n",
              "      <td>0.7093</td>\n",
              "      <td>0.0295</td>\n",
              "      <td>0.5741</td>\n",
              "      <td>0.0561</td>\n",
              "      <td>0.0389</td>\n",
              "    </tr>\n",
              "    <tr>\n",
              "      <th>8</th>\n",
              "      <td>0.8187</td>\n",
              "      <td>0.7090</td>\n",
              "      <td>0.0390</td>\n",
              "      <td>0.5694</td>\n",
              "      <td>0.0731</td>\n",
              "      <td>0.0508</td>\n",
              "    </tr>\n",
              "    <tr>\n",
              "      <th>9</th>\n",
              "      <td>0.8177</td>\n",
              "      <td>0.7075</td>\n",
              "      <td>0.0304</td>\n",
              "      <td>0.5378</td>\n",
              "      <td>0.0576</td>\n",
              "      <td>0.0388</td>\n",
              "    </tr>\n",
              "    <tr>\n",
              "      <th>Mean</th>\n",
              "      <td>0.8176</td>\n",
              "      <td>0.7073</td>\n",
              "      <td>0.0325</td>\n",
              "      <td>0.5265</td>\n",
              "      <td>0.0612</td>\n",
              "      <td>0.0408</td>\n",
              "    </tr>\n",
              "    <tr>\n",
              "      <th>SD</th>\n",
              "      <td>0.0006</td>\n",
              "      <td>0.0062</td>\n",
              "      <td>0.0032</td>\n",
              "      <td>0.0282</td>\n",
              "      <td>0.0058</td>\n",
              "      <td>0.0046</td>\n",
              "    </tr>\n",
              "  </tbody>\n",
              "</table>\n",
              "</div>"
            ],
            "text/plain": [
              "      Accuracy     AUC  Recall   Prec.      F1   Kappa\n",
              "0       0.8169  0.7120  0.0305  0.4961  0.0574  0.0370\n",
              "1       0.8172  0.6982  0.0314  0.5116  0.0592  0.0388\n",
              "2       0.8180  0.7149  0.0338  0.5462  0.0636  0.0432\n",
              "3       0.8167  0.6967  0.0286  0.4878  0.0540  0.0344\n",
              "4       0.8171  0.7101  0.0305  0.5039  0.0575  0.0374\n",
              "5       0.8173  0.7010  0.0362  0.5135  0.0676  0.0446\n",
              "6       0.8176  0.7148  0.0352  0.5248  0.0660  0.0440\n",
              "7       0.8184  0.7093  0.0295  0.5741  0.0561  0.0389\n",
              "8       0.8187  0.7090  0.0390  0.5694  0.0731  0.0508\n",
              "9       0.8177  0.7075  0.0304  0.5378  0.0576  0.0388\n",
              "Mean    0.8176  0.7073  0.0325  0.5265  0.0612  0.0408\n",
              "SD      0.0006  0.0062  0.0032  0.0282  0.0058  0.0046"
            ]
          },
          "metadata": {
            "tags": []
          }
        }
      ]
    },
    {
      "cell_type": "markdown",
      "metadata": {
        "id": "pdne8PxUO775",
        "colab_type": "text"
      },
      "source": [
        "**Tuning of LGBM**"
      ]
    },
    {
      "cell_type": "code",
      "metadata": {
        "id": "Jk4TZcVmOalk",
        "colab_type": "code",
        "colab": {
          "base_uri": "https://localhost:8080/",
          "height": 421,
          "referenced_widgets": [
            "31e6a7db375a46399b4a4c293afb3e51",
            "933f29c6e7414ce7b4ff566722c541f3",
            "7ce0d1bcacfd4920b8652252323e223e"
          ]
        },
        "outputId": "81cff7c3-256f-48ad-949a-c42f63d1785a"
      },
      "source": [
        "tuned_lightgbm = tune_model('lightgbm')"
      ],
      "execution_count": 25,
      "outputs": [
        {
          "output_type": "display_data",
          "data": {
            "text/html": [
              "<div>\n",
              "<style scoped>\n",
              "    .dataframe tbody tr th:only-of-type {\n",
              "        vertical-align: middle;\n",
              "    }\n",
              "\n",
              "    .dataframe tbody tr th {\n",
              "        vertical-align: top;\n",
              "    }\n",
              "\n",
              "    .dataframe thead th {\n",
              "        text-align: right;\n",
              "    }\n",
              "</style>\n",
              "<table border=\"1\" class=\"dataframe\">\n",
              "  <thead>\n",
              "    <tr style=\"text-align: right;\">\n",
              "      <th></th>\n",
              "      <th>Accuracy</th>\n",
              "      <th>AUC</th>\n",
              "      <th>Recall</th>\n",
              "      <th>Prec.</th>\n",
              "      <th>F1</th>\n",
              "      <th>Kappa</th>\n",
              "    </tr>\n",
              "  </thead>\n",
              "  <tbody>\n",
              "    <tr>\n",
              "      <th>0</th>\n",
              "      <td>0.8149</td>\n",
              "      <td>0.7059</td>\n",
              "      <td>0.0509</td>\n",
              "      <td>0.4496</td>\n",
              "      <td>0.0915</td>\n",
              "      <td>0.0563</td>\n",
              "    </tr>\n",
              "    <tr>\n",
              "      <th>1</th>\n",
              "      <td>0.8161</td>\n",
              "      <td>0.6965</td>\n",
              "      <td>0.0490</td>\n",
              "      <td>0.4769</td>\n",
              "      <td>0.0889</td>\n",
              "      <td>0.0567</td>\n",
              "    </tr>\n",
              "    <tr>\n",
              "      <th>2</th>\n",
              "      <td>0.8169</td>\n",
              "      <td>0.7076</td>\n",
              "      <td>0.0576</td>\n",
              "      <td>0.4979</td>\n",
              "      <td>0.1032</td>\n",
              "      <td>0.0679</td>\n",
              "    </tr>\n",
              "    <tr>\n",
              "      <th>3</th>\n",
              "      <td>0.8177</td>\n",
              "      <td>0.6909</td>\n",
              "      <td>0.0566</td>\n",
              "      <td>0.5174</td>\n",
              "      <td>0.1021</td>\n",
              "      <td>0.0685</td>\n",
              "    </tr>\n",
              "    <tr>\n",
              "      <th>4</th>\n",
              "      <td>0.8146</td>\n",
              "      <td>0.7043</td>\n",
              "      <td>0.0443</td>\n",
              "      <td>0.4366</td>\n",
              "      <td>0.0804</td>\n",
              "      <td>0.0483</td>\n",
              "    </tr>\n",
              "    <tr>\n",
              "      <th>5</th>\n",
              "      <td>0.8164</td>\n",
              "      <td>0.6973</td>\n",
              "      <td>0.0538</td>\n",
              "      <td>0.4850</td>\n",
              "      <td>0.0968</td>\n",
              "      <td>0.0626</td>\n",
              "    </tr>\n",
              "    <tr>\n",
              "      <th>6</th>\n",
              "      <td>0.8157</td>\n",
              "      <td>0.7057</td>\n",
              "      <td>0.0585</td>\n",
              "      <td>0.4713</td>\n",
              "      <td>0.1041</td>\n",
              "      <td>0.0664</td>\n",
              "    </tr>\n",
              "    <tr>\n",
              "      <th>7</th>\n",
              "      <td>0.8204</td>\n",
              "      <td>0.7046</td>\n",
              "      <td>0.0643</td>\n",
              "      <td>0.5844</td>\n",
              "      <td>0.1158</td>\n",
              "      <td>0.0825</td>\n",
              "    </tr>\n",
              "    <tr>\n",
              "      <th>8</th>\n",
              "      <td>0.8170</td>\n",
              "      <td>0.7012</td>\n",
              "      <td>0.0543</td>\n",
              "      <td>0.5000</td>\n",
              "      <td>0.0979</td>\n",
              "      <td>0.0644</td>\n",
              "    </tr>\n",
              "    <tr>\n",
              "      <th>9</th>\n",
              "      <td>0.8157</td>\n",
              "      <td>0.7032</td>\n",
              "      <td>0.0523</td>\n",
              "      <td>0.4701</td>\n",
              "      <td>0.0942</td>\n",
              "      <td>0.0597</td>\n",
              "    </tr>\n",
              "    <tr>\n",
              "      <th>Mean</th>\n",
              "      <td>0.8165</td>\n",
              "      <td>0.7017</td>\n",
              "      <td>0.0542</td>\n",
              "      <td>0.4889</td>\n",
              "      <td>0.0975</td>\n",
              "      <td>0.0633</td>\n",
              "    </tr>\n",
              "    <tr>\n",
              "      <th>SD</th>\n",
              "      <td>0.0016</td>\n",
              "      <td>0.0050</td>\n",
              "      <td>0.0053</td>\n",
              "      <td>0.0390</td>\n",
              "      <td>0.0092</td>\n",
              "      <td>0.0087</td>\n",
              "    </tr>\n",
              "  </tbody>\n",
              "</table>\n",
              "</div>"
            ],
            "text/plain": [
              "      Accuracy     AUC  Recall   Prec.      F1   Kappa\n",
              "0       0.8149  0.7059  0.0509  0.4496  0.0915  0.0563\n",
              "1       0.8161  0.6965  0.0490  0.4769  0.0889  0.0567\n",
              "2       0.8169  0.7076  0.0576  0.4979  0.1032  0.0679\n",
              "3       0.8177  0.6909  0.0566  0.5174  0.1021  0.0685\n",
              "4       0.8146  0.7043  0.0443  0.4366  0.0804  0.0483\n",
              "5       0.8164  0.6973  0.0538  0.4850  0.0968  0.0626\n",
              "6       0.8157  0.7057  0.0585  0.4713  0.1041  0.0664\n",
              "7       0.8204  0.7046  0.0643  0.5844  0.1158  0.0825\n",
              "8       0.8170  0.7012  0.0543  0.5000  0.0979  0.0644\n",
              "9       0.8157  0.7032  0.0523  0.4701  0.0942  0.0597\n",
              "Mean    0.8165  0.7017  0.0542  0.4889  0.0975  0.0633\n",
              "SD      0.0016  0.0050  0.0053  0.0390  0.0092  0.0087"
            ]
          },
          "metadata": {
            "tags": []
          }
        }
      ]
    },
    {
      "cell_type": "markdown",
      "metadata": {
        "id": "v54AXjwePJhp",
        "colab_type": "text"
      },
      "source": [
        "**Learning Curve**"
      ]
    },
    {
      "cell_type": "code",
      "metadata": {
        "id": "7rk-eLfsPDYV",
        "colab_type": "code",
        "colab": {
          "base_uri": "https://localhost:8080/",
          "height": 376,
          "referenced_widgets": [
            "8e6d14514b974043bf11ccbadb62e4c7",
            "ff39c523a4c746bbb05f63af11931906",
            "8be5a7b73daa493fbdcac6884145c196"
          ]
        },
        "outputId": "0dac2ae6-13f0-4aef-a9a3-29d3fe99300e"
      },
      "source": [
        "plot_model(estimator = tuned_lightgbm, plot = 'learning')"
      ],
      "execution_count": 26,
      "outputs": [
        {
          "output_type": "display_data",
          "data": {
            "image/png": "[encoded data removed]",
            "text/plain": [
              "<Figure size 576x396 with 1 Axes>"
            ]
          },
          "metadata": {
            "tags": []
          }
        }
      ]
    },
    {
      "cell_type": "markdown",
      "metadata": {
        "id": "qnmRIs43PiFQ",
        "colab_type": "text"
      },
      "source": [
        "**AUC Curve**"
      ]
    },
    {
      "cell_type": "code",
      "metadata": {
        "id": "-_FgIf9SPWBF",
        "colab_type": "code",
        "colab": {
          "base_uri": "https://localhost:8080/",
          "height": 376,
          "referenced_widgets": [
            "698c22919d18485db14b9c4b879024ac",
            "ea40718f999c42c7ab1bc75cabf4b462",
            "392c72fc81094922b64274421175d035"
          ]
        },
        "outputId": "38d84f88-349d-4e3c-c0f6-c7146bfb9a09"
      },
      "source": [
        "plot_model(estimator = tuned_lightgbm, plot = 'auc')"
      ],
      "execution_count": 27,
      "outputs": [
        {
          "output_type": "display_data",
          "data": {
            "image/png": "[encoded data removed]",
            "text/plain": [
              "<Figure size 576x396 with 1 Axes>"
            ]
          },
          "metadata": {
            "tags": []
          }
        }
      ]
    },
    {
      "cell_type": "markdown",
      "metadata": {
        "id": "Uw17MuQvPymE",
        "colab_type": "text"
      },
      "source": [
        "**Confusion Matrix**"
      ]
    },
    {
      "cell_type": "code",
      "metadata": {
        "id": "AdGK4SLfPvJT",
        "colab_type": "code",
        "colab": {
          "base_uri": "https://localhost:8080/",
          "height": 374,
          "referenced_widgets": [
            "2fe81a361ee546cb87d8050b459d6583"
          ]
        },
        "outputId": "5f171ece-b4b4-4e5c-eee7-c1397c8fc365"
      },
      "source": [
        "plot_model(estimator = tuned_lightgbm, plot = 'confusion_matrix')"
      ],
      "execution_count": 28,
      "outputs": [
        {
          "output_type": "display_data",
          "data": {
            "image/png": "[encoded data removed]",
            "text/plain": [
              "<Figure size 576x396 with 1 Axes>"
            ]
          },
          "metadata": {
            "tags": []
          }
        }
      ]
    },
    {
      "cell_type": "markdown",
      "metadata": {
        "id": "IfYfPJ1UQIMW",
        "colab_type": "text"
      },
      "source": [
        "**Feature Importance**"
      ]
    },
    {
      "cell_type": "code",
      "metadata": {
        "id": "7J_rhVPTP_gd",
        "colab_type": "code",
        "colab": {
          "base_uri": "https://localhost:8080/",
          "height": 349,
          "referenced_widgets": [
            "c2a5bc9da69546c29b3d40d848cbd6f4"
          ]
        },
        "outputId": "98ddf3e0-22db-4c07-93e7-0ad7894a6036"
      },
      "source": [
        "plot_model(estimator = tuned_lightgbm, plot = 'feature')"
      ],
      "execution_count": 29,
      "outputs": [
        {
          "output_type": "display_data",
          "data": {
            "image/png": "[encoded data removed]",
            "text/plain": [
              "<Figure size 576x360 with 1 Axes>"
            ]
          },
          "metadata": {
            "tags": []
          }
        }
      ]
    },
    {
      "cell_type": "code",
      "metadata": {
        "id": "PZNYd8qkQPW_",
        "colab_type": "code",
        "colab": {
          "base_uri": "https://localhost:8080/",
          "height": 140,
          "referenced_widgets": [
            "140bc606a6554175a04b99c67810b221",
            "599dc89219a8430186f94de9caa18c91",
            "80722d6cb22949968b6cce931e3feb15",
            "16865d06c751414aae5df1c026e1f4f8",
            "61b8826cf8b143e084a6d2c83c35fd81",
            "404e3a1ceb45462186dd1696ac5b4c02",
            "9a2a75bf381d462ab0bdfd41cf278150",
            "3ccda18209f44fcc855423aa801866dd",
            "7e2ddede09ad4b49b2a9480181de5a31",
            "8ebb33e4d44c44e9982aac876129b3f7",
            "92afea05024c4658b7349b77ada972cd",
            "2b24668c138f4e5f95e75316ab271b68",
            "d6cfb89eaad045c282a8ae0d12bb87a0",
            "0ca1ae06f5fb49f18db1ffe599286db8",
            "9fcd296cf68949e6a79664b38fbf6ebe",
            "273336639d9a461c9464af053ec9d248",
            "e33b371ebd90434abfe9f84c94287860",
            "b20c24bd74e542b59543b0c6c61a09e6",
            "611ebb9cc2f148bfb3271a1592f83245",
            "6dfbf7f201ee4edd89a14b73c35e088a",
            "7302a71d0f31413395bfd33b3b460507",
            "79fca524f5d44e1ab8514e2f66f4d212",
            "b73ba36479d942589b4cbc78058d6bef",
            "9651367ed9444bafb1e39db747f25e62",
            "89a5ecd5b804481093b1354b24996b77"
          ]
        },
        "outputId": "cc1de20b-13e0-4770-d984-7b1face55769"
      },
      "source": [
        "evaluate_model(tuned_lightgbm)"
      ],
      "execution_count": 35,
      "outputs": [
        {
          "output_type": "display_data",
          "data": {
            "application/vnd.jupyter.widget-view+json": {
              "model_id": "140bc606a6554175a04b99c67810b221",
              "version_minor": 0,
              "version_major": 2
            },
            "text/plain": [
              "interactive(children=(ToggleButtons(description='Plot Type:', icons=('',), options=(('Hyperparameters', 'param…"
            ]
          },
          "metadata": {
            "tags": []
          }
        }
      ]
    },
    {
      "cell_type": "markdown",
      "metadata": {
        "id": "BelZT9lcQoL4",
        "colab_type": "text"
      },
      "source": [
        "**Interpretation**"
      ]
    },
    {
      "cell_type": "code",
      "metadata": {
        "id": "rCpADhLsQcCp",
        "colab_type": "code",
        "colab": {
          "base_uri": "https://localhost:8080/",
          "height": 580
        },
        "outputId": "a64ff1bc-301c-43de-eb45-6d1f58d098d5"
      },
      "source": [
        "interpret_model(tuned_lightgbm)"
      ],
      "execution_count": 31,
      "outputs": [
        {
          "output_type": "display_data",
          "data": {
            "image/png": "[encoded data removed]",
            "text/plain": [
              "<Figure size 576x684 with 1 Axes>"
            ]
          },
          "metadata": {
            "tags": []
          }
        }
      ]
    },
    {
      "cell_type": "markdown",
      "metadata": {
        "id": "3DxmLc3xRmGq",
        "colab_type": "text"
      },
      "source": [
        "**Blending of Models**"
      ]
    },
    {
      "cell_type": "code",
      "metadata": {
        "id": "-XaH_mwuRrYF",
        "colab_type": "code",
        "colab": {
          "base_uri": "https://localhost:8080/",
          "height": 421,
          "referenced_widgets": [
            "fdd4a935459d4483acbdadf6d7b1fce2",
            "6e6990792df74caebaf590b93401f889",
            "536b070c2d6e4efa9afa4fc70935df3c",
            "0ab3649c80344fe5b677398f800b1578",
            "b2b33fdd145c4c8480d6dcd474dcf401",
            "9395276ed0c84118b0821fc0fe447fe0",
            "f4afa59a594a436594b65f7ab7ae17ec",
            "73f0ae600295443289d81420ac0da21f",
            "9cc398f58fbb4ac3b36c1972862cc551"
          ]
        },
        "outputId": "151b8c4d-363a-43ab-ced5-b40d61f29dd1"
      },
      "source": [
        "logr  = create_model('lr');      \n",
        "xgb   = create_model('xgboost');            \n",
        "\n",
        "#blending 3 models\n",
        "blend = blend_models(estimator_list=[tuned_lightgbm,logr,xgb])"
      ],
      "execution_count": 32,
      "outputs": [
        {
          "output_type": "display_data",
          "data": {
            "text/html": [
              "<div>\n",
              "<style scoped>\n",
              "    .dataframe tbody tr th:only-of-type {\n",
              "        vertical-align: middle;\n",
              "    }\n",
              "\n",
              "    .dataframe tbody tr th {\n",
              "        vertical-align: top;\n",
              "    }\n",
              "\n",
              "    .dataframe thead th {\n",
              "        text-align: right;\n",
              "    }\n",
              "</style>\n",
              "<table border=\"1\" class=\"dataframe\">\n",
              "  <thead>\n",
              "    <tr style=\"text-align: right;\">\n",
              "      <th></th>\n",
              "      <th>Accuracy</th>\n",
              "      <th>AUC</th>\n",
              "      <th>Recall</th>\n",
              "      <th>Prec.</th>\n",
              "      <th>F1</th>\n",
              "      <th>Kappa</th>\n",
              "    </tr>\n",
              "  </thead>\n",
              "  <tbody>\n",
              "    <tr>\n",
              "      <th>0</th>\n",
              "      <td>0.8177</td>\n",
              "      <td>0.0</td>\n",
              "      <td>0.0271</td>\n",
              "      <td>0.5377</td>\n",
              "      <td>0.0517</td>\n",
              "      <td>0.0347</td>\n",
              "    </tr>\n",
              "    <tr>\n",
              "      <th>1</th>\n",
              "      <td>0.8175</td>\n",
              "      <td>0.0</td>\n",
              "      <td>0.0252</td>\n",
              "      <td>0.5300</td>\n",
              "      <td>0.0482</td>\n",
              "      <td>0.0321</td>\n",
              "    </tr>\n",
              "    <tr>\n",
              "      <th>2</th>\n",
              "      <td>0.8178</td>\n",
              "      <td>0.0</td>\n",
              "      <td>0.0305</td>\n",
              "      <td>0.5424</td>\n",
              "      <td>0.0577</td>\n",
              "      <td>0.0390</td>\n",
              "    </tr>\n",
              "    <tr>\n",
              "      <th>3</th>\n",
              "      <td>0.8178</td>\n",
              "      <td>0.0</td>\n",
              "      <td>0.0271</td>\n",
              "      <td>0.5429</td>\n",
              "      <td>0.0517</td>\n",
              "      <td>0.0349</td>\n",
              "    </tr>\n",
              "    <tr>\n",
              "      <th>4</th>\n",
              "      <td>0.8164</td>\n",
              "      <td>0.0</td>\n",
              "      <td>0.0257</td>\n",
              "      <td>0.4737</td>\n",
              "      <td>0.0488</td>\n",
              "      <td>0.0305</td>\n",
              "    </tr>\n",
              "    <tr>\n",
              "      <th>5</th>\n",
              "      <td>0.8171</td>\n",
              "      <td>0.0</td>\n",
              "      <td>0.0267</td>\n",
              "      <td>0.5045</td>\n",
              "      <td>0.0506</td>\n",
              "      <td>0.0329</td>\n",
              "    </tr>\n",
              "    <tr>\n",
              "      <th>6</th>\n",
              "      <td>0.8181</td>\n",
              "      <td>0.0</td>\n",
              "      <td>0.0333</td>\n",
              "      <td>0.5512</td>\n",
              "      <td>0.0628</td>\n",
              "      <td>0.0429</td>\n",
              "    </tr>\n",
              "    <tr>\n",
              "      <th>7</th>\n",
              "      <td>0.8190</td>\n",
              "      <td>0.0</td>\n",
              "      <td>0.0305</td>\n",
              "      <td>0.6095</td>\n",
              "      <td>0.0580</td>\n",
              "      <td>0.0413</td>\n",
              "    </tr>\n",
              "    <tr>\n",
              "      <th>8</th>\n",
              "      <td>0.8179</td>\n",
              "      <td>0.0</td>\n",
              "      <td>0.0319</td>\n",
              "      <td>0.5447</td>\n",
              "      <td>0.0603</td>\n",
              "      <td>0.0408</td>\n",
              "    </tr>\n",
              "    <tr>\n",
              "      <th>9</th>\n",
              "      <td>0.8168</td>\n",
              "      <td>0.0</td>\n",
              "      <td>0.0252</td>\n",
              "      <td>0.4953</td>\n",
              "      <td>0.0480</td>\n",
              "      <td>0.0308</td>\n",
              "    </tr>\n",
              "    <tr>\n",
              "      <th>Mean</th>\n",
              "      <td>0.8176</td>\n",
              "      <td>0.0</td>\n",
              "      <td>0.0283</td>\n",
              "      <td>0.5332</td>\n",
              "      <td>0.0538</td>\n",
              "      <td>0.0360</td>\n",
              "    </tr>\n",
              "    <tr>\n",
              "      <th>SD</th>\n",
              "      <td>0.0007</td>\n",
              "      <td>0.0</td>\n",
              "      <td>0.0028</td>\n",
              "      <td>0.0351</td>\n",
              "      <td>0.0052</td>\n",
              "      <td>0.0044</td>\n",
              "    </tr>\n",
              "  </tbody>\n",
              "</table>\n",
              "</div>"
            ],
            "text/plain": [
              "      Accuracy  AUC  Recall   Prec.      F1   Kappa\n",
              "0       0.8177  0.0  0.0271  0.5377  0.0517  0.0347\n",
              "1       0.8175  0.0  0.0252  0.5300  0.0482  0.0321\n",
              "2       0.8178  0.0  0.0305  0.5424  0.0577  0.0390\n",
              "3       0.8178  0.0  0.0271  0.5429  0.0517  0.0349\n",
              "4       0.8164  0.0  0.0257  0.4737  0.0488  0.0305\n",
              "5       0.8171  0.0  0.0267  0.5045  0.0506  0.0329\n",
              "6       0.8181  0.0  0.0333  0.5512  0.0628  0.0429\n",
              "7       0.8190  0.0  0.0305  0.6095  0.0580  0.0413\n",
              "8       0.8179  0.0  0.0319  0.5447  0.0603  0.0408\n",
              "9       0.8168  0.0  0.0252  0.4953  0.0480  0.0308\n",
              "Mean    0.8176  0.0  0.0283  0.5332  0.0538  0.0360\n",
              "SD      0.0007  0.0  0.0028  0.0351  0.0052  0.0044"
            ]
          },
          "metadata": {
            "tags": []
          }
        }
      ]
    },
    {
      "cell_type": "code",
      "metadata": {
        "id": "BZDQpue8cNMO",
        "colab_type": "code",
        "colab": {
          "base_uri": "https://localhost:8080/",
          "height": 376,
          "referenced_widgets": [
            "fa90c223918a4101a61922ca90dd8809"
          ]
        },
        "outputId": "8605109e-38cb-4f0e-fff4-e66662cff9aa"
      },
      "source": [
        "plot_model(tuned_lightgbm, plot = 'pr')"
      ],
      "execution_count": 34,
      "outputs": [
        {
          "output_type": "display_data",
          "data": {
            "image/png": "[encoded data removed]",
            "text/plain": [
              "<Figure size 576x396 with 1 Axes>"
            ]
          },
          "metadata": {
            "tags": []
          }
        }
      ]
    },
    {
      "cell_type": "code",
      "metadata": {
        "id": "VXNUsZZoeOx0",
        "colab_type": "code",
        "colab": {}
      },
      "source": [
        ""
      ],
      "execution_count": null,
      "outputs": []
    }
  ]
}